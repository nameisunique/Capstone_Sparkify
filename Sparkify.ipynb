{
 "cells": [
  {
   "cell_type": "markdown",
   "metadata": {},
   "source": [
    "# Sparkify Capstone Project"
   ]
  },
  {
   "cell_type": "markdown",
   "metadata": {},
   "source": [
    "### Executive Summary and Business Overview\n",
    "\n",
    "Sparkify is Udacity's (on paper...so far) music streaming service, that produces data similar to Spotify or Pandora. User play and/or rate their favorite songs through such services on a daily basis. The business model employed is a free and pay tiered system where free/unpaid users have generally limited access and often using advertisements to offset the royalty fees paid to music artists. Users have the ability to upgrade their service (become a paying customer), or downgrade their service (from paying to non-paying); both tiers have the ability to cancel their service, and that lost of a customer would be considered \"customer churn\".\n",
    "\n",
    "All user interaction with Sparkify revolves around these activities:\n",
    "\n",
    "* Play a song \n",
    "* Creating and updating playlists\n",
    "* Rating song with the thumbs up or thumbs down button\n",
    "* Add a friend\n",
    "* Logging in or out\n",
    "* Changing settings\n",
    "\n",
    "Each of these activites generates an entry into the user logs. Naturally, log analytics are a key factor for the Sparkify marketing team and all the executive staff.\n",
    "\n",
    "### Project Objectives\n",
    "\n",
    "* gain insight into the data \n",
    "* understand who is churning \n",
    "* what is driving that churn.\n",
    "\n",
    "## Sparkify Overview\n",
    "\n",
    "<p>This is my Capstone project, I'll be using Spark to analyze data from user log files from music app Sparkify.</p>\n",
    "\n",
    "<p>Sparkify is a freeware/payware music app, similar to Pandora or Spotify.  The data we will analyze have contains Sparkify user logs that contain user interaction with the app. The log contains some basic user information as well as essentially click-thru information. Our user community consists of \n",
    "\n",
    "* Guests\n",
    "* Free/non-paying customers\n",
    "* Paying customer</p>\n",
    "\n",
    "<p>Our mission is to review and wrangle the data and engineer relevant features for predicting churn. Churn for us means either a Free or Paying customer cancels their service. </p>\n"
   ]
  },
  {
   "cell_type": "code",
   "execution_count": 1,
   "metadata": {},
   "outputs": [],
   "source": [
    "# import libraries\n",
    "\n",
    "from pyspark.sql import SparkSession\n",
    "\n",
    "from pyspark.sql.functions import avg, col, concat, desc, explode, lit, min, max, split, udf, count, isnan, when, isnull, collect_list,udf,countDistinct\n",
    "from pyspark.sql.types import IntegerType, DateType\n",
    "\n",
    "import pandas as pd\n",
    "import numpy as np\n",
    "import matplotlib.pyplot as plt\n",
    "import seaborn as sns\n",
    "\n",
    "import datetime\n",
    "\n",
    "import warnings\n",
    "warnings.filterwarnings('ignore')\n",
    "%matplotlib inline\n",
    "\n",
    "\n",
    "from pyspark.ml.feature import CountVectorizer, IDF, Normalizer, PCA, RegexTokenizer, StandardScaler, StopWordsRemover, StringIndexer, VectorAssembler\n",
    "from pyspark.sql import Window\n",
    "from pyspark.ml.feature import OneHotEncoder, StringIndexer\n",
    "from pyspark.ml.regression import LinearRegression\n",
    "from pyspark.ml.tuning import CrossValidator, ParamGridBuilder\n",
    "from pyspark.ml import Pipeline\n",
    "from pyspark.ml.classification import LogisticRegression, RandomForestClassifier, GBTClassifier\n",
    "from pyspark.ml.evaluation import MulticlassClassificationEvaluator\n",
    "from pyspark.ml.evaluation import BinaryClassificationEvaluator\n",
    "\n",
    "import time "
   ]
  },
  {
   "cell_type": "code",
   "execution_count": 2,
   "metadata": {},
   "outputs": [],
   "source": [
    "# create a Spark session\n",
    "spark = SparkSession.builder \\\n",
    "    .master(\"local\") \\\n",
    "    .appName(\"Sparkify\") \\\n",
    "    .getOrCreate()"
   ]
  },
  {
   "cell_type": "code",
   "execution_count": 3,
   "metadata": {},
   "outputs": [
    {
     "name": "stdout",
     "output_type": "stream",
     "text": [
      "3.7.6\n"
     ]
    }
   ],
   "source": [
    "from platform import python_version\n",
    "print(python_version())"
   ]
  },
  {
   "cell_type": "code",
   "execution_count": 4,
   "metadata": {},
   "outputs": [
    {
     "data": {
      "text/html": [
       "\n",
       "            <div>\n",
       "                <p><b>SparkSession - hive</b></p>\n",
       "                \n",
       "        <div>\n",
       "            <p><b>SparkContext</b></p>\n",
       "\n",
       "            <p><a href=\"http://localhost:4040\">Spark UI</a></p>\n",
       "\n",
       "            <dl>\n",
       "              <dt>Version</dt>\n",
       "                <dd><code>v2.4.3</code></dd>\n",
       "              <dt>Master</dt>\n",
       "                <dd><code>local[*]</code></dd>\n",
       "              <dt>AppName</dt>\n",
       "                <dd><code>PySparkShell</code></dd>\n",
       "            </dl>\n",
       "        </div>\n",
       "        \n",
       "            </div>\n",
       "        "
      ],
      "text/plain": [
       "<pyspark.sql.session.SparkSession at 0x11abe8f90>"
      ]
     },
     "execution_count": 4,
     "metadata": {},
     "output_type": "execute_result"
    }
   ],
   "source": [
    "spark"
   ]
  },
  {
   "cell_type": "markdown",
   "metadata": {},
   "source": [
    "# Load and Clean Dataset\n",
    "In this workspace, the mini-dataset file is `mini_sparkify_event_data.json`. Load and clean the dataset, checking for invalid or missing data - for example, records without userids or sessionids. "
   ]
  },
  {
   "cell_type": "code",
   "execution_count": 5,
   "metadata": {
    "scrolled": true
   },
   "outputs": [
    {
     "data": {
      "text/plain": [
       "Row(artist='Martha Tilston', auth='Logged In', firstName='Colin', gender='M', itemInSession=50, lastName='Freeman', length=277.89016, level='paid', location='Bakersfield, CA', method='PUT', page='NextSong', registration=1538173362000, sessionId=29, song='Rockpools', status=200, ts=1538352117000, userAgent='Mozilla/5.0 (Windows NT 6.1; WOW64; rv:31.0) Gecko/20100101 Firefox/31.0', userId='30')"
      ]
     },
     "execution_count": 5,
     "metadata": {},
     "output_type": "execute_result"
    }
   ],
   "source": [
    "df = spark.read.json(\"data/mini_sparkify_event_data.json\")\n",
    "df.head()"
   ]
  },
  {
   "cell_type": "code",
   "execution_count": 6,
   "metadata": {
    "scrolled": true
   },
   "outputs": [
    {
     "data": {
      "text/plain": [
       "[Row(artist='Martha Tilston', auth='Logged In', firstName='Colin', gender='M', itemInSession=50, lastName='Freeman', length=277.89016, level='paid', location='Bakersfield, CA', method='PUT', page='NextSong', registration=1538173362000, sessionId=29, song='Rockpools', status=200, ts=1538352117000, userAgent='Mozilla/5.0 (Windows NT 6.1; WOW64; rv:31.0) Gecko/20100101 Firefox/31.0', userId='30'),\n",
       " Row(artist='Five Iron Frenzy', auth='Logged In', firstName='Micah', gender='M', itemInSession=79, lastName='Long', length=236.09424, level='free', location='Boston-Cambridge-Newton, MA-NH', method='PUT', page='NextSong', registration=1538331630000, sessionId=8, song='Canada', status=200, ts=1538352180000, userAgent='\"Mozilla/5.0 (Windows NT 6.1; WOW64) AppleWebKit/537.36 (KHTML, like Gecko) Chrome/37.0.2062.103 Safari/537.36\"', userId='9'),\n",
       " Row(artist='Adam Lambert', auth='Logged In', firstName='Colin', gender='M', itemInSession=51, lastName='Freeman', length=282.8273, level='paid', location='Bakersfield, CA', method='PUT', page='NextSong', registration=1538173362000, sessionId=29, song='Time For Miracles', status=200, ts=1538352394000, userAgent='Mozilla/5.0 (Windows NT 6.1; WOW64; rv:31.0) Gecko/20100101 Firefox/31.0', userId='30'),\n",
       " Row(artist='Enigma', auth='Logged In', firstName='Micah', gender='M', itemInSession=80, lastName='Long', length=262.71302, level='free', location='Boston-Cambridge-Newton, MA-NH', method='PUT', page='NextSong', registration=1538331630000, sessionId=8, song='Knocking On Forbidden Doors', status=200, ts=1538352416000, userAgent='\"Mozilla/5.0 (Windows NT 6.1; WOW64) AppleWebKit/537.36 (KHTML, like Gecko) Chrome/37.0.2062.103 Safari/537.36\"', userId='9'),\n",
       " Row(artist='Daft Punk', auth='Logged In', firstName='Colin', gender='M', itemInSession=52, lastName='Freeman', length=223.60771, level='paid', location='Bakersfield, CA', method='PUT', page='NextSong', registration=1538173362000, sessionId=29, song='Harder Better Faster Stronger', status=200, ts=1538352676000, userAgent='Mozilla/5.0 (Windows NT 6.1; WOW64; rv:31.0) Gecko/20100101 Firefox/31.0', userId='30')]"
      ]
     },
     "execution_count": 6,
     "metadata": {},
     "output_type": "execute_result"
    }
   ],
   "source": [
    "df.head(5)"
   ]
  },
  {
   "cell_type": "code",
   "execution_count": 7,
   "metadata": {},
   "outputs": [
    {
     "name": "stdout",
     "output_type": "stream",
     "text": [
      "+----------+\n",
      "|      auth|\n",
      "+----------+\n",
      "|Logged Out|\n",
      "| Cancelled|\n",
      "|     Guest|\n",
      "| Logged In|\n",
      "+----------+\n",
      "\n"
     ]
    }
   ],
   "source": [
    "# I moved this up top to show all values of the \"auth\" field. When I drop the null registrations, \"guest\"\n",
    "# and \"logged out\" will also be dropped\n",
    "\n",
    "df.select('auth').dropDuplicates().show()"
   ]
  },
  {
   "cell_type": "code",
   "execution_count": 8,
   "metadata": {
    "scrolled": true
   },
   "outputs": [
    {
     "name": "stdout",
     "output_type": "stream",
     "text": [
      "root\n",
      " |-- artist: string (nullable = true)\n",
      " |-- auth: string (nullable = true)\n",
      " |-- firstName: string (nullable = true)\n",
      " |-- gender: string (nullable = true)\n",
      " |-- itemInSession: long (nullable = true)\n",
      " |-- lastName: string (nullable = true)\n",
      " |-- length: double (nullable = true)\n",
      " |-- level: string (nullable = true)\n",
      " |-- location: string (nullable = true)\n",
      " |-- method: string (nullable = true)\n",
      " |-- page: string (nullable = true)\n",
      " |-- registration: long (nullable = true)\n",
      " |-- sessionId: long (nullable = true)\n",
      " |-- song: string (nullable = true)\n",
      " |-- status: long (nullable = true)\n",
      " |-- ts: long (nullable = true)\n",
      " |-- userAgent: string (nullable = true)\n",
      " |-- userId: string (nullable = true)\n",
      "\n"
     ]
    }
   ],
   "source": [
    "df.printSchema()"
   ]
  },
  {
   "cell_type": "code",
   "execution_count": 9,
   "metadata": {},
   "outputs": [
    {
     "name": "stdout",
     "output_type": "stream",
     "text": [
      "(Number of Records, Number of columns): (286500, 18)\n"
     ]
    }
   ],
   "source": [
    "# How many records and columns?\n",
    "print(\"(Number of Records, Number of columns):\",((df.count(), len(df.columns))))"
   ]
  },
  {
   "cell_type": "code",
   "execution_count": 10,
   "metadata": {
    "scrolled": true
   },
   "outputs": [
    {
     "name": "stdout",
     "output_type": "stream",
     "text": [
      "+------+----+---------+------+-------------+--------+------+-----+--------+------+----+------------+---------+-----+------+---+---------+------+\n",
      "|artist|auth|firstName|gender|itemInSession|lastName|length|level|location|method|page|registration|sessionId| song|status| ts|userAgent|userId|\n",
      "+------+----+---------+------+-------------+--------+------+-----+--------+------+----+------------+---------+-----+------+---+---------+------+\n",
      "| 58392|   0|     8346|  8346|            0|    8346| 58392|    0|    8346|     0|   0|        8346|        0|58392|     0|  0|     8346|     0|\n",
      "+------+----+---------+------+-------------+--------+------+-----+--------+------+----+------------+---------+-----+------+---+---------+------+\n",
      "\n"
     ]
    }
   ],
   "source": [
    "# Let's count the number of nulls across the record\n",
    "# I'm mostly interested in the registration field first, since that is when we first saw a user\n",
    "df.select([count(when(isnull(c), c)).alias(c) for c in df.columns]).show()"
   ]
  },
  {
   "cell_type": "code",
   "execution_count": 11,
   "metadata": {
    "scrolled": true
   },
   "outputs": [
    {
     "name": "stdout",
     "output_type": "stream",
     "text": [
      "Columns with Null Values\n",
      "artist : 58392\n",
      "auth : 0\n",
      "firstName : 8346\n",
      "gender : 8346\n",
      "itemInSession : 0\n",
      "lastName : 8346\n",
      "length : 58392\n",
      "level : 0\n",
      "location : 8346\n",
      "method : 0\n",
      "page : 0\n",
      "registration : 8346\n",
      "sessionId : 0\n",
      "song : 58392\n",
      "status : 0\n",
      "ts : 0\n",
      "userAgent : 8346\n",
      "userId : 0\n"
     ]
    }
   ],
   "source": [
    "# This is a little easier to read\n",
    "\n",
    "print(\"Columns with Null Values\")\n",
    "for colName, dtype in df.dtypes:\n",
    "    print(colName,':', df.filter(df[colName].isNull()).count())"
   ]
  },
  {
   "cell_type": "markdown",
   "metadata": {},
   "source": [
    "#### Missing Values\n",
    "\n",
    "We can see userAgent, registration, firstName, lastName, location and gender are all have missing values. I'm thinking we should drop those records, let's calculate the percentage."
   ]
  },
  {
   "cell_type": "code",
   "execution_count": 12,
   "metadata": {},
   "outputs": [],
   "source": [
    "# Percentage Check\n",
    "total = float(df.count())\n",
    "missing = float(df.filter(df.registration.isNull()).count())\n",
    "percentage = missing *100.0 /total"
   ]
  },
  {
   "cell_type": "code",
   "execution_count": 13,
   "metadata": {},
   "outputs": [
    {
     "name": "stdout",
     "output_type": "stream",
     "text": [
      "Total Records: 286500.0\n",
      "Missing Registration: 8346.0\n",
      "Percentage of Missing Registration: 2.913089005235602\n"
     ]
    }
   ],
   "source": [
    "print('Total Records:', total)\n",
    "print('Missing Registration:', missing)\n",
    "print('Percentage of Missing Registration:', percentage)"
   ]
  },
  {
   "cell_type": "markdown",
   "metadata": {},
   "source": [
    "So less than 3%, so we can drop those records."
   ]
  },
  {
   "cell_type": "code",
   "execution_count": 14,
   "metadata": {},
   "outputs": [],
   "source": [
    "# The ever powerful filter. Sort of feel like it needs an \"are you sure(y/n)?\" option\n",
    "# https://sparkbyexamples.com/pyspark/pyspark-dataframe-filter/\n",
    "\n",
    "df_clean = df.filter(df.registration.isNotNull())"
   ]
  },
  {
   "cell_type": "code",
   "execution_count": 15,
   "metadata": {},
   "outputs": [
    {
     "data": {
      "text/plain": [
       "278154"
      ]
     },
     "execution_count": 15,
     "metadata": {},
     "output_type": "execute_result"
    }
   ],
   "source": [
    "# Removed the Missing Registration records\n",
    "df_clean.count()"
   ]
  },
  {
   "cell_type": "code",
   "execution_count": 16,
   "metadata": {},
   "outputs": [],
   "source": [
    "# Percentage Check on cleaned \n",
    "total = float(df_clean.count())\n",
    "missing = float(df_clean.filter(df_clean.registration.isNull()).count())\n",
    "percentage = missing *100.0 /total"
   ]
  },
  {
   "cell_type": "code",
   "execution_count": 17,
   "metadata": {},
   "outputs": [
    {
     "name": "stdout",
     "output_type": "stream",
     "text": [
      "Total Records: 278154.0\n",
      "Missing Registration: 0.0\n",
      "Percentage of Missing Registration: 0.0\n"
     ]
    }
   ],
   "source": [
    "# Safety check\n",
    "print('Total Records:', total)\n",
    "print('Missing Registration:', missing)\n",
    "print('Percentage of Missing Registration:', percentage)"
   ]
  },
  {
   "cell_type": "code",
   "execution_count": 18,
   "metadata": {},
   "outputs": [],
   "source": [
    "# df now has removed rows\n",
    "df = df_clean"
   ]
  },
  {
   "cell_type": "code",
   "execution_count": 19,
   "metadata": {},
   "outputs": [
    {
     "data": {
      "text/plain": [
       "278154"
      ]
     },
     "execution_count": 19,
     "metadata": {},
     "output_type": "execute_result"
    }
   ],
   "source": [
    "df.count()"
   ]
  },
  {
   "cell_type": "code",
   "execution_count": 20,
   "metadata": {
    "scrolled": true
   },
   "outputs": [
    {
     "name": "stdout",
     "output_type": "stream",
     "text": [
      "+------+\n",
      "|userId|\n",
      "+------+\n",
      "|    10|\n",
      "|   100|\n",
      "|100001|\n",
      "|100002|\n",
      "|100003|\n",
      "|100004|\n",
      "|100005|\n",
      "|100006|\n",
      "|100007|\n",
      "|100008|\n",
      "|100009|\n",
      "|100010|\n",
      "|100011|\n",
      "|100012|\n",
      "|100013|\n",
      "|100014|\n",
      "|100015|\n",
      "|100016|\n",
      "|100017|\n",
      "|100018|\n",
      "+------+\n",
      "only showing top 20 rows\n",
      "\n"
     ]
    }
   ],
   "source": [
    "# Check for empty string in UserID. Wanted to make sure we have records that all have user ID. For this study,\n",
    "# these are the only users we are interested in\n",
    "# We can see no nulls or empty strings.\n",
    "df.select(\"userId\").dropDuplicates().sort(\"userId\").show()"
   ]
  },
  {
   "cell_type": "code",
   "execution_count": 21,
   "metadata": {},
   "outputs": [
    {
     "name": "stdout",
     "output_type": "stream",
     "text": [
      "missing UID: 0.0\n"
     ]
    }
   ],
   "source": [
    "# Secondary null check for UID, confirming no nulls\n",
    "missing_uid = float(df.filter(df.userId.isNull()).count())\n",
    "print('missing UID:',missing_uid)"
   ]
  },
  {
   "cell_type": "code",
   "execution_count": 22,
   "metadata": {
    "scrolled": true
   },
   "outputs": [
    {
     "name": "stdout",
     "output_type": "stream",
     "text": [
      "<class 'pandas.core.frame.DataFrame'>\n",
      "RangeIndex: 278154 entries, 0 to 278153\n",
      "Data columns (total 18 columns):\n",
      " #   Column         Non-Null Count   Dtype  \n",
      "---  ------         --------------   -----  \n",
      " 0   artist         228108 non-null  object \n",
      " 1   auth           278154 non-null  object \n",
      " 2   firstName      278154 non-null  object \n",
      " 3   gender         278154 non-null  object \n",
      " 4   itemInSession  278154 non-null  int64  \n",
      " 5   lastName       278154 non-null  object \n",
      " 6   length         228108 non-null  float64\n",
      " 7   level          278154 non-null  object \n",
      " 8   location       278154 non-null  object \n",
      " 9   method         278154 non-null  object \n",
      " 10  page           278154 non-null  object \n",
      " 11  registration   278154 non-null  int64  \n",
      " 12  sessionId      278154 non-null  int64  \n",
      " 13  song           228108 non-null  object \n",
      " 14  status         278154 non-null  int64  \n",
      " 15  ts             278154 non-null  int64  \n",
      " 16  userAgent      278154 non-null  object \n",
      " 17  userId         278154 non-null  object \n",
      "dtypes: float64(1), int64(5), object(12)\n",
      "memory usage: 38.2+ MB\n"
     ]
    }
   ],
   "source": [
    "# These are the fields left to\n",
    "df.toPandas().info();"
   ]
  },
  {
   "cell_type": "code",
   "execution_count": 23,
   "metadata": {},
   "outputs": [
    {
     "name": "stdout",
     "output_type": "stream",
     "text": [
      "+------+\n",
      "|gender|\n",
      "+------+\n",
      "|     F|\n",
      "|     M|\n",
      "+------+\n",
      "\n"
     ]
    }
   ],
   "source": [
    "df.select('gender').dropDuplicates().show()"
   ]
  },
  {
   "cell_type": "code",
   "execution_count": 24,
   "metadata": {
    "scrolled": true
   },
   "outputs": [
    {
     "name": "stdout",
     "output_type": "stream",
     "text": [
      "+-----+\n",
      "|level|\n",
      "+-----+\n",
      "| free|\n",
      "| paid|\n",
      "+-----+\n",
      "\n"
     ]
    }
   ],
   "source": [
    "# Level indicates a paid or free user\n",
    "df.select('level').dropDuplicates().show()"
   ]
  },
  {
   "cell_type": "code",
   "execution_count": 25,
   "metadata": {},
   "outputs": [
    {
     "name": "stdout",
     "output_type": "stream",
     "text": [
      "+------+\n",
      "|method|\n",
      "+------+\n",
      "|   PUT|\n",
      "|   GET|\n",
      "+------+\n",
      "\n"
     ]
    }
   ],
   "source": [
    "# HTTP Methods\n",
    "df.select('method').dropDuplicates().show()"
   ]
  },
  {
   "cell_type": "code",
   "execution_count": 26,
   "metadata": {},
   "outputs": [
    {
     "name": "stdout",
     "output_type": "stream",
     "text": [
      "+--------------------+\n",
      "|                page|\n",
      "+--------------------+\n",
      "|              Cancel|\n",
      "|    Submit Downgrade|\n",
      "|         Thumbs Down|\n",
      "|                Home|\n",
      "|           Downgrade|\n",
      "|         Roll Advert|\n",
      "|              Logout|\n",
      "|       Save Settings|\n",
      "|Cancellation Conf...|\n",
      "|               About|\n",
      "|            Settings|\n",
      "|     Add to Playlist|\n",
      "|          Add Friend|\n",
      "|            NextSong|\n",
      "|           Thumbs Up|\n",
      "|                Help|\n",
      "|             Upgrade|\n",
      "|               Error|\n",
      "|      Submit Upgrade|\n",
      "+--------------------+\n",
      "\n",
      "Number of page types: 19\n"
     ]
    }
   ],
   "source": [
    "# Page types\n",
    "df.select('page').dropDuplicates().show()\n",
    "print(\"Number of page types:\", df.select('page').dropDuplicates().count())"
   ]
  },
  {
   "cell_type": "code",
   "execution_count": 27,
   "metadata": {},
   "outputs": [
    {
     "name": "stdout",
     "output_type": "stream",
     "text": [
      "+------+\n",
      "|status|\n",
      "+------+\n",
      "|   307|\n",
      "|   404|\n",
      "|   200|\n",
      "+------+\n",
      "\n"
     ]
    }
   ],
   "source": [
    "# Believe this is the code from an HTTP page\n",
    "df.select('status').dropDuplicates().show()"
   ]
  },
  {
   "cell_type": "code",
   "execution_count": 28,
   "metadata": {
    "scrolled": true
   },
   "outputs": [
    {
     "name": "stdout",
     "output_type": "stream",
     "text": [
      "+---------+\n",
      "|     auth|\n",
      "+---------+\n",
      "|Cancelled|\n",
      "|Logged In|\n",
      "+---------+\n",
      "\n"
     ]
    }
   ],
   "source": [
    "# As mentioned earlier, \"guest\" and \"logged out\" were dropped along with null registrations\n",
    "df.select('auth').dropDuplicates().show()"
   ]
  },
  {
   "cell_type": "code",
   "execution_count": 29,
   "metadata": {},
   "outputs": [
    {
     "name": "stdout",
     "output_type": "stream",
     "text": [
      "+--------------------+\n",
      "|           userAgent|\n",
      "+--------------------+\n",
      "|\"Mozilla/5.0 (Mac...|\n",
      "|\"Mozilla/5.0 (Win...|\n",
      "|Mozilla/5.0 (X11;...|\n",
      "|\"Mozilla/5.0 (Mac...|\n",
      "|\"Mozilla/5.0 (Mac...|\n",
      "|Mozilla/5.0 (Maci...|\n",
      "|Mozilla/5.0 (Wind...|\n",
      "|Mozilla/5.0 (Wind...|\n",
      "|Mozilla/5.0 (comp...|\n",
      "|\"Mozilla/5.0 (Win...|\n",
      "|Mozilla/5.0 (Maci...|\n",
      "|\"Mozilla/5.0 (Win...|\n",
      "|\"Mozilla/5.0 (iPh...|\n",
      "|\"Mozilla/5.0 (Win...|\n",
      "|Mozilla/5.0 (Wind...|\n",
      "|Mozilla/5.0 (comp...|\n",
      "|Mozilla/5.0 (comp...|\n",
      "|\"Mozilla/5.0 (Mac...|\n",
      "|\"Mozilla/5.0 (Mac...|\n",
      "|\"Mozilla/5.0 (Win...|\n",
      "+--------------------+\n",
      "only showing top 20 rows\n",
      "\n",
      "Number of User Agents:  56\n"
     ]
    }
   ],
   "source": [
    "df.select('userAgent').dropDuplicates().show()\n",
    "print (\"Number of User Agents: \", df.select('userAgent').dropDuplicates().count())"
   ]
  },
  {
   "cell_type": "code",
   "execution_count": 30,
   "metadata": {
    "scrolled": true
   },
   "outputs": [
    {
     "name": "stdout",
     "output_type": "stream",
     "text": [
      "+---------+\n",
      "|     auth|\n",
      "+---------+\n",
      "|Cancelled|\n",
      "|Logged In|\n",
      "+---------+\n",
      "\n"
     ]
    }
   ],
   "source": [
    "# Further refinement\n",
    "\n",
    "# I've left this in, since it's part of cleaning AND understanding the data. First pass through, I decided\n",
    "# to drop the records where \"registration\" was null. It turns out that also dropped out the \"Guest\" and\n",
    "# \"Logged Out\" field. So, the filter below was NOT needed. However, this also shows the iterative nature\n",
    "# of data understanding. \n",
    "\n",
    "# For production code, I would drop this cell. Left in as illustration\n",
    "\n",
    "# We don't need either Guest or Logged Out records, since there is no churn associated with them. As well, \n",
    "# neither field would have a UserID\n",
    "df = df.filter((df.auth != 'Guest') & (df.auth != 'Logged Out'))\n",
    "df.select('auth').dropDuplicates().show()"
   ]
  },
  {
   "cell_type": "code",
   "execution_count": 31,
   "metadata": {
    "scrolled": true
   },
   "outputs": [
    {
     "name": "stdout",
     "output_type": "stream",
     "text": [
      "+--------------+---------+---------+------+-------------+--------+---------+-----+--------------------+------+---------------+-------------+---------+--------------------+------+-------------+--------------------+------+\n",
      "|        artist|     auth|firstName|gender|itemInSession|lastName|   length|level|            location|method|           page| registration|sessionId|                song|status|           ts|           userAgent|userId|\n",
      "+--------------+---------+---------+------+-------------+--------+---------+-----+--------------------+------+---------------+-------------+---------+--------------------+------+-------------+--------------------+------+\n",
      "|          RJD2|Logged In|    Diego|     M|            0|   Mckee|237.53098| free|Phoenix-Mesa-Scot...|   PUT|       NextSong|1537167593000|      218|Beyond The Beyond...|   200|1538578897000|\"Mozilla/5.0 (iPh...|    32|\n",
      "| Guns N' Roses|Logged In|    Diego|     M|            1|   Mckee|406.17751| free|Phoenix-Mesa-Scot...|   PUT|       NextSong|1537167593000|      218|       Paradise City|   200|1538579134000|\"Mozilla/5.0 (iPh...|    32|\n",
      "|     Lady GaGa|Logged In|    Diego|     M|            2|   Mckee|274.18077| free|Phoenix-Mesa-Scot...|   PUT|       NextSong|1537167593000|      218|           Alejandro|   200|1538579540000|\"Mozilla/5.0 (iPh...|    32|\n",
      "|          null|Logged In|    Diego|     M|            3|   Mckee|     null| free|Phoenix-Mesa-Scot...|   GET|    Roll Advert|1537167593000|      218|                null|   200|1538579565000|\"Mozilla/5.0 (iPh...|    32|\n",
      "|     LL Cool J|Logged In|    Diego|     M|            4|   Mckee| 242.6771| free|Phoenix-Mesa-Scot...|   PUT|       NextSong|1537167593000|      218|        Luv U Better|   200|1538579814000|\"Mozilla/5.0 (iPh...|    32|\n",
      "|          null|Logged In|    Diego|     M|            5|   Mckee|     null| free|Phoenix-Mesa-Scot...|   PUT|      Thumbs Up|1537167593000|      218|                null|   307|1538579815000|\"Mozilla/5.0 (iPh...|    32|\n",
      "|Kelly Clarkson|Logged In|    Diego|     M|            6|   Mckee|211.56526| free|Phoenix-Mesa-Scot...|   PUT|       NextSong|1537167593000|      218|My Life Would Suc...|   200|1538580056000|\"Mozilla/5.0 (iPh...|    32|\n",
      "|          null|Logged In|    Diego|     M|            7|   Mckee|     null| free|Phoenix-Mesa-Scot...|   PUT|Add to Playlist|1537167593000|      218|                null|   200|1538580068000|\"Mozilla/5.0 (iPh...|    32|\n",
      "|      Natiruts|Logged In|    Diego|     M|            8|   Mckee|210.88608| free|Phoenix-Mesa-Scot...|   PUT|       NextSong|1537167593000|      218|Jamaica Roots II(...|   200|1538580267000|\"Mozilla/5.0 (iPh...|    32|\n",
      "|  Alan Barratt|Logged In|    Diego|     M|            9|   Mckee|652.14649| free|Phoenix-Mesa-Scot...|   PUT|       NextSong|1537167593000|      218|                Dusk|   200|1538580477000|\"Mozilla/5.0 (iPh...|    32|\n",
      "+--------------+---------+---------+------+-------------+--------+---------+-----+--------------------+------+---------------+-------------+---------+--------------------+------+-------------+--------------------+------+\n",
      "only showing top 10 rows\n",
      "\n"
     ]
    }
   ],
   "source": [
    "# Review a free user usage\n",
    "df.filter(df[\"userId\"] == \"32\").show(10)"
   ]
  },
  {
   "cell_type": "code",
   "execution_count": 32,
   "metadata": {},
   "outputs": [
    {
     "name": "stdout",
     "output_type": "stream",
     "text": [
      "+--------------------+---------+---------+------+-------------+--------+---------+-----+--------------------+------+---------+-------------+---------+--------------------+------+-------------+--------------------+------+\n",
      "|              artist|     auth|firstName|gender|itemInSession|lastName|   length|level|            location|method|     page| registration|sessionId|                song|status|           ts|           userAgent|userId|\n",
      "+--------------------+---------+---------+------+-------------+--------+---------+-----+--------------------+------+---------+-------------+---------+--------------------+------+-------------+--------------------+------+\n",
      "|                null|Logged In|  Destiny|     F|            0| Herring|     null| paid|Miami-Fort Lauder...|   GET|     Home|1536844410000|      216|                null|   200|1538529207000|\"Mozilla/5.0 (Win...|    20|\n",
      "|Bob Marley & The ...|Logged In|  Destiny|     F|            1| Herring|210.33751| paid|Miami-Fort Lauder...|   PUT| NextSong|1536844410000|      216|Trouble Dub - FAM...|   200|1538529265000|\"Mozilla/5.0 (Win...|    20|\n",
      "|                null|Logged In|  Destiny|     F|            2| Herring|     null| paid|Miami-Fort Lauder...|   PUT|Thumbs Up|1536844410000|      216|                null|   307|1538529266000|\"Mozilla/5.0 (Win...|    20|\n",
      "|        Modest Mouse|Logged In|  Destiny|     F|            3| Herring|209.52771| paid|Miami-Fort Lauder...|   PUT| NextSong|1536844410000|      216|            Float On|   200|1538529475000|\"Mozilla/5.0 (Win...|    20|\n",
      "|         Nana Caymmi|Logged In|  Destiny|     F|            4| Herring|283.14077| paid|Miami-Fort Lauder...|   PUT| NextSong|1536844410000|      216|Resposta Ao Tempo...|   200|1538529684000|\"Mozilla/5.0 (Win...|    20|\n",
      "|                null|Logged In|  Destiny|     F|            5| Herring|     null| paid|Miami-Fort Lauder...|   PUT|Thumbs Up|1536844410000|      216|                null|   307|1538529685000|\"Mozilla/5.0 (Win...|    20|\n",
      "|       Justin Bieber|Logged In|  Destiny|     F|            6| Herring|214.67383| paid|Miami-Fort Lauder...|   PUT| NextSong|1536844410000|      216|            One Time|   200|1538529967000|\"Mozilla/5.0 (Win...|    20|\n",
      "|        Ziggy Marley|Logged In|  Destiny|     F|            7| Herring|225.59302| paid|Miami-Fort Lauder...|   PUT| NextSong|1536844410000|      216|      True To Myself|   200|1538530181000|\"Mozilla/5.0 (Win...|    20|\n",
      "|         Silverchair|Logged In|  Destiny|     F|            8| Herring|241.65832| paid|Miami-Fort Lauder...|   PUT| NextSong|1536844410000|      216|               Shade|   200|1538530406000|\"Mozilla/5.0 (Win...|    20|\n",
      "|       Kings Of Leon|Logged In|  Destiny|     F|            9| Herring|201.79546| paid|Miami-Fort Lauder...|   PUT| NextSong|1536844410000|      216|             Revelry|   200|1538530647000|\"Mozilla/5.0 (Win...|    20|\n",
      "+--------------------+---------+---------+------+-------------+--------+---------+-----+--------------------+------+---------+-------------+---------+--------------------+------+-------------+--------------------+------+\n",
      "only showing top 10 rows\n",
      "\n"
     ]
    }
   ],
   "source": [
    "# Review a paid user\n",
    "df.filter(df[\"userId\"] == \"20\").show(10)"
   ]
  },
  {
   "cell_type": "markdown",
   "metadata": {},
   "source": [
    "#### Data Findings\n",
    "\n",
    "\n",
    "This is my intial set of findings about the dataset. Since the documentation about the log records was not present, potentially this would be updated as more is known about the dataset.\n",
    "\n",
    "This also presents a minor quandary. What fields/features should I drop, if any, for the upcoming models. In other binary classification problems I've worked on at my job, we tend to leave more in. Especially when there is little to nothing known about the dataset. At present, there are 18 columns. There are potentially a few \"easy\" ones to drop. For example, I could drop the first and last name. I doubt they will be a very important feature. However, being more inclusive than less is the direction I'm going. \n",
    "\n",
    "Here's what has been surmised around a user:\n",
    "* User Id : User identifier \n",
    "* firstName: Users first name\n",
    "* lastName: Users surname\n",
    "* gender: either M or F\n",
    "* location: not known if this comes from the IP address or user provided. Leaning towards from the IP address\n",
    "* userAgent:  OS/method used to access Sparkify. (57 different categories)\n",
    "* registration: UNIX/epoch time stamp for presume initial registration\n",
    "* level: user subscription status (free or paid)\n",
    "\n",
    "Log details:\n",
    "\n",
    "* ts : timestamp of a given log  \n",
    "* page : type of page access (22 categories) \n",
    "* auth : authentication status (4 categories) \n",
    "* sessionID : what session for the log\n",
    "* itemInSession : a counter maintained for what looks like a given session\n",
    "* method : http method\n",
    "* status : looks like the http status code;\n",
    "\n",
    "Song details\n",
    "* song : song name\n",
    "* artist : artist name\n",
    "* length: song's length (seconds)\n"
   ]
  },
  {
   "cell_type": "markdown",
   "metadata": {},
   "source": [
    "# Exploratory Data Analysis\n",
    "When you're working with the full dataset, perform EDA by loading a small subset of the data and doing basic manipulations within Spark. In this workspace, you are already provided a small subset of data you can explore.\n",
    "\n",
    "### Define Churn\n",
    "\n",
    "Once you've done some preliminary analysis, create a column `Churn` to use as the label for your model. I suggest using the `Cancellation Confirmation` events to define your churn, which happen for both paid and free users. As a bonus task, you can also look into the `Downgrade` events.\n",
    "\n",
    "### Explore Data\n",
    "Once you've defined churn, perform some exploratory data analysis to observe the behavior for users who stayed vs users who churned. You can start by exploring aggregates on these two groups of users, observing how much of a specific action they experienced per a certain time unit or number of songs played."
   ]
  },
  {
   "cell_type": "code",
   "execution_count": 33,
   "metadata": {},
   "outputs": [
    {
     "name": "stdout",
     "output_type": "stream",
     "text": [
      "+--------------------+\n",
      "|                page|\n",
      "+--------------------+\n",
      "|              Cancel|\n",
      "|    Submit Downgrade|\n",
      "|         Thumbs Down|\n",
      "|                Home|\n",
      "|           Downgrade|\n",
      "|         Roll Advert|\n",
      "|              Logout|\n",
      "|       Save Settings|\n",
      "|Cancellation Conf...|\n",
      "|               About|\n",
      "|            Settings|\n",
      "|     Add to Playlist|\n",
      "|          Add Friend|\n",
      "|            NextSong|\n",
      "|           Thumbs Up|\n",
      "|                Help|\n",
      "|             Upgrade|\n",
      "|               Error|\n",
      "|      Submit Upgrade|\n",
      "+--------------------+\n",
      "\n"
     ]
    }
   ],
   "source": [
    "#Review: Cancellation Confirmation is an element of \"page\"\n",
    "\n",
    "df.select('page').distinct().show()"
   ]
  },
  {
   "cell_type": "code",
   "execution_count": 34,
   "metadata": {},
   "outputs": [],
   "source": [
    "# Wanted to use an RDD, but not much covered in the lectures. Came across this:\n",
    "# Initially thought rdd.map() would work, but went with rdd.flatmap() after reading this:\n",
    "# https://www.tutorialkart.com/apache-spark/spark-rdd-map-java-python-examples/\n",
    "# Initially was interested in RDD's since that was the lesson where python vs. SQL was explored. That was one \n",
    "# area that I was trying to sort out the difference. Not much SQL in this exercise, but worth exploring later\n",
    "# down the road in some depth since I do a lot of SQL\n",
    "\n",
    "# Did we see cancellation confirmation? If so, they have churn and we will assign a 1, otherwise a 0\n",
    "# Having a binary value makes a variety of analysis easier\n",
    "\n",
    "churn_users = df.filter(df.page == 'Cancellation Confirmation')\\\n",
    "                                            .select('userId')\\\n",
    "                                            .dropDuplicates()\\\n",
    "                                            .rdd.flatMap(lambda x : x)\\\n",
    "                                            .collect()"
   ]
  },
  {
   "cell_type": "code",
   "execution_count": 35,
   "metadata": {},
   "outputs": [],
   "source": [
    "# Add in churn column\n",
    "df = df.withColumn('churn', when(col(\"userId\").isin(churn_users), 1).otherwise(0))"
   ]
  },
  {
   "cell_type": "code",
   "execution_count": 36,
   "metadata": {},
   "outputs": [
    {
     "data": {
      "text/html": [
       "<div>\n",
       "<style scoped>\n",
       "    .dataframe tbody tr th:only-of-type {\n",
       "        vertical-align: middle;\n",
       "    }\n",
       "\n",
       "    .dataframe tbody tr th {\n",
       "        vertical-align: top;\n",
       "    }\n",
       "\n",
       "    .dataframe thead th {\n",
       "        text-align: right;\n",
       "    }\n",
       "</style>\n",
       "<table border=\"1\" class=\"dataframe\">\n",
       "  <thead>\n",
       "    <tr style=\"text-align: right;\">\n",
       "      <th></th>\n",
       "      <th>artist</th>\n",
       "      <th>auth</th>\n",
       "      <th>firstName</th>\n",
       "      <th>gender</th>\n",
       "      <th>itemInSession</th>\n",
       "      <th>lastName</th>\n",
       "      <th>length</th>\n",
       "      <th>level</th>\n",
       "      <th>location</th>\n",
       "      <th>method</th>\n",
       "      <th>page</th>\n",
       "      <th>registration</th>\n",
       "      <th>sessionId</th>\n",
       "      <th>song</th>\n",
       "      <th>status</th>\n",
       "      <th>ts</th>\n",
       "      <th>userAgent</th>\n",
       "      <th>userId</th>\n",
       "      <th>churn</th>\n",
       "    </tr>\n",
       "  </thead>\n",
       "  <tbody>\n",
       "    <tr>\n",
       "      <th>0</th>\n",
       "      <td>Martha Tilston</td>\n",
       "      <td>Logged In</td>\n",
       "      <td>Colin</td>\n",
       "      <td>M</td>\n",
       "      <td>50</td>\n",
       "      <td>Freeman</td>\n",
       "      <td>277.89016</td>\n",
       "      <td>paid</td>\n",
       "      <td>Bakersfield, CA</td>\n",
       "      <td>PUT</td>\n",
       "      <td>NextSong</td>\n",
       "      <td>1538173362000</td>\n",
       "      <td>29</td>\n",
       "      <td>Rockpools</td>\n",
       "      <td>200</td>\n",
       "      <td>1538352117000</td>\n",
       "      <td>Mozilla/5.0 (Windows NT 6.1; WOW64; rv:31.0) G...</td>\n",
       "      <td>30</td>\n",
       "      <td>0</td>\n",
       "    </tr>\n",
       "    <tr>\n",
       "      <th>1</th>\n",
       "      <td>Five Iron Frenzy</td>\n",
       "      <td>Logged In</td>\n",
       "      <td>Micah</td>\n",
       "      <td>M</td>\n",
       "      <td>79</td>\n",
       "      <td>Long</td>\n",
       "      <td>236.09424</td>\n",
       "      <td>free</td>\n",
       "      <td>Boston-Cambridge-Newton, MA-NH</td>\n",
       "      <td>PUT</td>\n",
       "      <td>NextSong</td>\n",
       "      <td>1538331630000</td>\n",
       "      <td>8</td>\n",
       "      <td>Canada</td>\n",
       "      <td>200</td>\n",
       "      <td>1538352180000</td>\n",
       "      <td>\"Mozilla/5.0 (Windows NT 6.1; WOW64) AppleWebK...</td>\n",
       "      <td>9</td>\n",
       "      <td>0</td>\n",
       "    </tr>\n",
       "    <tr>\n",
       "      <th>2</th>\n",
       "      <td>Adam Lambert</td>\n",
       "      <td>Logged In</td>\n",
       "      <td>Colin</td>\n",
       "      <td>M</td>\n",
       "      <td>51</td>\n",
       "      <td>Freeman</td>\n",
       "      <td>282.82730</td>\n",
       "      <td>paid</td>\n",
       "      <td>Bakersfield, CA</td>\n",
       "      <td>PUT</td>\n",
       "      <td>NextSong</td>\n",
       "      <td>1538173362000</td>\n",
       "      <td>29</td>\n",
       "      <td>Time For Miracles</td>\n",
       "      <td>200</td>\n",
       "      <td>1538352394000</td>\n",
       "      <td>Mozilla/5.0 (Windows NT 6.1; WOW64; rv:31.0) G...</td>\n",
       "      <td>30</td>\n",
       "      <td>0</td>\n",
       "    </tr>\n",
       "    <tr>\n",
       "      <th>3</th>\n",
       "      <td>Enigma</td>\n",
       "      <td>Logged In</td>\n",
       "      <td>Micah</td>\n",
       "      <td>M</td>\n",
       "      <td>80</td>\n",
       "      <td>Long</td>\n",
       "      <td>262.71302</td>\n",
       "      <td>free</td>\n",
       "      <td>Boston-Cambridge-Newton, MA-NH</td>\n",
       "      <td>PUT</td>\n",
       "      <td>NextSong</td>\n",
       "      <td>1538331630000</td>\n",
       "      <td>8</td>\n",
       "      <td>Knocking On Forbidden Doors</td>\n",
       "      <td>200</td>\n",
       "      <td>1538352416000</td>\n",
       "      <td>\"Mozilla/5.0 (Windows NT 6.1; WOW64) AppleWebK...</td>\n",
       "      <td>9</td>\n",
       "      <td>0</td>\n",
       "    </tr>\n",
       "    <tr>\n",
       "      <th>4</th>\n",
       "      <td>Daft Punk</td>\n",
       "      <td>Logged In</td>\n",
       "      <td>Colin</td>\n",
       "      <td>M</td>\n",
       "      <td>52</td>\n",
       "      <td>Freeman</td>\n",
       "      <td>223.60771</td>\n",
       "      <td>paid</td>\n",
       "      <td>Bakersfield, CA</td>\n",
       "      <td>PUT</td>\n",
       "      <td>NextSong</td>\n",
       "      <td>1538173362000</td>\n",
       "      <td>29</td>\n",
       "      <td>Harder Better Faster Stronger</td>\n",
       "      <td>200</td>\n",
       "      <td>1538352676000</td>\n",
       "      <td>Mozilla/5.0 (Windows NT 6.1; WOW64; rv:31.0) G...</td>\n",
       "      <td>30</td>\n",
       "      <td>0</td>\n",
       "    </tr>\n",
       "  </tbody>\n",
       "</table>\n",
       "</div>"
      ],
      "text/plain": [
       "             artist       auth firstName gender  itemInSession lastName  \\\n",
       "0    Martha Tilston  Logged In     Colin      M             50  Freeman   \n",
       "1  Five Iron Frenzy  Logged In     Micah      M             79     Long   \n",
       "2      Adam Lambert  Logged In     Colin      M             51  Freeman   \n",
       "3            Enigma  Logged In     Micah      M             80     Long   \n",
       "4         Daft Punk  Logged In     Colin      M             52  Freeman   \n",
       "\n",
       "      length level                        location method      page  \\\n",
       "0  277.89016  paid                 Bakersfield, CA    PUT  NextSong   \n",
       "1  236.09424  free  Boston-Cambridge-Newton, MA-NH    PUT  NextSong   \n",
       "2  282.82730  paid                 Bakersfield, CA    PUT  NextSong   \n",
       "3  262.71302  free  Boston-Cambridge-Newton, MA-NH    PUT  NextSong   \n",
       "4  223.60771  paid                 Bakersfield, CA    PUT  NextSong   \n",
       "\n",
       "    registration  sessionId                           song  status  \\\n",
       "0  1538173362000         29                      Rockpools     200   \n",
       "1  1538331630000          8                         Canada     200   \n",
       "2  1538173362000         29              Time For Miracles     200   \n",
       "3  1538331630000          8    Knocking On Forbidden Doors     200   \n",
       "4  1538173362000         29  Harder Better Faster Stronger     200   \n",
       "\n",
       "              ts                                          userAgent userId  \\\n",
       "0  1538352117000  Mozilla/5.0 (Windows NT 6.1; WOW64; rv:31.0) G...     30   \n",
       "1  1538352180000  \"Mozilla/5.0 (Windows NT 6.1; WOW64) AppleWebK...      9   \n",
       "2  1538352394000  Mozilla/5.0 (Windows NT 6.1; WOW64; rv:31.0) G...     30   \n",
       "3  1538352416000  \"Mozilla/5.0 (Windows NT 6.1; WOW64) AppleWebK...      9   \n",
       "4  1538352676000  Mozilla/5.0 (Windows NT 6.1; WOW64; rv:31.0) G...     30   \n",
       "\n",
       "   churn  \n",
       "0      0  \n",
       "1      0  \n",
       "2      0  \n",
       "3      0  \n",
       "4      0  "
      ]
     },
     "execution_count": 36,
     "metadata": {},
     "output_type": "execute_result"
    }
   ],
   "source": [
    "# Check churn column present\n",
    "dfp = df.toPandas()\n",
    "dfp.head()"
   ]
  },
  {
   "cell_type": "markdown",
   "metadata": {},
   "source": [
    "#### Churn Defined\n",
    "\n",
    "* 1 - users who cancelled their subscription within the observation period\n",
    "* 0 - users who kept the service throughout\n"
   ]
  },
  {
   "cell_type": "code",
   "execution_count": 37,
   "metadata": {},
   "outputs": [
    {
     "data": {
      "text/plain": [
       "churn\n",
       "0    173\n",
       "1     52\n",
       "Name: userId, dtype: int64"
      ]
     },
     "execution_count": 37,
     "metadata": {},
     "output_type": "execute_result"
    }
   ],
   "source": [
    "# Unique churn\n",
    "# Will add more visualization, just want to get a quick check\n",
    "# 173 users kept service\n",
    "# 52 users churned\n",
    "\n",
    "# Here's an interesting conundrum. How to be convey/display the values around Churn. For our purposes of \n",
    "# picking features and model development, I set a value of 0 and 1 to indicate not/did churn. Fine for those functions\n",
    "# where numeric values are useful/required, that's great. \n",
    "# However, this is why I find visualization helpful. I can be more descriptive in the visualization that \n",
    "# a raw number display like below. \n",
    "# Yes, I could have added yet another column, something like \"yes/no\" to indicate churn, or do some sort of \n",
    "# transformation prior to printing. But for me, I lean toward visualizations \n",
    "\n",
    "dfp.drop_duplicates(subset='userId').groupby(['churn'])['userId'].count()"
   ]
  },
  {
   "cell_type": "code",
   "execution_count": 38,
   "metadata": {},
   "outputs": [],
   "source": [
    "# Use a temporary DataFrame to do some Pandas specific EDA\n",
    "temp_df = df.toPandas()"
   ]
  },
  {
   "cell_type": "markdown",
   "metadata": {},
   "source": [
    "#### EDA Visualizations\n",
    "\n",
    "In general, I do most of my EDA visually. Possibly since I use a variety of data quality tools at work that have a lot of data wrangling capabilities, but here are a set that I used to further explore the dataset\n",
    "\n",
    "#### Battle of the visualizations\n",
    "\n",
    "I've used both Seaborn and Matplotlib here. I tend more towards using Matplotlib these days, since it conveys information both visually and quickly. My experience with Seaborn, while generally favorable, is that I spend more time that likely is necessary to create something that is visually \"eye-candy\", but in the end conveys the same information as Matplotlib. \n",
    "\n"
   ]
  },
  {
   "cell_type": "markdown",
   "metadata": {},
   "source": [
    "#### Spark Programming\n",
    " \n",
    "While the lectures and example programs were helpful, I found these references helpful. I found that \"drop_duplicates\" was a pretty handy function, below is some more detail on that I found helpful.\n",
    "\n",
    "Helpful spark info: https://sparkbyexamples.com/spark/spark-remove-duplicate-rows/\n",
    "\n",
    "And of course the reference info: http://spark.apache.org/docs/2.3.0/api/python/pyspark.sql.html"
   ]
  },
  {
   "cell_type": "markdown",
   "metadata": {},
   "source": [
    "All of that said, first EDA check shows that more customer stay active than churn. A good piece of information. However...that number of churned customers is I'm sure higher than anyone wants to see. So, having a plan in place and ML that helps minimize this number can only be a good thing for Sparkify."
   ]
  },
  {
   "cell_type": "code",
   "execution_count": 39,
   "metadata": {
    "scrolled": true
   },
   "outputs": [
    {
     "data": {
      "image/png": "[encoded data removed]",
      "text/plain": [
       "<Figure size 576x360 with 1 Axes>"
      ]
     },
     "metadata": {
      "needs_background": "light"
     },
     "output_type": "display_data"
    }
   ],
   "source": [
    "# Visualize the users churned\n",
    "ax = temp_df.drop_duplicates(subset='userId').groupby('churn')['userId'].count().plot(\n",
    "                                kind='barh', figsize=(8,5), \n",
    "                                title='Number of unique users by Subscription Level');\n",
    "ax.set_xlabel('Number of users');\n",
    "ax.set_yticklabels(['Active/Not Churned', 'Churned'], rotation=0)\n",
    "ax.set_ylabel(\"Subscription status\");\n",
    "\n",
    "# Test    \n",
    "#plot_frequency(['userId'], ['churn'], ['Active', 'Cancelled'])"
   ]
  },
  {
   "cell_type": "markdown",
   "metadata": {},
   "source": [
    "Note: For ease of reading, I will refer to Not Churned users as Active now"
   ]
  },
  {
   "cell_type": "code",
   "execution_count": 40,
   "metadata": {
    "scrolled": true
   },
   "outputs": [
    {
     "data": {
      "image/png": "[encoded data removed]",
      "text/plain": [
       "<Figure size 576x360 with 1 Axes>"
      ]
     },
     "metadata": {
      "needs_background": "light"
     },
     "output_type": "display_data"
    }
   ],
   "source": [
    "# Churn by visualization of gender\n",
    "\n",
    "df_gen = df.dropDuplicates([\"userId\", \"gender\"]).groupby([\"churn\", \"gender\"]).count().sort(\"churn\").toPandas()\n",
    "ax = temp_df.drop_duplicates(subset=['userId', 'gender']).groupby(['gender', 'churn'])['userId'].count().plot(\n",
    "                                kind='barh', figsize=(8,5), \n",
    "                                title='Subscription Level by Gender and Number of users');\n",
    "ax.set_xlabel('Number of users');\n",
    "ax.set_yticklabels(['Active-Female', 'Churned-Female', 'Active-Male', 'Churned-Male'], rotation=0)\n",
    "ax.set_ylabel(\"Gender/Subscription Level\");"
   ]
  },
  {
   "cell_type": "code",
   "execution_count": 41,
   "metadata": {},
   "outputs": [
    {
     "data": {
      "image/png": "[encoded data removed]",
      "text/plain": [
       "<Figure size 576x360 with 1 Axes>"
      ]
     },
     "metadata": {
      "needs_background": "light"
     },
     "output_type": "display_data"
    }
   ],
   "source": [
    "# Visualize by churn and subscription \n",
    "ax = temp_df.drop_duplicates(subset=['userId', 'level']).groupby(['level', 'churn'])['userId'].count().plot(\n",
    "                                kind='barh', figsize=(8,5), \n",
    "                                title='Subscription Level by Status and Number of users');\n",
    "ax.set_xlabel('Number of users');\n",
    "ax.set_yticklabels(['Active-Free', 'Churned-Free', 'Active-Paid', 'Churned-Paid'], rotation=0)\n",
    "ax.set_ylabel(\"Subscription Level/Status\");"
   ]
  },
  {
   "cell_type": "code",
   "execution_count": 42,
   "metadata": {},
   "outputs": [
    {
     "data": {
      "image/png": "[encoded data removed]",
      "text/plain": [
       "<Figure size 576x720 with 1 Axes>"
      ]
     },
     "metadata": {
      "needs_background": "light"
     },
     "output_type": "display_data"
    }
   ],
   "source": [
    "# Page Analysis \n",
    "# I used percentage as a comparison, otherwise the bar length is too small\n",
    "users_1 = dfp[dfp.churn == 1].groupby(['page'])['userId'].count().drop('NextSong')\n",
    "users_1 = users_1 /users_1.sum()*100\n",
    "\n",
    "users_0 = dfp[dfp.churn == 0].groupby(['page'])['userId'].count().drop('NextSong')\n",
    "users_0 = users_0 /users_0.sum()*100\n",
    "\n",
    "users_df = pd.DataFrame({'Churned Users': users_1,'Active Users':users_0})\n",
    "ax = users_df.plot(kind='barh', figsize=(8,10));\n",
    "ax.set_xlabel('Page type Percentage')\n",
    "ax.set_title('Page Usage for Active and Churned users');\n",
    "\n"
   ]
  },
  {
   "cell_type": "code",
   "execution_count": 43,
   "metadata": {},
   "outputs": [],
   "source": [
    "#Time for a little Spark SQL. I need to create a temp SQL view\n",
    "\n",
    "df.createOrReplaceTempView(\"sql_view_table\")\n"
   ]
  },
  {
   "cell_type": "code",
   "execution_count": 44,
   "metadata": {},
   "outputs": [],
   "source": [
    "number_of_sessions = spark.sql(\"SELECT userId, avg(count) as average from (SELECT userId, count(*) as count FROM sql_view_table group by sessionId, userId) group by userId\")"
   ]
  },
  {
   "cell_type": "code",
   "execution_count": 45,
   "metadata": {},
   "outputs": [],
   "source": [
    "churned_users = list(dfp[dfp['page'] == 'Cancellation Confirmation']['userId'].unique())"
   ]
  },
  {
   "cell_type": "code",
   "execution_count": 46,
   "metadata": {},
   "outputs": [],
   "source": [
    "churned_users.sort()"
   ]
  },
  {
   "cell_type": "code",
   "execution_count": 47,
   "metadata": {
    "scrolled": true
   },
   "outputs": [
    {
     "data": {
      "image/png": "[encoded data removed]",
      "text/plain": [
       "<Figure size 432x288 with 1 Axes>"
      ]
     },
     "metadata": {
      "needs_background": "light"
     },
     "output_type": "display_data"
    }
   ],
   "source": [
    "pd_num_sessions = number_of_sessions.toPandas()\n",
    "pd_num_sessions['churn'] = pd_num_sessions['userId'].apply(lambda x: 1 if x in churned_users else 0)\n",
    "sns.barplot(x=\"churn\", y=\"average\", data=pd_num_sessions, ci=None);\n",
    "plt.xlabel(\"User Status\", fontsize=14);\n",
    "plt.ylabel(\"Average number of sessions\", fontsize=14);\n",
    "plt.title(\"Average session counts versus Churn\", fontsize=14);"
   ]
  },
  {
   "cell_type": "markdown",
   "metadata": {},
   "source": [
    "#### Notes from EDA\n",
    "\n",
    "1) We have more customers staying active than churning.\n",
    "\n",
    "2) Believe that the churn rate is still too high.\n",
    "\n",
    "3) Males both churn or stay active at a higher rate than females.\n",
    "\n",
    "4) The free users both churn or stay active at a higher rate than the pay users.\n",
    "\n",
    "5) Page analysis shows that the ratings system (thumbs up/down) is popular.\n",
    "\n",
    "6) This is followed by adding to a playlist and adding a friend.\n",
    "\n",
    "7) Session count is higher for the active customers, although the churn customers have a faily high amount as well.\n",
    "\n"
   ]
  },
  {
   "cell_type": "markdown",
   "metadata": {},
   "source": [
    "# Feature Engineering\n",
    "Once you've familiarized yourself with the data, build out the features you find promising to train your model on. To work with the full dataset, you can follow the following steps.\n",
    "- Write a script to extract the necessary features from the smaller subset of data\n",
    "- Ensure that your script is scalable, using the best practices discussed in Lesson 3\n",
    "- Try your script on the full data set, debugging your script if necessary\n",
    "\n",
    "If you are working in the classroom workspace, you can just extract features based on the small subset of data contained here. Be sure to transfer over this work to the larger dataset when you work on your Spark cluster."
   ]
  },
  {
   "cell_type": "markdown",
   "metadata": {},
   "source": [
    "After analyzing all the column above i have decided to use below features in my model:\n",
    "\n",
    "* Gender<br/>\n",
    "* UserAgent<br/>\n",
    "* Status<br/>\n",
    "* Page<br/>\n",
    "\n",
    "<p>Once the columns were identified, we now have to make sure that they are all numeric datatypes for ML use. The Gender, UserAgent and Ppage columns will be converted into numeric values using a combination of String Indexing and One Hot encoding.</p>\n",
    "\n"
   ]
  },
  {
   "cell_type": "markdown",
   "metadata": {},
   "source": [
    "#### Helpful Extract and Transform links\n",
    "\n",
    "https://spark.apache.org/docs/2.4.3/ml-features.html\n",
    "    \n",
    "Super helpful guide here: https://towardsdatascience.com/feature-encoding-with-spark-2-3-0-part-1-9ede45562740\n",
    "\n",
    "Part 2 was good too: https://towardsdatascience.com/feature-encoding-made-simple-with-spark-2-3-0-part-2-5bfc869a809a\n",
    "\n",
    "        "
   ]
  },
  {
   "cell_type": "code",
   "execution_count": 48,
   "metadata": {},
   "outputs": [
    {
     "data": {
      "text/plain": [
       "['artist',\n",
       " 'auth',\n",
       " 'firstName',\n",
       " 'gender',\n",
       " 'itemInSession',\n",
       " 'lastName',\n",
       " 'length',\n",
       " 'level',\n",
       " 'location',\n",
       " 'method',\n",
       " 'page',\n",
       " 'registration',\n",
       " 'sessionId',\n",
       " 'song',\n",
       " 'status',\n",
       " 'ts',\n",
       " 'userAgent',\n",
       " 'userId',\n",
       " 'churn']"
      ]
     },
     "execution_count": 48,
     "metadata": {},
     "output_type": "execute_result"
    }
   ],
   "source": [
    "df.columns"
   ]
  },
  {
   "cell_type": "code",
   "execution_count": 49,
   "metadata": {},
   "outputs": [],
   "source": [
    "# Set up the Indexers and Encoders for the Vector Assembler. \n",
    "# Refererences for StringIndexer and OneHotEncoder: https://spark.apache.org/docs/2.3.0/ml-features.html\n",
    "# stages variable needed later for the Pipeline\n",
    "\n",
    "cols = df.columns\n",
    "stages = []\n",
    "Gender_indexer = StringIndexer(inputCol=\"gender\", outputCol='Gender_Index')\n",
    "User_indexer = StringIndexer(inputCol=\"userAgent\", outputCol='User_Index')\n",
    "Page_indexer = StringIndexer(inputCol=\"page\", outputCol='Page_Index')\n",
    "\n",
    "\n",
    "Gender_encoder = OneHotEncoder(inputCol='Gender_Index', outputCol='Gender_Vec')\n",
    "User_encoder = OneHotEncoder(inputCol='User_Index', outputCol='User_Vec')\n",
    "Page_encoder = OneHotEncoder(inputCol='Page_Index', outputCol='Page_Vec')\n",
    "\n",
    "stages += [Gender_indexer, Gender_encoder]\n",
    "stages += [User_indexer, User_encoder]\n",
    "stages += [Page_indexer, Page_encoder]\n",
    "\n",
    "# Get single vector column for our binary classification models\n",
    "assembler = VectorAssembler(inputCols=[\"Gender_Vec\", \"User_Vec\", \"Page_Vec\", \"status\"], outputCol=\"features\")\n",
    "#assembler = VectorAssembler(inputCols=[\"Gender_Vec\", \"User_Vec\", \"Page_Vec\", \"status\"])\n",
    "stages += [assembler]\n",
    "\n",
    "# I define indexer as the binary field to be determined (Churn = yes or no?)\n",
    "indexer = StringIndexer(inputCol=\"churn\", outputCol=\"label\")\n",
    "#indexer = StringIndexer(inputCol=\"churn\")\n",
    "stages += [indexer]"
   ]
  },
  {
   "cell_type": "markdown",
   "metadata": {},
   "source": [
    "# Modeling\n",
    "Split the full dataset into train, test, and validation sets. Test out several of the machine learning methods you learned. Evaluate the accuracy of the various models, tuning parameters as necessary. Determine your winning model based on test accuracy and report results on the validation set. Since the churned users are a fairly small subset, I suggest using F1 score as the metric to optimize."
   ]
  },
  {
   "cell_type": "markdown",
   "metadata": {},
   "source": [
    "##### Model choices\n",
    "\n",
    "We have a simple but key business need here. Answer the binary yes or no question: \"Will a customer churn?\". This represents a dynamic on two important fronts:\n",
    "\n",
    "1) How can we keep existing customers from churning\n",
    "2) How can we prevent future customer from churning\n",
    "\n",
    "There is also a another key question that would require potentially more data and analysis which is \"How can we get free customers to become paid customers?\". As they saying goes, that is beyond the scope of this exericse. However, that would be my next step. \n",
    "\n",
    "Back to the question at hand, how to prevent churn. I've chosen two good classification models to use for this exercise:\n",
    "\n",
    "* Logistic regression\n",
    "* Random Forest \n"
   ]
  },
  {
   "cell_type": "markdown",
   "metadata": {},
   "source": [
    "#### Some references\n",
    "\n",
    "https://spark.apache.org/docs/2.4.3/ml-classification-regression.html\n",
    "\n",
    "https://www.analyticsvidhya.com/blog/2019/11/build-machine-learning-pipelines-pyspark/\n",
    "\n",
    "https://spark.apache.org/docs/2.4.3/ml-pipeline.html\n",
    "\n",
    "https://projector-video-pdf-converter.datacamp.com/14989/chapter4.pdf\n",
    "\n",
    "https://www.datacamp.com/community/tutorials/apache-spark-tutorial-machine-learning\n",
    "\n",
    "http://spark.apache.org/docs/2.4.3/ml-tuning.html\n",
    "\n"
   ]
  },
  {
   "cell_type": "markdown",
   "metadata": {},
   "source": [
    "#### Pyspark ML statistics\n",
    "\n",
    "Part of this code comes from the ideas and examples in this great Pyspark/ML article:\n",
    "https://towardsdatascience.com/machine-learning-with-pyspark-and-mllib-solving-a-binary-classification-problem-96396065d2aa\n",
    "\n",
    "The pipeline in Pyspark ML is a series of stages, one for the Transformer and the other for the Estimator.\n",
    "\n",
    "The advantage of having ML capabilities in Spark is that most ML libraries are not really \"distribued processing\" friendly, or have limited pipelining capabilities. "
   ]
  },
  {
   "cell_type": "code",
   "execution_count": 50,
   "metadata": {},
   "outputs": [
    {
     "name": "stdout",
     "output_type": "stream",
     "text": [
      "root\n",
      " |-- label: double (nullable = false)\n",
      " |-- features: vector (nullable = true)\n",
      " |-- artist: string (nullable = true)\n",
      " |-- auth: string (nullable = true)\n",
      " |-- firstName: string (nullable = true)\n",
      " |-- gender: string (nullable = true)\n",
      " |-- itemInSession: long (nullable = true)\n",
      " |-- lastName: string (nullable = true)\n",
      " |-- length: double (nullable = true)\n",
      " |-- level: string (nullable = true)\n",
      " |-- location: string (nullable = true)\n",
      " |-- method: string (nullable = true)\n",
      " |-- page: string (nullable = true)\n",
      " |-- registration: long (nullable = true)\n",
      " |-- sessionId: long (nullable = true)\n",
      " |-- song: string (nullable = true)\n",
      " |-- status: long (nullable = true)\n",
      " |-- ts: long (nullable = true)\n",
      " |-- userAgent: string (nullable = true)\n",
      " |-- userId: string (nullable = true)\n",
      " |-- churn: integer (nullable = false)\n",
      "\n"
     ]
    }
   ],
   "source": [
    "# Time to build a pipeline to feed into the ML model\n",
    "# Helpful: Spark pipeline/transformer guide: http://spark.apache.org/docs/2.4.3/ml-pipeline.html\n",
    "\n",
    "pipeline = Pipeline(stages = stages)\n",
    "pipelineModel = pipeline.fit(df)\n",
    "df = pipelineModel.transform(df)\n",
    "selectedCols = ['label', 'features'] + cols\n",
    "df = df.select(selectedCols)\n",
    "df.printSchema()"
   ]
  },
  {
   "cell_type": "code",
   "execution_count": 51,
   "metadata": {
    "scrolled": true
   },
   "outputs": [
    {
     "data": {
      "text/plain": [
       "['label',\n",
       " 'features',\n",
       " 'artist',\n",
       " 'auth',\n",
       " 'firstName',\n",
       " 'gender',\n",
       " 'itemInSession',\n",
       " 'lastName',\n",
       " 'length',\n",
       " 'level',\n",
       " 'location',\n",
       " 'method',\n",
       " 'page',\n",
       " 'registration',\n",
       " 'sessionId',\n",
       " 'song',\n",
       " 'status',\n",
       " 'ts',\n",
       " 'userAgent',\n",
       " 'userId',\n",
       " 'churn']"
      ]
     },
     "execution_count": 51,
     "metadata": {},
     "output_type": "execute_result"
    }
   ],
   "source": [
    "selectedCols"
   ]
  },
  {
   "cell_type": "code",
   "execution_count": 52,
   "metadata": {},
   "outputs": [],
   "source": [
    "df = df.select(selectedCols)"
   ]
  },
  {
   "cell_type": "code",
   "execution_count": 53,
   "metadata": {
    "scrolled": true
   },
   "outputs": [
    {
     "data": {
      "text/html": [
       "<div>\n",
       "<style scoped>\n",
       "    .dataframe tbody tr th:only-of-type {\n",
       "        vertical-align: middle;\n",
       "    }\n",
       "\n",
       "    .dataframe tbody tr th {\n",
       "        vertical-align: top;\n",
       "    }\n",
       "\n",
       "    .dataframe thead th {\n",
       "        text-align: right;\n",
       "    }\n",
       "</style>\n",
       "<table border=\"1\" class=\"dataframe\">\n",
       "  <thead>\n",
       "    <tr style=\"text-align: right;\">\n",
       "      <th></th>\n",
       "      <th>0</th>\n",
       "      <th>1</th>\n",
       "      <th>2</th>\n",
       "      <th>3</th>\n",
       "      <th>4</th>\n",
       "    </tr>\n",
       "  </thead>\n",
       "  <tbody>\n",
       "    <tr>\n",
       "      <th>label</th>\n",
       "      <td>0</td>\n",
       "      <td>0</td>\n",
       "      <td>0</td>\n",
       "      <td>0</td>\n",
       "      <td>0</td>\n",
       "    </tr>\n",
       "    <tr>\n",
       "      <th>features</th>\n",
       "      <td>(0.0, 0.0, 0.0, 0.0, 0.0, 1.0, 0.0, 0.0, 0.0, ...</td>\n",
       "      <td>(0.0, 0.0, 0.0, 0.0, 0.0, 0.0, 0.0, 1.0, 0.0, ...</td>\n",
       "      <td>(0.0, 0.0, 0.0, 0.0, 0.0, 1.0, 0.0, 0.0, 0.0, ...</td>\n",
       "      <td>(0.0, 0.0, 0.0, 0.0, 0.0, 0.0, 0.0, 1.0, 0.0, ...</td>\n",
       "      <td>(0.0, 0.0, 0.0, 0.0, 0.0, 1.0, 0.0, 0.0, 0.0, ...</td>\n",
       "    </tr>\n",
       "    <tr>\n",
       "      <th>artist</th>\n",
       "      <td>Martha Tilston</td>\n",
       "      <td>Five Iron Frenzy</td>\n",
       "      <td>Adam Lambert</td>\n",
       "      <td>Enigma</td>\n",
       "      <td>Daft Punk</td>\n",
       "    </tr>\n",
       "    <tr>\n",
       "      <th>auth</th>\n",
       "      <td>Logged In</td>\n",
       "      <td>Logged In</td>\n",
       "      <td>Logged In</td>\n",
       "      <td>Logged In</td>\n",
       "      <td>Logged In</td>\n",
       "    </tr>\n",
       "    <tr>\n",
       "      <th>firstName</th>\n",
       "      <td>Colin</td>\n",
       "      <td>Micah</td>\n",
       "      <td>Colin</td>\n",
       "      <td>Micah</td>\n",
       "      <td>Colin</td>\n",
       "    </tr>\n",
       "    <tr>\n",
       "      <th>gender</th>\n",
       "      <td>M</td>\n",
       "      <td>M</td>\n",
       "      <td>M</td>\n",
       "      <td>M</td>\n",
       "      <td>M</td>\n",
       "    </tr>\n",
       "    <tr>\n",
       "      <th>itemInSession</th>\n",
       "      <td>50</td>\n",
       "      <td>79</td>\n",
       "      <td>51</td>\n",
       "      <td>80</td>\n",
       "      <td>52</td>\n",
       "    </tr>\n",
       "    <tr>\n",
       "      <th>lastName</th>\n",
       "      <td>Freeman</td>\n",
       "      <td>Long</td>\n",
       "      <td>Freeman</td>\n",
       "      <td>Long</td>\n",
       "      <td>Freeman</td>\n",
       "    </tr>\n",
       "    <tr>\n",
       "      <th>length</th>\n",
       "      <td>277.89</td>\n",
       "      <td>236.094</td>\n",
       "      <td>282.827</td>\n",
       "      <td>262.713</td>\n",
       "      <td>223.608</td>\n",
       "    </tr>\n",
       "    <tr>\n",
       "      <th>level</th>\n",
       "      <td>paid</td>\n",
       "      <td>free</td>\n",
       "      <td>paid</td>\n",
       "      <td>free</td>\n",
       "      <td>paid</td>\n",
       "    </tr>\n",
       "    <tr>\n",
       "      <th>location</th>\n",
       "      <td>Bakersfield, CA</td>\n",
       "      <td>Boston-Cambridge-Newton, MA-NH</td>\n",
       "      <td>Bakersfield, CA</td>\n",
       "      <td>Boston-Cambridge-Newton, MA-NH</td>\n",
       "      <td>Bakersfield, CA</td>\n",
       "    </tr>\n",
       "    <tr>\n",
       "      <th>method</th>\n",
       "      <td>PUT</td>\n",
       "      <td>PUT</td>\n",
       "      <td>PUT</td>\n",
       "      <td>PUT</td>\n",
       "      <td>PUT</td>\n",
       "    </tr>\n",
       "    <tr>\n",
       "      <th>page</th>\n",
       "      <td>NextSong</td>\n",
       "      <td>NextSong</td>\n",
       "      <td>NextSong</td>\n",
       "      <td>NextSong</td>\n",
       "      <td>NextSong</td>\n",
       "    </tr>\n",
       "    <tr>\n",
       "      <th>registration</th>\n",
       "      <td>1538173362000</td>\n",
       "      <td>1538331630000</td>\n",
       "      <td>1538173362000</td>\n",
       "      <td>1538331630000</td>\n",
       "      <td>1538173362000</td>\n",
       "    </tr>\n",
       "    <tr>\n",
       "      <th>sessionId</th>\n",
       "      <td>29</td>\n",
       "      <td>8</td>\n",
       "      <td>29</td>\n",
       "      <td>8</td>\n",
       "      <td>29</td>\n",
       "    </tr>\n",
       "    <tr>\n",
       "      <th>song</th>\n",
       "      <td>Rockpools</td>\n",
       "      <td>Canada</td>\n",
       "      <td>Time For Miracles</td>\n",
       "      <td>Knocking On Forbidden Doors</td>\n",
       "      <td>Harder Better Faster Stronger</td>\n",
       "    </tr>\n",
       "    <tr>\n",
       "      <th>status</th>\n",
       "      <td>200</td>\n",
       "      <td>200</td>\n",
       "      <td>200</td>\n",
       "      <td>200</td>\n",
       "      <td>200</td>\n",
       "    </tr>\n",
       "    <tr>\n",
       "      <th>ts</th>\n",
       "      <td>1538352117000</td>\n",
       "      <td>1538352180000</td>\n",
       "      <td>1538352394000</td>\n",
       "      <td>1538352416000</td>\n",
       "      <td>1538352676000</td>\n",
       "    </tr>\n",
       "    <tr>\n",
       "      <th>userAgent</th>\n",
       "      <td>Mozilla/5.0 (Windows NT 6.1; WOW64; rv:31.0) G...</td>\n",
       "      <td>\"Mozilla/5.0 (Windows NT 6.1; WOW64) AppleWebK...</td>\n",
       "      <td>Mozilla/5.0 (Windows NT 6.1; WOW64; rv:31.0) G...</td>\n",
       "      <td>\"Mozilla/5.0 (Windows NT 6.1; WOW64) AppleWebK...</td>\n",
       "      <td>Mozilla/5.0 (Windows NT 6.1; WOW64; rv:31.0) G...</td>\n",
       "    </tr>\n",
       "    <tr>\n",
       "      <th>userId</th>\n",
       "      <td>30</td>\n",
       "      <td>9</td>\n",
       "      <td>30</td>\n",
       "      <td>9</td>\n",
       "      <td>30</td>\n",
       "    </tr>\n",
       "    <tr>\n",
       "      <th>churn</th>\n",
       "      <td>0</td>\n",
       "      <td>0</td>\n",
       "      <td>0</td>\n",
       "      <td>0</td>\n",
       "      <td>0</td>\n",
       "    </tr>\n",
       "  </tbody>\n",
       "</table>\n",
       "</div>"
      ],
      "text/plain": [
       "                                                               0  \\\n",
       "label                                                          0   \n",
       "features       (0.0, 0.0, 0.0, 0.0, 0.0, 1.0, 0.0, 0.0, 0.0, ...   \n",
       "artist                                            Martha Tilston   \n",
       "auth                                                   Logged In   \n",
       "firstName                                                  Colin   \n",
       "gender                                                         M   \n",
       "itemInSession                                                 50   \n",
       "lastName                                                 Freeman   \n",
       "length                                                    277.89   \n",
       "level                                                       paid   \n",
       "location                                         Bakersfield, CA   \n",
       "method                                                       PUT   \n",
       "page                                                    NextSong   \n",
       "registration                                       1538173362000   \n",
       "sessionId                                                     29   \n",
       "song                                                   Rockpools   \n",
       "status                                                       200   \n",
       "ts                                                 1538352117000   \n",
       "userAgent      Mozilla/5.0 (Windows NT 6.1; WOW64; rv:31.0) G...   \n",
       "userId                                                        30   \n",
       "churn                                                          0   \n",
       "\n",
       "                                                               1  \\\n",
       "label                                                          0   \n",
       "features       (0.0, 0.0, 0.0, 0.0, 0.0, 0.0, 0.0, 1.0, 0.0, ...   \n",
       "artist                                          Five Iron Frenzy   \n",
       "auth                                                   Logged In   \n",
       "firstName                                                  Micah   \n",
       "gender                                                         M   \n",
       "itemInSession                                                 79   \n",
       "lastName                                                    Long   \n",
       "length                                                   236.094   \n",
       "level                                                       free   \n",
       "location                          Boston-Cambridge-Newton, MA-NH   \n",
       "method                                                       PUT   \n",
       "page                                                    NextSong   \n",
       "registration                                       1538331630000   \n",
       "sessionId                                                      8   \n",
       "song                                                      Canada   \n",
       "status                                                       200   \n",
       "ts                                                 1538352180000   \n",
       "userAgent      \"Mozilla/5.0 (Windows NT 6.1; WOW64) AppleWebK...   \n",
       "userId                                                         9   \n",
       "churn                                                          0   \n",
       "\n",
       "                                                               2  \\\n",
       "label                                                          0   \n",
       "features       (0.0, 0.0, 0.0, 0.0, 0.0, 1.0, 0.0, 0.0, 0.0, ...   \n",
       "artist                                              Adam Lambert   \n",
       "auth                                                   Logged In   \n",
       "firstName                                                  Colin   \n",
       "gender                                                         M   \n",
       "itemInSession                                                 51   \n",
       "lastName                                                 Freeman   \n",
       "length                                                   282.827   \n",
       "level                                                       paid   \n",
       "location                                         Bakersfield, CA   \n",
       "method                                                       PUT   \n",
       "page                                                    NextSong   \n",
       "registration                                       1538173362000   \n",
       "sessionId                                                     29   \n",
       "song                                           Time For Miracles   \n",
       "status                                                       200   \n",
       "ts                                                 1538352394000   \n",
       "userAgent      Mozilla/5.0 (Windows NT 6.1; WOW64; rv:31.0) G...   \n",
       "userId                                                        30   \n",
       "churn                                                          0   \n",
       "\n",
       "                                                               3  \\\n",
       "label                                                          0   \n",
       "features       (0.0, 0.0, 0.0, 0.0, 0.0, 0.0, 0.0, 1.0, 0.0, ...   \n",
       "artist                                                    Enigma   \n",
       "auth                                                   Logged In   \n",
       "firstName                                                  Micah   \n",
       "gender                                                         M   \n",
       "itemInSession                                                 80   \n",
       "lastName                                                    Long   \n",
       "length                                                   262.713   \n",
       "level                                                       free   \n",
       "location                          Boston-Cambridge-Newton, MA-NH   \n",
       "method                                                       PUT   \n",
       "page                                                    NextSong   \n",
       "registration                                       1538331630000   \n",
       "sessionId                                                      8   \n",
       "song                                 Knocking On Forbidden Doors   \n",
       "status                                                       200   \n",
       "ts                                                 1538352416000   \n",
       "userAgent      \"Mozilla/5.0 (Windows NT 6.1; WOW64) AppleWebK...   \n",
       "userId                                                         9   \n",
       "churn                                                          0   \n",
       "\n",
       "                                                               4  \n",
       "label                                                          0  \n",
       "features       (0.0, 0.0, 0.0, 0.0, 0.0, 1.0, 0.0, 0.0, 0.0, ...  \n",
       "artist                                                 Daft Punk  \n",
       "auth                                                   Logged In  \n",
       "firstName                                                  Colin  \n",
       "gender                                                         M  \n",
       "itemInSession                                                 52  \n",
       "lastName                                                 Freeman  \n",
       "length                                                   223.608  \n",
       "level                                                       paid  \n",
       "location                                         Bakersfield, CA  \n",
       "method                                                       PUT  \n",
       "page                                                    NextSong  \n",
       "registration                                       1538173362000  \n",
       "sessionId                                                     29  \n",
       "song                               Harder Better Faster Stronger  \n",
       "status                                                       200  \n",
       "ts                                                 1538352676000  \n",
       "userAgent      Mozilla/5.0 (Windows NT 6.1; WOW64; rv:31.0) G...  \n",
       "userId                                                        30  \n",
       "churn                                                          0  "
      ]
     },
     "execution_count": 53,
     "metadata": {},
     "output_type": "execute_result"
    }
   ],
   "source": [
    "# We can see the 'label' and 'features' columns are added\n",
    "pd.DataFrame(df.take(5), columns=df.columns).transpose()"
   ]
  },
  {
   "cell_type": "code",
   "execution_count": 54,
   "metadata": {},
   "outputs": [],
   "source": [
    "# Set up test and training data with the pyspark randomsplit function\n",
    "# From here: https://spark.apache.org/docs/2.4.3/api/python/pyspark.sql.html\n",
    "# Use 90% training, 10% test. We've used 42 as the random seed before\n",
    "\n",
    "test_set, validation = df.randomSplit([0.9, 0.1], seed=42)"
   ]
  },
  {
   "cell_type": "markdown",
   "metadata": {},
   "source": [
    "#### First Model to Run: Logistic Regression\n",
    "\n",
    "I'll run a \"basic\" Logistic Regression against our test dataset. As well, I'll print out a number of metrics that are available from the Pyspark ML Library\n",
    "\n",
    "Again, want to mention this article on getting metrics from Pyspark ML and it's associated libraries. While the Pyspark documentation is pretty good, it's a bit dense in terms of pulling out information on how to get to the metrics that are easier (or better documented) in Python and Sci-Py. \n",
    "\n",
    "https://towardsdatascience.com/machine-learning-with-pyspark-and-mllib-solving-a-binary-classification-problem-96396065d2aa\n",
    "\n"
   ]
  },
  {
   "cell_type": "code",
   "execution_count": 55,
   "metadata": {},
   "outputs": [],
   "source": [
    "#\"Basic\" Logistic Regression\n",
    "lr = LogisticRegression(featuresCol = 'features', labelCol = 'label', maxIter=10)"
   ]
  },
  {
   "cell_type": "code",
   "execution_count": 56,
   "metadata": {},
   "outputs": [],
   "source": [
    "# Fit the model to the test data\n",
    "lrModel = lr.fit(test_set)"
   ]
  },
  {
   "cell_type": "code",
   "execution_count": 57,
   "metadata": {
    "scrolled": true
   },
   "outputs": [
    {
     "data": {
      "text/plain": [
       "DenseVector([-1.4017, 0.9886, 1.4386, 0.3141, -0.3423, 0.1465, -2.2107, 0.6836, 1.2692, -2.8317, -2.6865, 0.7737, 1.7488, -0.4829, 1.5791, 0.4005, 0.673, -2.8722, -3.0057, 1.5967, 2.2499, 0.224, 6.0289, -3.5671, -2.5611, -3.1536, 3.3069, -3.0453, -3.5599, -3.5642, 3.9645, -3.5589, -3.5717, 9.4313, 8.8011, -2.5602, -3.5618, -3.5835, -3.5533, 3.5166, -0.4989, -3.5658, 2.613, -2.6011, -2.5526, 9.4132, -1.7897, -3.6066, -3.4666, -2.5419, -2.5846, -3.5843, -3.6101, -2.6032, -3.6104, 9.3642, -0.094, -0.1691, -0.0474, -0.084, -0.0704, 0.6246, 0.0255, 0.1139, -0.1381, 0.0531, 0.0342, 0.3214, -0.3325, 0.0727, -0.3894, 0.1846, -0.112, 8.7188, -0.0005])"
      ]
     },
     "execution_count": 57,
     "metadata": {},
     "output_type": "execute_result"
    }
   ],
   "source": [
    "# Here are the coefficients\n",
    "# An eye chart, but I put this in to show how to get to them\n",
    "# This was a helpful guide from the good folks at DataBricks\n",
    "# https://docs.databricks.com/applications/machine-learning/mllib/binary-classification-mllib-pipelines.html\n",
    "lrModel.coefficients"
   ]
  },
  {
   "cell_type": "code",
   "execution_count": 58,
   "metadata": {
    "scrolled": false
   },
   "outputs": [
    {
     "data": {
      "image/png": "[encoded data removed]",
      "text/plain": [
       "<Figure size 432x288 with 1 Axes>"
      ]
     },
     "metadata": {
      "needs_background": "light"
     },
     "output_type": "display_data"
    }
   ],
   "source": [
    "# Here are the Logistic Regression Coefficients\n",
    "# \n",
    "beta = np.sort(lrModel.coefficients)\n",
    "plt.plot(beta)\n",
    "plt.title('Coefficients')\n",
    "plt.ylabel('Beta Coefficients')\n",
    "plt.show()"
   ]
  },
  {
   "cell_type": "code",
   "execution_count": 59,
   "metadata": {
    "scrolled": true
   },
   "outputs": [
    {
     "data": {
      "image/png": "[encoded data removed]",
      "text/plain": [
       "<Figure size 432x288 with 1 Axes>"
      ]
     },
     "metadata": {
      "needs_background": "light"
     },
     "output_type": "display_data"
    },
    {
     "name": "stdout",
     "output_type": "stream",
     "text": [
      "Training set areaUnderROC: 0.8740735904092564\n"
     ]
    }
   ],
   "source": [
    "# This is a handy summary \n",
    "# From https://spark.apache.org/docs/2.4.3/ml-classification-regression.html#binomial-logistic-regression\n",
    "# And all the measures: https://spark.apache.org/docs/2.4.3/api/python/pyspark.ml.html#pyspark.ml.classification.LogisticRegressionSummary\n",
    "\n",
    "trainingSummary = lrModel.summary\n",
    "roc = trainingSummary.roc.toPandas()\n",
    "plt.plot(roc['FPR'],roc['TPR'])\n",
    "plt.ylabel('False Positive Rate')\n",
    "plt.xlabel('True Positive Rate')\n",
    "plt.title('ROC Curve')\n",
    "plt.show()\n",
    "print('Training set areaUnderROC: ' + str(trainingSummary.areaUnderROC))"
   ]
  },
  {
   "cell_type": "code",
   "execution_count": 60,
   "metadata": {
    "scrolled": true
   },
   "outputs": [
    {
     "data": {
      "image/png": "[encoded data removed]",
      "text/plain": [
       "<Figure size 432x288 with 1 Axes>"
      ]
     },
     "metadata": {
      "needs_background": "light"
     },
     "output_type": "display_data"
    }
   ],
   "source": [
    "# Precision vs recall \n",
    "pr = trainingSummary.pr.toPandas()\n",
    "plt.title('Precision vs Recall')\n",
    "plt.plot(pr['recall'],pr['precision'])\n",
    "plt.ylabel('Precision')\n",
    "plt.xlabel('Recall')\n",
    "plt.show()"
   ]
  },
  {
   "cell_type": "code",
   "execution_count": 61,
   "metadata": {
    "scrolled": false
   },
   "outputs": [
    {
     "name": "stdout",
     "output_type": "stream",
     "text": [
      "+------+--------------------+--------+-----+--------------------+----------+--------------------+\n",
      "|gender|           UserAgent|    page|label|       rawPrediction|prediction|         probability|\n",
      "+------+--------------------+--------+-----+--------------------+----------+--------------------+\n",
      "|     F|\"Mozilla/5.0 (Win...|NextSong|  0.0|[2.25731866841775...|       0.0|[0.90527996153683...|\n",
      "|     F|\"Mozilla/5.0 (Win...|NextSong|  0.0|[2.25731866841775...|       0.0|[0.90527996153683...|\n",
      "|     F|\"Mozilla/5.0 (Win...|NextSong|  0.0|[2.25731866841775...|       0.0|[0.90527996153683...|\n",
      "|     F|\"Mozilla/5.0 (Win...|NextSong|  0.0|[2.25731866841775...|       0.0|[0.90527996153683...|\n",
      "|     F|\"Mozilla/5.0 (Win...|NextSong|  0.0|[2.25731866841775...|       0.0|[0.90527996153683...|\n",
      "|     F|\"Mozilla/5.0 (Win...|NextSong|  0.0|[2.25731866841775...|       0.0|[0.90527996153683...|\n",
      "|     F|\"Mozilla/5.0 (Win...|NextSong|  0.0|[2.25731866841775...|       0.0|[0.90527996153683...|\n",
      "|     F|\"Mozilla/5.0 (Win...|NextSong|  0.0|[2.25731866841775...|       0.0|[0.90527996153683...|\n",
      "|     F|\"Mozilla/5.0 (Win...|NextSong|  0.0|[2.25731866841775...|       0.0|[0.90527996153683...|\n",
      "|     F|\"Mozilla/5.0 (Win...|NextSong|  0.0|[2.25731866841775...|       0.0|[0.90527996153683...|\n",
      "+------+--------------------+--------+-----+--------------------+----------+--------------------+\n",
      "only showing top 10 rows\n",
      "\n"
     ]
    }
   ],
   "source": [
    "# This is a summary of the predictions\n",
    "predictions = lrModel.transform(test_set)\n",
    "predictions.select('gender', 'UserAgent', 'page' ,'label', 'rawPrediction', 'prediction', 'probability').show(10)"
   ]
  },
  {
   "cell_type": "code",
   "execution_count": 62,
   "metadata": {
    "scrolled": true
   },
   "outputs": [
    {
     "name": "stdout",
     "output_type": "stream",
     "text": [
      "The F1 Score:  0.8511582947715388\n"
     ]
    },
    {
     "data": {
      "text/html": [
       "<div>\n",
       "<style scoped>\n",
       "    .dataframe tbody tr th:only-of-type {\n",
       "        vertical-align: middle;\n",
       "    }\n",
       "\n",
       "    .dataframe tbody tr th {\n",
       "        vertical-align: top;\n",
       "    }\n",
       "\n",
       "    .dataframe thead th {\n",
       "        text-align: right;\n",
       "    }\n",
       "</style>\n",
       "<table border=\"1\" class=\"dataframe\">\n",
       "  <thead>\n",
       "    <tr style=\"text-align: right;\">\n",
       "      <th></th>\n",
       "      <th>label</th>\n",
       "      <th>0.0</th>\n",
       "      <th>1.0</th>\n",
       "    </tr>\n",
       "  </thead>\n",
       "  <tbody>\n",
       "    <tr>\n",
       "      <th>0</th>\n",
       "      <td>0.0</td>\n",
       "      <td>205800</td>\n",
       "      <td>4116</td>\n",
       "    </tr>\n",
       "    <tr>\n",
       "      <th>1</th>\n",
       "      <td>1.0</td>\n",
       "      <td>27529</td>\n",
       "      <td>12890</td>\n",
       "    </tr>\n",
       "  </tbody>\n",
       "</table>\n",
       "</div>"
      ],
      "text/plain": [
       "   label     0.0    1.0\n",
       "0    0.0  205800   4116\n",
       "1    1.0   27529  12890"
      ]
     },
     "execution_count": 62,
     "metadata": {},
     "output_type": "execute_result"
    }
   ],
   "source": [
    "# Print out the confusion matrix and the F1 score\n",
    "# From https://spark.apache.org/docs/2.4.3/api/java/org/apache/spark/ml/evaluation/MulticlassClassificationEvaluator.html#metricName--\n",
    "cm = MulticlassClassificationEvaluator(metricName = 'f1')\n",
    "f1_score = cm.evaluate(predictions)\n",
    "confusion_matrix = (predictions.groupby(\"label\").pivot(\"prediction\").count().toPandas())\n",
    "print(\"The F1 Score: \",f1_score)\n",
    "confusion_matrix"
   ]
  },
  {
   "cell_type": "code",
   "execution_count": 63,
   "metadata": {
    "scrolled": true
   },
   "outputs": [
    {
     "name": "stdout",
     "output_type": "stream",
     "text": [
      "Test Area Under ROC 0.8739056785015092\n"
     ]
    }
   ],
   "source": [
    "evaluator = BinaryClassificationEvaluator()\n",
    "print('Test Area Under ROC', evaluator.evaluate(predictions))"
   ]
  },
  {
   "cell_type": "code",
   "execution_count": 64,
   "metadata": {},
   "outputs": [],
   "source": [
    "# Reset for next run\n",
    "# Set up the Indexers and Encoders for the Vector Assembler. \n",
    "# Refererences for StringIndexer and OneHotEncoder: https://spark.apache.org/docs/2.4.3/ml-features.html\n",
    "# stages variable needed later for the Pipeline\n",
    "\n",
    "stages = []\n",
    "Gender_indexer = StringIndexer(inputCol=\"gender\", outputCol='Gender_Index')\n",
    "User_indexer = StringIndexer(inputCol=\"userAgent\", outputCol='User_Index')\n",
    "Page_indexer = StringIndexer(inputCol=\"page\", outputCol='Page_Index')\n",
    "\n",
    "\n",
    "Gender_encoder = OneHotEncoder(inputCol='Gender_Index', outputCol='Gender_Vec')\n",
    "User_encoder = OneHotEncoder(inputCol='User_Index', outputCol='User_Vec')\n",
    "Page_encoder = OneHotEncoder(inputCol='Page_Index', outputCol='Page_Vec')\n",
    "\n",
    "stages += [Gender_indexer, Gender_encoder]\n",
    "stages += [User_indexer, User_encoder]\n",
    "stages += [Page_indexer, Page_encoder]\n",
    "\n",
    "# Get single vector column for our binary classification models\n",
    "#assembler = VectorAssembler(inputCols=[\"Gender_Vec\", \"User_Vec\", \"Page_Vec\", \"status\"], outputCol=\"features\")\n",
    "assembler = VectorAssembler(inputCols=[\"Gender_Vec\", \"User_Vec\", \"Page_Vec\", \"status\"])\n",
    "stages += [assembler]\n",
    "\n",
    "# I define indexer as the binary field to be determined (Churn = yes or no?)\n",
    "#indexer = StringIndexer(inputCol=\"churn\", outputCol=\"label\")\n",
    "indexer = StringIndexer(inputCol=\"churn\")\n",
    "stages += [indexer]"
   ]
  },
  {
   "cell_type": "markdown",
   "metadata": {},
   "source": [
    "#### Second Model to Run: Random Forest Classifier\n",
    "\n",
    "This run adds in a pipeline. \n",
    "\n",
    "Pipeline docs here: https://spark.apache.org/docs/2.4.3/ml-pipeline.html\n"
   ]
  },
  {
   "cell_type": "code",
   "execution_count": 65,
   "metadata": {
    "scrolled": false
   },
   "outputs": [],
   "source": [
    "rf = RandomForestClassifier(labelCol=\"label\",\\\n",
    "                            featuresCol=\"features\",\\\n",
    "                            featureSubsetStrategy='sqrt')\n",
    "\n",
    "# creating pipeline\n",
    "pipeline_rf = Pipeline(stages=[Gender_indexer, User_indexer, Page_indexer, Gender_encoder,\n",
    "                            User_encoder, Page_encoder, assembler, indexer, lr])\n",
    "\n",
    "# paramGrid = ParamGridBuilder() \\\n",
    "#     .build()\n",
    "\n",
    "\n",
    "# building paramgrid\n",
    "paramGrid = ParamGridBuilder() \\\n",
    "    .addGrid(rf.impurity,['entropy', 'gini']) \\\n",
    "    .addGrid(rf.maxDepth,[2, 4, 6, 8]) \\\n",
    "    .addGrid(rf.numTrees,[10, 25, 50, 100]) \\\n",
    "    .build()\n",
    "\n",
    "crossval_rf = CrossValidator(estimator=pipeline_rf,\\\n",
    "                             estimatorParamMaps=paramGrid,\\\n",
    "                             evaluator=MulticlassClassificationEvaluator(),\\\n",
    "                             numFolds=3)\n",
    "\n",
    "cvModel_rf = crossval_rf.fit(test_set)\n",
    "results = cvModel_rf.transform(validation)"
   ]
  },
  {
   "cell_type": "code",
   "execution_count": 66,
   "metadata": {
    "scrolled": true
   },
   "outputs": [
    {
     "data": {
      "text/plain": [
       "[0.8510469082807588,\n",
       " 0.8510469082807588,\n",
       " 0.8510469082807588,\n",
       " 0.8510469082807588,\n",
       " 0.8510469082807588,\n",
       " 0.8510469082807588,\n",
       " 0.8510469082807588,\n",
       " 0.8510469082807588,\n",
       " 0.8510469082807588,\n",
       " 0.8510469082807588,\n",
       " 0.8510469082807588,\n",
       " 0.8510469082807588,\n",
       " 0.8510469082807588,\n",
       " 0.8510469082807588,\n",
       " 0.8510469082807588,\n",
       " 0.8510469082807588,\n",
       " 0.8510469082807588,\n",
       " 0.8510469082807588,\n",
       " 0.8510469082807588,\n",
       " 0.8510469082807588,\n",
       " 0.8510469082807588,\n",
       " 0.8510469082807588,\n",
       " 0.8510469082807588,\n",
       " 0.8510469082807588,\n",
       " 0.8510469082807588,\n",
       " 0.8510469082807588,\n",
       " 0.8510469082807588,\n",
       " 0.8510469082807588,\n",
       " 0.8510469082807588,\n",
       " 0.8510469082807588,\n",
       " 0.8510469082807588,\n",
       " 0.8510469082807588]"
      ]
     },
     "execution_count": 66,
     "metadata": {},
     "output_type": "execute_result"
    }
   ],
   "source": [
    "cvModel_rf.avgMetrics"
   ]
  },
  {
   "cell_type": "code",
   "execution_count": 67,
   "metadata": {},
   "outputs": [
    {
     "name": "stdout",
     "output_type": "stream",
     "text": [
      "F1 score for Random Forest model is :  0.8544802174050752\n"
     ]
    }
   ],
   "source": [
    "evaluator = MulticlassClassificationEvaluator(metricName=\"f1\")\n",
    "score = evaluator.evaluate(results)\n",
    "print(\"F1 score for Random Forest model is : \", score)"
   ]
  },
  {
   "cell_type": "code",
   "execution_count": 68,
   "metadata": {
    "scrolled": true
   },
   "outputs": [
    {
     "name": "stdout",
     "output_type": "stream",
     "text": [
      "Accuracy score for Random Forest model is :  0.875480786512815\n"
     ]
    }
   ],
   "source": [
    "evaluator = MulticlassClassificationEvaluator(metricName=\"accuracy\")\n",
    "score = evaluator.evaluate(results)\n",
    "print(\"Accuracy score for Random Forest model is : \", score)"
   ]
  },
  {
   "cell_type": "code",
   "execution_count": 69,
   "metadata": {},
   "outputs": [
    {
     "name": "stdout",
     "output_type": "stream",
     "text": [
      "The areaUnderROC on the test set is 87.45%\n"
     ]
    }
   ],
   "source": [
    "# Need to use Binary Classification Evaluator\n",
    "auc_evaluator = BinaryClassificationEvaluator()\n",
    "metric_value = auc_evaluator.evaluate(results, {auc_evaluator.metricName: \"areaUnderROC\"})\n",
    "print('The areaUnderROC on the test set is {:.2%}'.format(metric_value))"
   ]
  },
  {
   "cell_type": "code",
   "execution_count": 70,
   "metadata": {
    "scrolled": false
   },
   "outputs": [
    {
     "name": "stdout",
     "output_type": "stream",
     "text": [
      "Number of models to be tested:  32\n"
     ]
    }
   ],
   "source": [
    "print('Number of models to be tested: ', len(paramGrid))"
   ]
  },
  {
   "cell_type": "markdown",
   "metadata": {},
   "source": [
    "#### Third Model to Run: Gradient Boosted Tree Classifier\n",
    "\n",
    "I've always been a fan of the Decision Tree algorithms in classification problems. Let's try Gradient Boosted Tree Classifier."
   ]
  },
  {
   "cell_type": "code",
   "execution_count": 71,
   "metadata": {},
   "outputs": [],
   "source": [
    "# Set up our GBT\n",
    "\n",
    "gbt = GBTClassifier(maxIter=10)\n",
    "gbtree_model = gbt.fit(test_set)\n",
    "gbtree_preds = gbtree_model.transform(validation)"
   ]
  },
  {
   "cell_type": "code",
   "execution_count": 72,
   "metadata": {},
   "outputs": [
    {
     "name": "stdout",
     "output_type": "stream",
     "text": [
      "F1 score for Gradient Boosting Tree classifier is :  0.8618698825569109\n"
     ]
    }
   ],
   "source": [
    "# Get the F1 score...the metric we are making out judgement on\n",
    "evaluator = MulticlassClassificationEvaluator(metricName=\"f1\")\n",
    "score = evaluator.evaluate(gbtree_preds)\n",
    "print(\"F1 score for Gradient Boosting Tree classifier is : \", score)"
   ]
  },
  {
   "cell_type": "markdown",
   "metadata": {},
   "source": [
    "#### Tuning \n",
    "\n",
    "Since my Random Forest classifier performed less well than Logistic Regression, I have some parameters than can be tuned. There are two references I found helpful:\n",
    "\n",
    "1) Document lib: https://scikit-learn.org/stable/modules/generated/sklearn.ensemble.RandomForestClassifier.html and here: https://spark.apache.org/docs/2.4.3/mllib-ensembles.html\n",
    "\n",
    "2) Really find Jason Brownlee's info helpful: https://machinelearningmastery.com/hyperparameters-for-classification-machine-learning-algorithms/\n",
    "\n",
    "3) Specific to the Gradient Boosting Tree Classifier, this was super helpful: https://www.analyticsvidhya.com/blog/2016/02/complete-guide-parameter-tuning-gradient-boosting-gbm-python/\n",
    "\n",
    "4) Gory details on GBT here: http://spark0apache0org.icopy.site/docs/2.4.3/api/java/org/apache/spark/ml/classification/GBTClassifier.html\n",
    "\n",
    "5) Additional Details: https://www.datacareer.de/blog/parameter-tuning-in-gradient-boosting-gbm/\n",
    "\n",
    "6) https://stackabuse.com/gradient-boosting-classifiers-in-python-with-scikit-learn/\n",
    "\n",
    "Looking at the class specification can be helpful to understand just what can be tuned:\n",
    "\n",
    "class pyspark.ml.classification.GBTClassifier(featuresCol='features', labelCol='label', predictionCol='prediction', maxDepth=5, maxBins=32, minInstancesPerNode=1, minInfoGain=0.0, maxMemoryInMB=256, cacheNodeIds=False, checkpointInterval=10, lossType='logistic', maxIter=20, stepSize=0.1, seed=None, subsamplingRate=1.0)\n",
    "\n",
    "These are the one we can tune:\n",
    "\n",
    "* maxDepth=5\n",
    "* maxBins=32\n",
    "* minInstancesPerNode=1\n",
    "* minInfoGain=0.0\n",
    "* maxMemoryInMB=256\n",
    "* cacheNodeIds=False\n",
    "* checkpointInterval=10\n",
    "* lossType='logistic'\n",
    "* maxIter=20\n",
    "* stepSize=0.1\n",
    "* seed=None\n",
    "* subsamplingRate=1.0\n",
    "\n",
    "1) maxDepth Maximum depth of the tree (e.g. depth 0 means 1 leaf node, depth 1 means 1 internal node + 2 leaf nodes). numClasses Number of classes for classification. (Ignored for regression.) Default value is 2 (binary classification). maxBins Maximum number of bins used for discretizing continuous features and for choosing how to split on features at each node. More bins give higher granularity.\n",
    "\n",
    "2) minInstancesPerNode Minimum number of instances each child must have after split. Default value is 1. If a split cause left or right child to have less than minInstancesPerNode, this split will not be considered as a valid split.\n",
    "\n",
    "3) minInfoGain Minimum information gain a split must get. Default value is 0.0. If a split has less information gain than minInfoGain, this split will not be considered as a valid split. \n",
    "\n",
    "4) maxMemoryInMB Maximum memory in MB allocated to histogram aggregation. Default value is 256 MB. If too small, then 1 node will be split per iteration, and its aggregates may exceed this size. \n",
    "\n",
    "5) subsamplingRate Fraction of the training data used for learning decision tree. \n",
    "\n",
    "6) useNodeIdCache If this is true, instead of passing trees to executors, the algorithm will maintain a separate RDD of node Id cache for each row. param: checkpointInterval How often to checkpoint when the node Id cache gets updated. E.g. 10 means that the cache will get checkpointed every 10 updates. If the checkpoint directory is not set in SparkContext, this setting is ignored.\n",
    "\n",
    "\n",
    "For tuning, I followed the suggestions here: https://towardsdatascience.com/build-an-end-to-end-machine-learning-model-with-mllib-in-pyspark-4917bdf289c5\n",
    "\n",
    "This is my tuning parameter map:\n",
    "\n",
    "paramGrid = ParamGridBuilder() \\\n",
    "    .addGrid(gbt2.maxIter,[10, 20, 30]) \\\n",
    "    .addGrid(gbt2.maxDepth, [3, 5, 10, 20]) \\\n",
    "    .addGrid(gbt.maxBins, [20, 30]) \\\n",
    "    .build()\n",
    "\n"
   ]
  },
  {
   "cell_type": "code",
   "execution_count": 73,
   "metadata": {},
   "outputs": [],
   "source": [
    "# Tuning run of GBT Classifier\n",
    "gbt2 = GBTClassifier(labelCol=\"label\", featuresCol=\"features\", maxIter=10)"
   ]
  },
  {
   "cell_type": "code",
   "execution_count": 74,
   "metadata": {},
   "outputs": [],
   "source": [
    "# Set up pipeline\n",
    "pipeline_gbt = Pipeline(stages=[Gender_indexer, User_indexer, Page_indexer, Gender_encoder,\n",
    "                            User_encoder, Page_encoder, assembler, indexer, gbt2])"
   ]
  },
  {
   "cell_type": "code",
   "execution_count": 75,
   "metadata": {},
   "outputs": [],
   "source": [
    "# This is the set of parameters that I'll adjust\n",
    "\n",
    "\n",
    "paramGrid = ParamGridBuilder() \\\n",
    "    .addGrid(gbt2.maxIter,[10, 20, 30]) \\\n",
    "    .addGrid(gbt2.maxDepth, [3, 5, 10, 20]) \\\n",
    "    .addGrid(gbt.maxBins, [20, 30]) \\\n",
    "    .build()"
   ]
  },
  {
   "cell_type": "code",
   "execution_count": 76,
   "metadata": {},
   "outputs": [],
   "source": [
    "# Run the Cross Validator\n",
    "gbt_cross_val = CrossValidator(estimator=gbt2, \n",
    "                               estimatorParamMaps=paramGrid, \n",
    "                               evaluator=MulticlassClassificationEvaluator(metricName='f1'))"
   ]
  },
  {
   "cell_type": "code",
   "execution_count": 77,
   "metadata": {},
   "outputs": [
    {
     "name": "stdout",
     "output_type": "stream",
     "text": [
      "1659.3865940570831\n"
     ]
    }
   ],
   "source": [
    "# Fit the model\n",
    "# Note: Takes a bit longer to run this model :-)\n",
    "\n",
    "start = time.time()\n",
    "gbt_cross_val_model = gbt_cross_val.fit(test_set)\n",
    "end = time.time()\n",
    "print(end - start)"
   ]
  },
  {
   "cell_type": "markdown",
   "metadata": {},
   "source": [
    "This article was helpful in advising how to best use the MulticlassClassificationEvaluator \n",
    "https://datascience-enthusiast.com/Python/PySpark_ML_with_Text_part1.html\n",
    "\n",
    "and this: https://stackoverflow.com/questions/60772315/how-to-evaluate-a-classifier-with-apache-spark-2-4-5-and-pyspark-python"
   ]
  },
  {
   "cell_type": "code",
   "execution_count": 78,
   "metadata": {},
   "outputs": [],
   "source": [
    "# Pull out the predictions\n",
    "#gbt_cross_val_model = gbt_cross_val.fit(train)\n",
    "gbt_tuned_results = gbt_cross_val_model.bestModel.transform(test_set)\n",
    "gbt_tuned_evaluation = MulticlassClassificationEvaluator(predictionCol=\"prediction\")"
   ]
  },
  {
   "cell_type": "code",
   "execution_count": 79,
   "metadata": {
    "scrolled": true
   },
   "outputs": [
    {
     "name": "stdout",
     "output_type": "stream",
     "text": [
      "Metrics for Tuned GBT Classifier Model\n",
      "Accuracy: 0.906693031338007\n",
      "F-1 Score: 0.8999284415553308\n"
     ]
    }
   ],
   "source": [
    "# Thanks to the stackoverflow article on best use of evaluate to get the metrics from the predictions\n",
    "\n",
    "print(\"Metrics for Tuned GBT Classifier Model\")\n",
    "gbt_tuned_accuracy = str(gbt_tuned_evaluation.evaluate(gbt_tuned_results, {gbt_tuned_evaluation.metricName: \"accuracy\"}))\n",
    "gbt_tuned_f1_score = str(gbt_tuned_evaluation.evaluate(gbt_tuned_results, {gbt_tuned_evaluation.metricName: \"f1\"}))\n",
    "print(\"Accuracy: \" + gbt_tuned_accuracy)\n",
    "print(\"F-1 Score: \" + gbt_tuned_f1_score)  \n"
   ]
  },
  {
   "cell_type": "code",
   "execution_count": 80,
   "metadata": {
    "scrolled": true
   },
   "outputs": [
    {
     "data": {
      "text/plain": [
       "{Param(parent='GBTClassifier_4fe40fcd5565', name='cacheNodeIds', doc='If false, the algorithm will pass trees to executors to match instances with nodes. If true, the algorithm will cache node IDs for each instance. Caching can speed up training of deeper trees.'): False,\n",
       " Param(parent='GBTClassifier_4fe40fcd5565', name='checkpointInterval', doc='set checkpoint interval (>= 1) or disable checkpoint (-1). E.g. 10 means that the cache will get checkpointed every 10 iterations. Note: this setting will be ignored if the checkpoint directory is not set in the SparkContext'): 10,\n",
       " Param(parent='GBTClassifier_4fe40fcd5565', name='featureSubsetStrategy', doc='The number of features to consider for splits at each tree node. Supported options: auto, all, onethird, sqrt, log2, (0.0-1.0], [1-n].'): 'all',\n",
       " Param(parent='GBTClassifier_4fe40fcd5565', name='featuresCol', doc='features column name'): 'features',\n",
       " Param(parent='GBTClassifier_4fe40fcd5565', name='labelCol', doc='label column name'): 'label',\n",
       " Param(parent='GBTClassifier_4fe40fcd5565', name='lossType', doc='Loss function which GBT tries to minimize (case-insensitive). Supported options: logistic'): 'logistic',\n",
       " Param(parent='GBTClassifier_4fe40fcd5565', name='maxBins', doc='Max number of bins for discretizing continuous features.  Must be >=2 and >= number of categories for any categorical feature.'): 32,\n",
       " Param(parent='GBTClassifier_4fe40fcd5565', name='maxDepth', doc='Maximum depth of the tree. (>= 0) E.g., depth 0 means 1 leaf node; depth 1 means 1 internal node + 2 leaf nodes.'): 20,\n",
       " Param(parent='GBTClassifier_4fe40fcd5565', name='maxIter', doc='maximum number of iterations (>= 0)'): 30,\n",
       " Param(parent='GBTClassifier_4fe40fcd5565', name='maxMemoryInMB', doc='Maximum memory in MB allocated to histogram aggregation.'): 256,\n",
       " Param(parent='GBTClassifier_4fe40fcd5565', name='minInfoGain', doc='Minimum information gain for a split to be considered at a tree node.'): 0.0,\n",
       " Param(parent='GBTClassifier_4fe40fcd5565', name='minInstancesPerNode', doc='Minimum number of instances each child must have after split.  If a split causes the left or right child to have fewer than minInstancesPerNode, the split will be discarded as invalid. Should be >= 1.'): 1,\n",
       " Param(parent='GBTClassifier_4fe40fcd5565', name='predictionCol', doc='prediction column name'): 'prediction',\n",
       " Param(parent='GBTClassifier_4fe40fcd5565', name='seed', doc='random seed'): 3504127614838123891,\n",
       " Param(parent='GBTClassifier_4fe40fcd5565', name='stepSize', doc='Step size (a.k.a. learning rate) in interval (0, 1] for shrinking the contribution of each estimator.'): 0.1,\n",
       " Param(parent='GBTClassifier_4fe40fcd5565', name='subsamplingRate', doc='Fraction of the training data used for learning each decision tree, in range (0, 1].'): 1.0}"
      ]
     },
     "execution_count": 80,
     "metadata": {},
     "output_type": "execute_result"
    }
   ],
   "source": [
    "# Last but not least, pull out the parameter map\n",
    "#show the parameters that were part of the best model\n",
    "gbt_cross_val_model.bestModel.extractParamMap()"
   ]
  },
  {
   "cell_type": "markdown",
   "metadata": {},
   "source": [
    "* Param(parent='GBTClassifier_4b2e3f4381db', name='cacheNodeIds', doc='If false, the algorithm will pass trees to executors to match instances with nodes. If true, the algorithm will cache node IDs for each instance. Caching can speed up training of deeper trees.'): False,\n",
    "\n",
    "* Param(parent='GBTClassifier_4b2e3f4381db', name='checkpointInterval', doc='set checkpoint interval (>= 1) or disable checkpoint (-1). E.g. 10 means that the cache will get checkpointed every 10 iterations. Note: this setting will be ignored if the checkpoint directory is not set in the SparkContext'): 10,\n",
    "\n",
    "*  Param(parent='GBTClassifier_4b2e3f4381db', name='featureSubsetStrategy', doc='The number of features to consider for splits at each tree node. Supported options: auto, all, onethird, sqrt, log2, (0.0-1.0], [1-n].'): 'all',\n",
    "* Param(parent='GBTClassifier_4b2e3f4381db', name='featuresCol', doc='features column name'): 'features',\n",
    "\n",
    "* Param(parent='GBTClassifier_4b2e3f4381db', name='labelCol', doc='label column name'): 'label',\n",
    "\n",
    "* Param(parent='GBTClassifier_4b2e3f4381db', name='lossType', doc='Loss function which GBT tries to minimize (case-insensitive). Supported options: logistic'): 'logistic',\n",
    "\n",
    "* <font color='green'>Param(parent='GBTClassifier_4b2e3f4381db', name='maxBins', doc='Max number of bins for discretizing continuous features.  Must be >=2 and >= number of categories for any categorical feature.'): 32,</font>\n",
    "\n",
    "* <font color='green'>Param(parent='GBTClassifier_4b2e3f4381db', name='maxDepth', doc='Maximum depth of the tree. (>= 0) E.g., depth 0 means 1 leaf node; depth 1 means 1 internal node + 2 leaf nodes.'): 20,</font>\n",
    "\n",
    "* <font color='green'>Param(parent='GBTClassifier_4b2e3f4381db', name='maxIter', doc='maximum number of iterations (>= 0)'): 30,</font>\n",
    "\n",
    "* Param(parent='GBTClassifier_4b2e3f4381db', name='maxMemoryInMB', doc='Maximum memory in MB allocated to histogram aggregation.'): 256,\n",
    "\n",
    "* Param(parent='GBTClassifier_4b2e3f4381db', name='minInfoGain', doc='Minimum information gain for a split to be considered at a tree node.'): 0.0,\n",
    "\n",
    "* Param(parent='GBTClassifier_4b2e3f4381db', name='minInstancesPerNode', doc='Minimum number of instances each child must have after split.  If a split causes the left or right child to have fewer than minInstancesPerNode, the split will be discarded as invalid. Should be >= 1.'): 1,\n",
    "\n",
    "* Param(parent='GBTClassifier_4b2e3f4381db', name='predictionCol', doc='prediction column name'): 'prediction',\n",
    "\n",
    "* Param(parent='GBTClassifier_4b2e3f4381db', name='seed', doc='random seed'): 3504127614838123891,\n",
    "\n",
    "* Param(parent='GBTClassifier_4b2e3f4381db', name='stepSize', doc='Step size (a.k.a. learning rate) in interval (0, 1] for shrinking the contribution of each estimator.'): 0.1,\n",
    "\n",
    "* Param(parent='GBTClassifier_4b2e3f4381db', name='subsamplingRate', doc='Fraction of the training data used for learning each decision tree, in range (0, 1].'): 1.0}"
   ]
  },
  {
   "cell_type": "markdown",
   "metadata": {},
   "source": [
    "#### Tuning Notes\n",
    "\n",
    "Based on the results of the parameter map, I'd use\n",
    "\n",
    "* maxBins: 32,\n",
    "* maxDepth: 20,\n",
    "* maxIter: 30\n",
    "\n",
    "for the next run. Of course, that's for this sized dataset. As we start using large size datasets, I'd re-run the tuning phase to make sure I've maximized the parameters for Gradient Boosted Tree Classifier. \n",
    "\n",
    "As suggested in the project guidelines, the F1 score was the metric to look at, so here are the final results:\n",
    "\n",
    "Logistic Regression F1 Score: .8512\n",
    "Random Forest Classifier: .8545\n",
    "Gradient Boosted Tree Classifier: .8619\n",
    "Tuned Gradient Boosted Tree Classifier: .8999\n"
   ]
  },
  {
   "cell_type": "markdown",
   "metadata": {},
   "source": [
    "#### Note on Feature Engineering and the future\n",
    "\n",
    "So we have a winner with the Tuned Gradient Boosted Tree Classifier. I'd likely expect that we'll got through the tuning process several times more as we finalize the decision on which features we want to use to predict churn. I've always found that the selection of features for feature engineering is best started with conversations with the business side. In this case, I would look to sit down with the Sparkify app team as well as the marketing team to understand best how they see the app being used. It's always a possibility that we choose feature(s) that aren't really relevant to the success of the model.\n",
    "\n",
    "That's why I like to start with a small set of features and build up from there. In our case, I'd look to the metrics around the thumbs up/down, adding friends, and adding to playlist. I excluded them initially since I felt that those are metrics that show active use of the Sparkify app; my assumption would be that users that churn would be less inclined to use those features.\n",
    "\n",
    "I'd also like to get more longitudinal data, as we just had a months worth of data. For the next set of \"active use\" metrics (thumbs up/down, add users|playlists), I'd like to see how that activity changes over time. Potentially I'd add a feature that showed the change plus/minus over time and see how that affects churn.\n",
    "\n",
    "I find feature engineering to be as much \"art\" as science. Choosing the right mix of features is enjoyable, however I find it often is time-consuming to find the right mix.\n",
    "\n",
    "As an SPSS user, I've been using the \"Auto Classifier\" to pick the correct Classification model (binary or multiclass), and that's been helpful. As well, SPSS allows a faily easy, however still time consuming way of hyperparameter tuning.\n",
    "\n",
    "For the past year, I've also been using the \"Auto AI\" capabilities of Watson Studio and that shows great promise. Auto AI knows about roughly 80 classification and regressions models and does much of the data prep, the feature engineering, hyperparameter tuning, and provides all the analytics about why it chose the model it did. At the least, it allows the Data Scientist to have a jump on a good starting; if the promise holds, much of the model development and/or tuning in the future will have much of it done automatically.\n",
    "\n",
    "AutoAI tutorial: https://dataplatform.cloud.ibm.com/docs/content/wsj/analyze-data/autoai_example_binary_classifier.html\n",
    "\n",
    "AutoAI technical details: https://dataplatform.cloud.ibm.com/docs/content/wsj/analyze-data/autoai-details.html\n"
   ]
  },
  {
   "cell_type": "markdown",
   "metadata": {},
   "source": [
    "# Conclusion\n",
    "\n",
    "We have a starting point with our Logistic Regression model with the F1 score of .85. As suggested, we'll use the F1 score as the intial criteria. \n",
    "\n",
    "With customer churn, the historical data is golden as we know who did and did not churn. Our data set offers us this as the basis for training our model, and we have two immediate actions we can take:\n",
    "\n",
    "1) Look at the current customers and create an assessment of who will be likely to churn based on using our model. Those customers may need some further incentive to stay, such as a financial incentive for our paying customers and a reduction in ad frequency for our free customers.\n",
    "\n",
    "2) Examine all new customers and make an assessment of their likelyhood to churn.\n",
    "\n",
    "Sparkify managment also needs to review their free customer paradigm. We were not provided the data the shows how profitable free vs. paying customer are. It's not a simple choice to say that Sparkify makes more money on the paying customers over the free customers. Potentially the ad revenue compensates more than the pay revenue; the record/music companies that supply Sparkify their music to play may offer financial incentives based on advertisement. There are many factors in play here.\n",
    "\n",
    "Should paying customer generate more revenue than free customers, the next model set to be built and tested would be building a prediction model to determine propensity to upgrade. Our dataset provides a good starting point for that, again that would be a binary classification problem (\"Did the customer upgrade: Yes or No?\")\n",
    "\n",
    "Sparkify appears to be an active site; there are a lot of songs being played, playlists created, and friends added. All of those are potential features to continue to mine and refine. This is all part of the ML discovery process. \n",
    "\n",
    "Pyspark and Big Data are also key elements of the technology here. Being able to assess large volumes of data via Hadoop, HDFS, and Spark represents an ability to keep tied into the Sparkify user community in an accurate and also fairly inobstrusive way via log data analysis. \n",
    "\n",
    "Data Privacy is an element that should likely be addressed as well, as the log data set includes both name and location data. There are a number of useful data obfuscation/anonymization techniques available. Sparkify would be advised to review their data privacy policies. \n",
    "\n",
    "Lastly, Pyspark represents a very useful way of approaching Big Data programming married with the efficiency and ease of Python programming. In the world of Data Science, both Python and SQL programming skills are both useful to have and faily plentiful in the labor market. \n",
    "\n",
    "Sparkify is off to a good start with the approach to both Big Data and Data Science!"
   ]
  },
  {
   "cell_type": "markdown",
   "metadata": {},
   "source": [
    "# Improvement\n",
    "\n",
    "These are the next areas I would improve this exercise with:\n",
    "\n",
    "1) Tuning\n",
    "Here's a great guide: https://medium.com/rahasak/random-forest-classifier-with-apache-spark-c63b4a23a7cc\n",
    "and here: https://towardsdatascience.com/an-implementation-and-explanation-of-the-random-forest-in-python-77bf308a9b76\n",
    "\n",
    "2) Cracking the code on displaying a good, readable, \"most important features\" list. Here is a good start:\n",
    "\n",
    "https://www.timlrx.com/2018/06/19/feature-selection-using-feature-importance-score-creating-a-pyspark-estimator/\n",
    "\n",
    "3) Add more metrics for analysis\n",
    "\n",
    "There are a lot of good metrics and evaluation metrics from MulticlassMetrics. You'll need to include: \n",
    "\n",
    "\"from pyspark.mllib.evaluation import MulticlassMetrics\"\n",
    "\n",
    "Here are some good references and code samples for getting further details\n",
    "\n",
    "https://spark.apache.org/docs/2.4.3/api/python/_modules/pyspark/mllib/evaluation.html\n",
    "\n",
    "and a potpourri of evaluation metrics: https://spark.apache.org/docs/2.4.3/mllib-evaluation-metrics.html\n",
    "\n",
    "4) Sparkify needs to review their data privacy program. Good info on Python and data obfuscation/redaction:\n",
    "\n",
    "https://medium.com/district-data-labs/a-practical-guide-to-anonymizing-datasets-with-python-faker-ecf15114c9be\n",
    "\n",
    "https://towardsdatascience.com/revolutionising-redaction-my-final-year-project-fe664e28ef84"
   ]
  },
  {
   "cell_type": "markdown",
   "metadata": {},
   "source": [
    "# Final Steps\n",
    "Clean up your code, adding comments and renaming variables to make the code easier to read and maintain. Refer to the Spark Project Overview page and Data Scientist Capstone Project Rubric to make sure you are including all components of the capstone project and meet all expectations. Remember, this includes thorough documentation in a README file in a Github repository, as well as a web app or blog post."
   ]
  },
  {
   "cell_type": "code",
   "execution_count": null,
   "metadata": {},
   "outputs": [],
   "source": []
  }
 ],
 "metadata": {
  "kernelspec": {
   "display_name": "Python 3",
   "language": "python",
   "name": "python3"
  },
  "language_info": {
   "codemirror_mode": {
    "name": "ipython",
    "version": 3
   },
   "file_extension": ".py",
   "mimetype": "text/x-python",
   "name": "python",
   "nbconvert_exporter": "python",
   "pygments_lexer": "ipython3",
   "version": "3.7.6"
  }
 },
 "nbformat": 4,
 "nbformat_minor": 4
}
