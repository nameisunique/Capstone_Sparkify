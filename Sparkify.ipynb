{
 "cells": [
  {
   "cell_type": "markdown",
   "metadata": {},
   "source": [
    "# Sparkify Capstone Project"
   ]
  },
  {
   "cell_type": "markdown",
   "metadata": {},
   "source": [
    "### Executive Summary and Business Overview\n",
    "\n",
    "Sparkify is Udacity's (on paper...so far) music streaming service, that produces data similar to Spotify or Pandora. User play and/or rate their favorite songs through such services on a daily basis. The business model employed is a free and pay tiered system where free/unpaid users have generally limited access and often using advertisements to offset the royalty fees paid to music artists. Users have the ability to upgrade their service (become a paying customer), or downgrade their service (from paying to non-paying); both tiers have the ability to cancel their service, and that lost of a customer would be considered \"customer churn\".\n",
    "\n",
    "All user interaction with Sparkify revolves around these activities:\n",
    "\n",
    "* Play a song \n",
    "* Creating and updating playlists\n",
    "* Rating song with the thumbs up or thumbs down button\n",
    "* Add a friend\n",
    "* Logging in or out\n",
    "* Changing settings\n",
    "\n",
    "Each of these activites generates an entry into the user logs. Naturally, log analytics are a key factor for the Sparkify marketing team and all the executive staff.\n",
    "\n",
    "### Project Objectives\n",
    "\n",
    "* gain insight into the data \n",
    "* understand who is churning \n",
    "* what is driving that churn.\n",
    "\n",
    "## Sparkify Overview\n",
    "\n",
    "<p>This is my Capstone project, I'll be using Spark to analyze data from user log files from music app Sparkify.</p>\n",
    "\n",
    "<p>Sparkify is a freeware/payware music app, similar to Pandora or Spotify.  The data we will analyze have contains Sparkify user logs that contain user interaction with the app. The log contains some basic user information as well as essentially click-thru information. Our user community consists of \n",
    "\n",
    "* Guests\n",
    "* Free/non-paying customers\n",
    "* Paying customer</p>\n",
    "\n",
    "<p>Our mission is to review and wrangle the data and engineer relevant features for predicting churn. Churn for us means either a Free or Paying customer cancels their service. </p>\n"
   ]
  },
  {
   "cell_type": "code",
   "execution_count": 1,
   "metadata": {},
   "outputs": [],
   "source": [
    "# import libraries\n",
    "\n",
    "from pyspark.sql import SparkSession\n",
    "\n",
    "from pyspark.sql.functions import avg, col, concat, desc, explode, lit, min, max, split, udf, count, isnan, when, isnull, collect_list,udf,countDistinct\n",
    "from pyspark.sql.types import IntegerType, DateType\n",
    "\n",
    "import pandas as pd\n",
    "import numpy as np\n",
    "import matplotlib.pyplot as plt\n",
    "import seaborn as sns\n",
    "\n",
    "import datetime\n",
    "\n",
    "import warnings\n",
    "warnings.filterwarnings('ignore')\n",
    "%matplotlib inline\n",
    "\n",
    "\n",
    "from pyspark.ml.feature import CountVectorizer, IDF, Normalizer, PCA, RegexTokenizer, StandardScaler, StopWordsRemover, StringIndexer, VectorAssembler\n",
    "from pyspark.sql import Window\n",
    "from pyspark.ml.feature import OneHotEncoder, StringIndexer\n",
    "from pyspark.ml.regression import LinearRegression\n",
    "from pyspark.ml.tuning import CrossValidator, ParamGridBuilder\n",
    "from pyspark.ml import Pipeline\n",
    "from pyspark.ml.classification import LogisticRegression, RandomForestClassifier\n",
    "from pyspark.ml.evaluation import MulticlassClassificationEvaluator\n",
    "from pyspark.ml.evaluation import BinaryClassificationEvaluator"
   ]
  },
  {
   "cell_type": "code",
   "execution_count": 2,
   "metadata": {},
   "outputs": [],
   "source": [
    "# create a Spark session\n",
    "spark = SparkSession.builder \\\n",
    "    .master(\"local\") \\\n",
    "    .appName(\"Sparkify\") \\\n",
    "    .getOrCreate()"
   ]
  },
  {
   "cell_type": "markdown",
   "metadata": {},
   "source": [
    "# Load and Clean Dataset\n",
    "In this workspace, the mini-dataset file is `mini_sparkify_event_data.json`. Load and clean the dataset, checking for invalid or missing data - for example, records without userids or sessionids. "
   ]
  },
  {
   "cell_type": "code",
   "execution_count": 3,
   "metadata": {
    "scrolled": true
   },
   "outputs": [
    {
     "data": {
      "text/plain": [
       "Row(artist='Martha Tilston', auth='Logged In', firstName='Colin', gender='M', itemInSession=50, lastName='Freeman', length=277.89016, level='paid', location='Bakersfield, CA', method='PUT', page='NextSong', registration=1538173362000, sessionId=29, song='Rockpools', status=200, ts=1538352117000, userAgent='Mozilla/5.0 (Windows NT 6.1; WOW64; rv:31.0) Gecko/20100101 Firefox/31.0', userId='30')"
      ]
     },
     "execution_count": 3,
     "metadata": {},
     "output_type": "execute_result"
    }
   ],
   "source": [
    "df = spark.read.json(\"data/mini_sparkify_event_data.json\")\n",
    "df.head()"
   ]
  },
  {
   "cell_type": "code",
   "execution_count": 4,
   "metadata": {
    "scrolled": true
   },
   "outputs": [
    {
     "data": {
      "text/plain": [
       "[Row(artist='Martha Tilston', auth='Logged In', firstName='Colin', gender='M', itemInSession=50, lastName='Freeman', length=277.89016, level='paid', location='Bakersfield, CA', method='PUT', page='NextSong', registration=1538173362000, sessionId=29, song='Rockpools', status=200, ts=1538352117000, userAgent='Mozilla/5.0 (Windows NT 6.1; WOW64; rv:31.0) Gecko/20100101 Firefox/31.0', userId='30'),\n",
       " Row(artist='Five Iron Frenzy', auth='Logged In', firstName='Micah', gender='M', itemInSession=79, lastName='Long', length=236.09424, level='free', location='Boston-Cambridge-Newton, MA-NH', method='PUT', page='NextSong', registration=1538331630000, sessionId=8, song='Canada', status=200, ts=1538352180000, userAgent='\"Mozilla/5.0 (Windows NT 6.1; WOW64) AppleWebKit/537.36 (KHTML, like Gecko) Chrome/37.0.2062.103 Safari/537.36\"', userId='9'),\n",
       " Row(artist='Adam Lambert', auth='Logged In', firstName='Colin', gender='M', itemInSession=51, lastName='Freeman', length=282.8273, level='paid', location='Bakersfield, CA', method='PUT', page='NextSong', registration=1538173362000, sessionId=29, song='Time For Miracles', status=200, ts=1538352394000, userAgent='Mozilla/5.0 (Windows NT 6.1; WOW64; rv:31.0) Gecko/20100101 Firefox/31.0', userId='30'),\n",
       " Row(artist='Enigma', auth='Logged In', firstName='Micah', gender='M', itemInSession=80, lastName='Long', length=262.71302, level='free', location='Boston-Cambridge-Newton, MA-NH', method='PUT', page='NextSong', registration=1538331630000, sessionId=8, song='Knocking On Forbidden Doors', status=200, ts=1538352416000, userAgent='\"Mozilla/5.0 (Windows NT 6.1; WOW64) AppleWebKit/537.36 (KHTML, like Gecko) Chrome/37.0.2062.103 Safari/537.36\"', userId='9'),\n",
       " Row(artist='Daft Punk', auth='Logged In', firstName='Colin', gender='M', itemInSession=52, lastName='Freeman', length=223.60771, level='paid', location='Bakersfield, CA', method='PUT', page='NextSong', registration=1538173362000, sessionId=29, song='Harder Better Faster Stronger', status=200, ts=1538352676000, userAgent='Mozilla/5.0 (Windows NT 6.1; WOW64; rv:31.0) Gecko/20100101 Firefox/31.0', userId='30')]"
      ]
     },
     "execution_count": 4,
     "metadata": {},
     "output_type": "execute_result"
    }
   ],
   "source": [
    "df.head(5)"
   ]
  },
  {
   "cell_type": "code",
   "execution_count": 5,
   "metadata": {},
   "outputs": [
    {
     "name": "stdout",
     "output_type": "stream",
     "text": [
      "+----------+\n",
      "|      auth|\n",
      "+----------+\n",
      "|Logged Out|\n",
      "| Cancelled|\n",
      "|     Guest|\n",
      "| Logged In|\n",
      "+----------+\n",
      "\n"
     ]
    }
   ],
   "source": [
    "# I moved this up top to show all values of the \"auth\" field. When I drop the null registrations, \"guest\"\n",
    "# and \"logged out\" will also be dropped\n",
    "\n",
    "df.select('auth').dropDuplicates().show()"
   ]
  },
  {
   "cell_type": "code",
   "execution_count": 6,
   "metadata": {
    "scrolled": true
   },
   "outputs": [
    {
     "name": "stdout",
     "output_type": "stream",
     "text": [
      "root\n",
      " |-- artist: string (nullable = true)\n",
      " |-- auth: string (nullable = true)\n",
      " |-- firstName: string (nullable = true)\n",
      " |-- gender: string (nullable = true)\n",
      " |-- itemInSession: long (nullable = true)\n",
      " |-- lastName: string (nullable = true)\n",
      " |-- length: double (nullable = true)\n",
      " |-- level: string (nullable = true)\n",
      " |-- location: string (nullable = true)\n",
      " |-- method: string (nullable = true)\n",
      " |-- page: string (nullable = true)\n",
      " |-- registration: long (nullable = true)\n",
      " |-- sessionId: long (nullable = true)\n",
      " |-- song: string (nullable = true)\n",
      " |-- status: long (nullable = true)\n",
      " |-- ts: long (nullable = true)\n",
      " |-- userAgent: string (nullable = true)\n",
      " |-- userId: string (nullable = true)\n",
      "\n"
     ]
    }
   ],
   "source": [
    "df.printSchema()"
   ]
  },
  {
   "cell_type": "code",
   "execution_count": 7,
   "metadata": {},
   "outputs": [
    {
     "name": "stdout",
     "output_type": "stream",
     "text": [
      "(Number of Records, Number of columns): (286500, 18)\n"
     ]
    }
   ],
   "source": [
    "# How many records and columns?\n",
    "print(\"(Number of Records, Number of columns):\",((df.count(), len(df.columns))))"
   ]
  },
  {
   "cell_type": "code",
   "execution_count": 8,
   "metadata": {
    "scrolled": true
   },
   "outputs": [
    {
     "name": "stdout",
     "output_type": "stream",
     "text": [
      "+------+----+---------+------+-------------+--------+------+-----+--------+------+----+------------+---------+-----+------+---+---------+------+\n",
      "|artist|auth|firstName|gender|itemInSession|lastName|length|level|location|method|page|registration|sessionId| song|status| ts|userAgent|userId|\n",
      "+------+----+---------+------+-------------+--------+------+-----+--------+------+----+------------+---------+-----+------+---+---------+------+\n",
      "| 58392|   0|     8346|  8346|            0|    8346| 58392|    0|    8346|     0|   0|        8346|        0|58392|     0|  0|     8346|     0|\n",
      "+------+----+---------+------+-------------+--------+------+-----+--------+------+----+------------+---------+-----+------+---+---------+------+\n",
      "\n"
     ]
    }
   ],
   "source": [
    "# Let's count the number of nulls across the record\n",
    "# I'm mostly interested in the registration field first, since that is when we first saw a user\n",
    "df.select([count(when(isnull(c), c)).alias(c) for c in df.columns]).show()"
   ]
  },
  {
   "cell_type": "code",
   "execution_count": 9,
   "metadata": {
    "scrolled": true
   },
   "outputs": [
    {
     "name": "stdout",
     "output_type": "stream",
     "text": [
      "Columns with Null Values\n",
      "artist : 58392\n",
      "auth : 0\n",
      "firstName : 8346\n",
      "gender : 8346\n",
      "itemInSession : 0\n",
      "lastName : 8346\n",
      "length : 58392\n",
      "level : 0\n",
      "location : 8346\n",
      "method : 0\n",
      "page : 0\n",
      "registration : 8346\n",
      "sessionId : 0\n",
      "song : 58392\n",
      "status : 0\n",
      "ts : 0\n",
      "userAgent : 8346\n",
      "userId : 0\n"
     ]
    }
   ],
   "source": [
    "# This is a little easier to read\n",
    "\n",
    "print(\"Columns with Null Values\")\n",
    "for colName, dtype in df.dtypes:\n",
    "    print(colName,':', df.filter(df[colName].isNull()).count())"
   ]
  },
  {
   "cell_type": "markdown",
   "metadata": {},
   "source": [
    "#### Missing Values\n",
    "\n",
    "We can see userAgent, registration, firstName, lastName, location and gender are all have missing values. I'm thinking we should drop those records, let's calculate the percentage."
   ]
  },
  {
   "cell_type": "code",
   "execution_count": 10,
   "metadata": {},
   "outputs": [],
   "source": [
    "# Percentage Check\n",
    "total = float(df.count())\n",
    "missing = float(df.filter(df.registration.isNull()).count())\n",
    "percentage = missing *100.0 /total"
   ]
  },
  {
   "cell_type": "code",
   "execution_count": 11,
   "metadata": {},
   "outputs": [
    {
     "name": "stdout",
     "output_type": "stream",
     "text": [
      "Total Records: 286500.0\n",
      "Missing Registration: 8346.0\n",
      "Percentage of Missing Registration: 2.913089005235602\n"
     ]
    }
   ],
   "source": [
    "print('Total Records:', total)\n",
    "print('Missing Registration:', missing)\n",
    "print('Percentage of Missing Registration:', percentage)"
   ]
  },
  {
   "cell_type": "markdown",
   "metadata": {},
   "source": [
    "So less than 3%, so we can drop those records."
   ]
  },
  {
   "cell_type": "code",
   "execution_count": 12,
   "metadata": {},
   "outputs": [],
   "source": [
    "# The ever powerful filter. Sort of feel like it needs an \"are you sure(y/n)?\" option\n",
    "# https://sparkbyexamples.com/pyspark/pyspark-dataframe-filter/\n",
    "\n",
    "df_clean = df.filter(df.registration.isNotNull())"
   ]
  },
  {
   "cell_type": "code",
   "execution_count": 13,
   "metadata": {},
   "outputs": [
    {
     "data": {
      "text/plain": [
       "278154"
      ]
     },
     "execution_count": 13,
     "metadata": {},
     "output_type": "execute_result"
    }
   ],
   "source": [
    "# Removed the Missing Registration records\n",
    "df_clean.count()"
   ]
  },
  {
   "cell_type": "code",
   "execution_count": 14,
   "metadata": {},
   "outputs": [],
   "source": [
    "# Percentage Check on cleaned \n",
    "total = float(df_clean.count())\n",
    "missing = float(df_clean.filter(df_clean.registration.isNull()).count())\n",
    "percentage = missing *100.0 /total"
   ]
  },
  {
   "cell_type": "code",
   "execution_count": 15,
   "metadata": {},
   "outputs": [
    {
     "name": "stdout",
     "output_type": "stream",
     "text": [
      "Total Records: 278154.0\n",
      "Missing Registration: 0.0\n",
      "Percentage of Missing Registration: 0.0\n"
     ]
    }
   ],
   "source": [
    "# Safety check\n",
    "print('Total Records:', total)\n",
    "print('Missing Registration:', missing)\n",
    "print('Percentage of Missing Registration:', percentage)"
   ]
  },
  {
   "cell_type": "code",
   "execution_count": 16,
   "metadata": {},
   "outputs": [],
   "source": [
    "# df now has removed rows\n",
    "df = df_clean"
   ]
  },
  {
   "cell_type": "code",
   "execution_count": 17,
   "metadata": {},
   "outputs": [
    {
     "data": {
      "text/plain": [
       "278154"
      ]
     },
     "execution_count": 17,
     "metadata": {},
     "output_type": "execute_result"
    }
   ],
   "source": [
    "df.count()"
   ]
  },
  {
   "cell_type": "code",
   "execution_count": 18,
   "metadata": {
    "scrolled": true
   },
   "outputs": [
    {
     "name": "stdout",
     "output_type": "stream",
     "text": [
      "+------+\n",
      "|userId|\n",
      "+------+\n",
      "|    10|\n",
      "|   100|\n",
      "|100001|\n",
      "|100002|\n",
      "|100003|\n",
      "|100004|\n",
      "|100005|\n",
      "|100006|\n",
      "|100007|\n",
      "|100008|\n",
      "|100009|\n",
      "|100010|\n",
      "|100011|\n",
      "|100012|\n",
      "|100013|\n",
      "|100014|\n",
      "|100015|\n",
      "|100016|\n",
      "|100017|\n",
      "|100018|\n",
      "+------+\n",
      "only showing top 20 rows\n",
      "\n"
     ]
    }
   ],
   "source": [
    "# Check for empty string in UserID. Wanted to make sure we have records that all have user ID. For this study,\n",
    "# these are the only users we are interested in\n",
    "# We can see no nulls or empty strings.\n",
    "df.select(\"userId\").dropDuplicates().sort(\"userId\").show()"
   ]
  },
  {
   "cell_type": "code",
   "execution_count": 19,
   "metadata": {},
   "outputs": [
    {
     "name": "stdout",
     "output_type": "stream",
     "text": [
      "missing UID: 0.0\n"
     ]
    }
   ],
   "source": [
    "# Secondary null check for UID, confirming no nulls\n",
    "missing_uid = float(df.filter(df.userId.isNull()).count())\n",
    "print('missing UID:',missing_uid)"
   ]
  },
  {
   "cell_type": "code",
   "execution_count": 20,
   "metadata": {
    "scrolled": true
   },
   "outputs": [
    {
     "name": "stdout",
     "output_type": "stream",
     "text": [
      "<class 'pandas.core.frame.DataFrame'>\n",
      "RangeIndex: 278154 entries, 0 to 278153\n",
      "Data columns (total 18 columns):\n",
      " #   Column         Non-Null Count   Dtype  \n",
      "---  ------         --------------   -----  \n",
      " 0   artist         228108 non-null  object \n",
      " 1   auth           278154 non-null  object \n",
      " 2   firstName      278154 non-null  object \n",
      " 3   gender         278154 non-null  object \n",
      " 4   itemInSession  278154 non-null  int64  \n",
      " 5   lastName       278154 non-null  object \n",
      " 6   length         228108 non-null  float64\n",
      " 7   level          278154 non-null  object \n",
      " 8   location       278154 non-null  object \n",
      " 9   method         278154 non-null  object \n",
      " 10  page           278154 non-null  object \n",
      " 11  registration   278154 non-null  int64  \n",
      " 12  sessionId      278154 non-null  int64  \n",
      " 13  song           228108 non-null  object \n",
      " 14  status         278154 non-null  int64  \n",
      " 15  ts             278154 non-null  int64  \n",
      " 16  userAgent      278154 non-null  object \n",
      " 17  userId         278154 non-null  object \n",
      "dtypes: float64(1), int64(5), object(12)\n",
      "memory usage: 38.2+ MB\n"
     ]
    }
   ],
   "source": [
    "# These are the fields left to\n",
    "df.toPandas().info();"
   ]
  },
  {
   "cell_type": "code",
   "execution_count": 21,
   "metadata": {},
   "outputs": [
    {
     "name": "stdout",
     "output_type": "stream",
     "text": [
      "+------+\n",
      "|gender|\n",
      "+------+\n",
      "|     F|\n",
      "|     M|\n",
      "+------+\n",
      "\n"
     ]
    }
   ],
   "source": [
    "df.select('gender').dropDuplicates().show()"
   ]
  },
  {
   "cell_type": "code",
   "execution_count": 22,
   "metadata": {
    "scrolled": true
   },
   "outputs": [
    {
     "name": "stdout",
     "output_type": "stream",
     "text": [
      "+-----+\n",
      "|level|\n",
      "+-----+\n",
      "| free|\n",
      "| paid|\n",
      "+-----+\n",
      "\n"
     ]
    }
   ],
   "source": [
    "# Level indicates a paid or free user\n",
    "df.select('level').dropDuplicates().show()"
   ]
  },
  {
   "cell_type": "code",
   "execution_count": 23,
   "metadata": {},
   "outputs": [
    {
     "name": "stdout",
     "output_type": "stream",
     "text": [
      "+------+\n",
      "|method|\n",
      "+------+\n",
      "|   PUT|\n",
      "|   GET|\n",
      "+------+\n",
      "\n"
     ]
    }
   ],
   "source": [
    "# HTTP Methods\n",
    "df.select('method').dropDuplicates().show()"
   ]
  },
  {
   "cell_type": "code",
   "execution_count": 24,
   "metadata": {},
   "outputs": [
    {
     "name": "stdout",
     "output_type": "stream",
     "text": [
      "+--------------------+\n",
      "|                page|\n",
      "+--------------------+\n",
      "|              Cancel|\n",
      "|    Submit Downgrade|\n",
      "|         Thumbs Down|\n",
      "|                Home|\n",
      "|           Downgrade|\n",
      "|         Roll Advert|\n",
      "|              Logout|\n",
      "|       Save Settings|\n",
      "|Cancellation Conf...|\n",
      "|               About|\n",
      "|            Settings|\n",
      "|     Add to Playlist|\n",
      "|          Add Friend|\n",
      "|            NextSong|\n",
      "|           Thumbs Up|\n",
      "|                Help|\n",
      "|             Upgrade|\n",
      "|               Error|\n",
      "|      Submit Upgrade|\n",
      "+--------------------+\n",
      "\n",
      "Number of page types: 19\n"
     ]
    }
   ],
   "source": [
    "# Page types\n",
    "df.select('page').dropDuplicates().show()\n",
    "print(\"Number of page types:\", df.select('page').dropDuplicates().count())"
   ]
  },
  {
   "cell_type": "code",
   "execution_count": 25,
   "metadata": {},
   "outputs": [
    {
     "name": "stdout",
     "output_type": "stream",
     "text": [
      "+------+\n",
      "|status|\n",
      "+------+\n",
      "|   307|\n",
      "|   404|\n",
      "|   200|\n",
      "+------+\n",
      "\n"
     ]
    }
   ],
   "source": [
    "# Believe this is the code from an HTTP page\n",
    "df.select('status').dropDuplicates().show()"
   ]
  },
  {
   "cell_type": "code",
   "execution_count": 26,
   "metadata": {
    "scrolled": true
   },
   "outputs": [
    {
     "name": "stdout",
     "output_type": "stream",
     "text": [
      "+---------+\n",
      "|     auth|\n",
      "+---------+\n",
      "|Cancelled|\n",
      "|Logged In|\n",
      "+---------+\n",
      "\n"
     ]
    }
   ],
   "source": [
    "# As mentioned earlier, \"guest\" and \"logged out\" were dropped along with null registrations\n",
    "df.select('auth').dropDuplicates().show()"
   ]
  },
  {
   "cell_type": "code",
   "execution_count": 27,
   "metadata": {},
   "outputs": [
    {
     "name": "stdout",
     "output_type": "stream",
     "text": [
      "+--------------------+\n",
      "|           userAgent|\n",
      "+--------------------+\n",
      "|\"Mozilla/5.0 (Mac...|\n",
      "|\"Mozilla/5.0 (Win...|\n",
      "|Mozilla/5.0 (X11;...|\n",
      "|\"Mozilla/5.0 (Mac...|\n",
      "|\"Mozilla/5.0 (Mac...|\n",
      "|Mozilla/5.0 (Maci...|\n",
      "|Mozilla/5.0 (Wind...|\n",
      "|Mozilla/5.0 (Wind...|\n",
      "|Mozilla/5.0 (comp...|\n",
      "|\"Mozilla/5.0 (Win...|\n",
      "|Mozilla/5.0 (Maci...|\n",
      "|\"Mozilla/5.0 (Win...|\n",
      "|\"Mozilla/5.0 (iPh...|\n",
      "|\"Mozilla/5.0 (Win...|\n",
      "|Mozilla/5.0 (Wind...|\n",
      "|Mozilla/5.0 (comp...|\n",
      "|Mozilla/5.0 (comp...|\n",
      "|\"Mozilla/5.0 (Mac...|\n",
      "|\"Mozilla/5.0 (Mac...|\n",
      "|\"Mozilla/5.0 (Win...|\n",
      "+--------------------+\n",
      "only showing top 20 rows\n",
      "\n",
      "Number of User Agents:  56\n"
     ]
    }
   ],
   "source": [
    "df.select('userAgent').dropDuplicates().show()\n",
    "print (\"Number of User Agents: \", df.select('userAgent').dropDuplicates().count())"
   ]
  },
  {
   "cell_type": "code",
   "execution_count": 28,
   "metadata": {
    "scrolled": true
   },
   "outputs": [
    {
     "name": "stdout",
     "output_type": "stream",
     "text": [
      "+---------+\n",
      "|     auth|\n",
      "+---------+\n",
      "|Cancelled|\n",
      "|Logged In|\n",
      "+---------+\n",
      "\n"
     ]
    }
   ],
   "source": [
    "# Further refinement\n",
    "\n",
    "# I've left this in, since it's part of cleaning AND understanding the data. First pass through, I decided\n",
    "# to drop the records where \"registration\" was null. It turns out that also dropped out the \"Guest\" and\n",
    "# \"Logged Out\" field. So, the filter below was NOT needed. However, this also shows the iterative nature\n",
    "# of data understanding. \n",
    "\n",
    "# For production code, I would drop this cell. Left in as illustration\n",
    "\n",
    "# We don't need either Guest or Logged Out records, since there is no churn associated with them. As well, \n",
    "# neither field would have a UserID\n",
    "df = df.filter((df.auth != 'Guest') & (df.auth != 'Logged Out'))\n",
    "df.select('auth').dropDuplicates().show()"
   ]
  },
  {
   "cell_type": "code",
   "execution_count": 29,
   "metadata": {
    "scrolled": true
   },
   "outputs": [
    {
     "name": "stdout",
     "output_type": "stream",
     "text": [
      "+--------------+---------+---------+------+-------------+--------+---------+-----+--------------------+------+---------------+-------------+---------+--------------------+------+-------------+--------------------+------+\n",
      "|        artist|     auth|firstName|gender|itemInSession|lastName|   length|level|            location|method|           page| registration|sessionId|                song|status|           ts|           userAgent|userId|\n",
      "+--------------+---------+---------+------+-------------+--------+---------+-----+--------------------+------+---------------+-------------+---------+--------------------+------+-------------+--------------------+------+\n",
      "|          RJD2|Logged In|    Diego|     M|            0|   Mckee|237.53098| free|Phoenix-Mesa-Scot...|   PUT|       NextSong|1537167593000|      218|Beyond The Beyond...|   200|1538578897000|\"Mozilla/5.0 (iPh...|    32|\n",
      "| Guns N' Roses|Logged In|    Diego|     M|            1|   Mckee|406.17751| free|Phoenix-Mesa-Scot...|   PUT|       NextSong|1537167593000|      218|       Paradise City|   200|1538579134000|\"Mozilla/5.0 (iPh...|    32|\n",
      "|     Lady GaGa|Logged In|    Diego|     M|            2|   Mckee|274.18077| free|Phoenix-Mesa-Scot...|   PUT|       NextSong|1537167593000|      218|           Alejandro|   200|1538579540000|\"Mozilla/5.0 (iPh...|    32|\n",
      "|          null|Logged In|    Diego|     M|            3|   Mckee|     null| free|Phoenix-Mesa-Scot...|   GET|    Roll Advert|1537167593000|      218|                null|   200|1538579565000|\"Mozilla/5.0 (iPh...|    32|\n",
      "|     LL Cool J|Logged In|    Diego|     M|            4|   Mckee| 242.6771| free|Phoenix-Mesa-Scot...|   PUT|       NextSong|1537167593000|      218|        Luv U Better|   200|1538579814000|\"Mozilla/5.0 (iPh...|    32|\n",
      "|          null|Logged In|    Diego|     M|            5|   Mckee|     null| free|Phoenix-Mesa-Scot...|   PUT|      Thumbs Up|1537167593000|      218|                null|   307|1538579815000|\"Mozilla/5.0 (iPh...|    32|\n",
      "|Kelly Clarkson|Logged In|    Diego|     M|            6|   Mckee|211.56526| free|Phoenix-Mesa-Scot...|   PUT|       NextSong|1537167593000|      218|My Life Would Suc...|   200|1538580056000|\"Mozilla/5.0 (iPh...|    32|\n",
      "|          null|Logged In|    Diego|     M|            7|   Mckee|     null| free|Phoenix-Mesa-Scot...|   PUT|Add to Playlist|1537167593000|      218|                null|   200|1538580068000|\"Mozilla/5.0 (iPh...|    32|\n",
      "|      Natiruts|Logged In|    Diego|     M|            8|   Mckee|210.88608| free|Phoenix-Mesa-Scot...|   PUT|       NextSong|1537167593000|      218|Jamaica Roots II(...|   200|1538580267000|\"Mozilla/5.0 (iPh...|    32|\n",
      "|  Alan Barratt|Logged In|    Diego|     M|            9|   Mckee|652.14649| free|Phoenix-Mesa-Scot...|   PUT|       NextSong|1537167593000|      218|                Dusk|   200|1538580477000|\"Mozilla/5.0 (iPh...|    32|\n",
      "+--------------+---------+---------+------+-------------+--------+---------+-----+--------------------+------+---------------+-------------+---------+--------------------+------+-------------+--------------------+------+\n",
      "only showing top 10 rows\n",
      "\n"
     ]
    }
   ],
   "source": [
    "# Review a free user usage\n",
    "df.filter(df[\"userId\"] == \"32\").show(10)"
   ]
  },
  {
   "cell_type": "code",
   "execution_count": 30,
   "metadata": {},
   "outputs": [
    {
     "name": "stdout",
     "output_type": "stream",
     "text": [
      "+--------------------+---------+---------+------+-------------+--------+---------+-----+--------------------+------+---------+-------------+---------+--------------------+------+-------------+--------------------+------+\n",
      "|              artist|     auth|firstName|gender|itemInSession|lastName|   length|level|            location|method|     page| registration|sessionId|                song|status|           ts|           userAgent|userId|\n",
      "+--------------------+---------+---------+------+-------------+--------+---------+-----+--------------------+------+---------+-------------+---------+--------------------+------+-------------+--------------------+------+\n",
      "|                null|Logged In|  Destiny|     F|            0| Herring|     null| paid|Miami-Fort Lauder...|   GET|     Home|1536844410000|      216|                null|   200|1538529207000|\"Mozilla/5.0 (Win...|    20|\n",
      "|Bob Marley & The ...|Logged In|  Destiny|     F|            1| Herring|210.33751| paid|Miami-Fort Lauder...|   PUT| NextSong|1536844410000|      216|Trouble Dub - FAM...|   200|1538529265000|\"Mozilla/5.0 (Win...|    20|\n",
      "|                null|Logged In|  Destiny|     F|            2| Herring|     null| paid|Miami-Fort Lauder...|   PUT|Thumbs Up|1536844410000|      216|                null|   307|1538529266000|\"Mozilla/5.0 (Win...|    20|\n",
      "|        Modest Mouse|Logged In|  Destiny|     F|            3| Herring|209.52771| paid|Miami-Fort Lauder...|   PUT| NextSong|1536844410000|      216|            Float On|   200|1538529475000|\"Mozilla/5.0 (Win...|    20|\n",
      "|         Nana Caymmi|Logged In|  Destiny|     F|            4| Herring|283.14077| paid|Miami-Fort Lauder...|   PUT| NextSong|1536844410000|      216|Resposta Ao Tempo...|   200|1538529684000|\"Mozilla/5.0 (Win...|    20|\n",
      "|                null|Logged In|  Destiny|     F|            5| Herring|     null| paid|Miami-Fort Lauder...|   PUT|Thumbs Up|1536844410000|      216|                null|   307|1538529685000|\"Mozilla/5.0 (Win...|    20|\n",
      "|       Justin Bieber|Logged In|  Destiny|     F|            6| Herring|214.67383| paid|Miami-Fort Lauder...|   PUT| NextSong|1536844410000|      216|            One Time|   200|1538529967000|\"Mozilla/5.0 (Win...|    20|\n",
      "|        Ziggy Marley|Logged In|  Destiny|     F|            7| Herring|225.59302| paid|Miami-Fort Lauder...|   PUT| NextSong|1536844410000|      216|      True To Myself|   200|1538530181000|\"Mozilla/5.0 (Win...|    20|\n",
      "|         Silverchair|Logged In|  Destiny|     F|            8| Herring|241.65832| paid|Miami-Fort Lauder...|   PUT| NextSong|1536844410000|      216|               Shade|   200|1538530406000|\"Mozilla/5.0 (Win...|    20|\n",
      "|       Kings Of Leon|Logged In|  Destiny|     F|            9| Herring|201.79546| paid|Miami-Fort Lauder...|   PUT| NextSong|1536844410000|      216|             Revelry|   200|1538530647000|\"Mozilla/5.0 (Win...|    20|\n",
      "+--------------------+---------+---------+------+-------------+--------+---------+-----+--------------------+------+---------+-------------+---------+--------------------+------+-------------+--------------------+------+\n",
      "only showing top 10 rows\n",
      "\n"
     ]
    }
   ],
   "source": [
    "# Review a paid user\n",
    "df.filter(df[\"userId\"] == \"20\").show(10)"
   ]
  },
  {
   "cell_type": "markdown",
   "metadata": {},
   "source": [
    "#### Data Findings\n",
    "\n",
    "\n",
    "This is my intial set of findings about the dataset. Since the documentation about the log records was not present, potentially this would be updated as more is known about the dataset.\n",
    "\n",
    "This also presents a minor quandary. What fields/features should I drop, if any, for the upcoming models. In other binary classification problems I've worked on at my job, we tend to leave more in. Especially when there is little to nothing known about the dataset. At present, there are 18 columns. There are potentially a few \"easy\" ones to drop. For example, I could drop the first and last name. I doubt they will be a very important feature. However, being more inclusive than less is the direction I'm going. \n",
    "\n",
    "Here's what has been surmised around a user:\n",
    "* User Id : User identifier \n",
    "* firstName: Users first name\n",
    "* lastName: Users surname\n",
    "* gender: either M or F\n",
    "* location: not known if this comes from the IP address or user provided. Leaning towards from the IP address\n",
    "* userAgent:  OS/method used to access Sparkify. (57 different categories)\n",
    "* registration: UNIX/epoch time stamp for presume initial registration\n",
    "* level: user subscription status (free or paid)\n",
    "\n",
    "Log details:\n",
    "\n",
    "* ts : timestamp of a given log  \n",
    "* page : type of page access (22 categories) \n",
    "* auth : authentication status (4 categories) \n",
    "* sessionID : what session for the log\n",
    "* itemInSession : a counter maintained for what looks like a given session\n",
    "* method : http method\n",
    "* status : looks like the http status code;\n",
    "\n",
    "Song details\n",
    "* song : song name\n",
    "* artist : artist name\n",
    "* length: song's length (seconds)\n"
   ]
  },
  {
   "cell_type": "markdown",
   "metadata": {},
   "source": [
    "# Exploratory Data Analysis\n",
    "When you're working with the full dataset, perform EDA by loading a small subset of the data and doing basic manipulations within Spark. In this workspace, you are already provided a small subset of data you can explore.\n",
    "\n",
    "### Define Churn\n",
    "\n",
    "Once you've done some preliminary analysis, create a column `Churn` to use as the label for your model. I suggest using the `Cancellation Confirmation` events to define your churn, which happen for both paid and free users. As a bonus task, you can also look into the `Downgrade` events.\n",
    "\n",
    "### Explore Data\n",
    "Once you've defined churn, perform some exploratory data analysis to observe the behavior for users who stayed vs users who churned. You can start by exploring aggregates on these two groups of users, observing how much of a specific action they experienced per a certain time unit or number of songs played."
   ]
  },
  {
   "cell_type": "code",
   "execution_count": 31,
   "metadata": {},
   "outputs": [
    {
     "name": "stdout",
     "output_type": "stream",
     "text": [
      "+--------------------+\n",
      "|                page|\n",
      "+--------------------+\n",
      "|              Cancel|\n",
      "|    Submit Downgrade|\n",
      "|         Thumbs Down|\n",
      "|                Home|\n",
      "|           Downgrade|\n",
      "|         Roll Advert|\n",
      "|              Logout|\n",
      "|       Save Settings|\n",
      "|Cancellation Conf...|\n",
      "|               About|\n",
      "|            Settings|\n",
      "|     Add to Playlist|\n",
      "|          Add Friend|\n",
      "|            NextSong|\n",
      "|           Thumbs Up|\n",
      "|                Help|\n",
      "|             Upgrade|\n",
      "|               Error|\n",
      "|      Submit Upgrade|\n",
      "+--------------------+\n",
      "\n"
     ]
    }
   ],
   "source": [
    "#Review: Cancellation Confirmation is an element of \"page\"\n",
    "\n",
    "df.select('page').distinct().show()"
   ]
  },
  {
   "cell_type": "code",
   "execution_count": 32,
   "metadata": {},
   "outputs": [],
   "source": [
    "# Wanted to use an RDD, but not much covered in the lectures. Came across this:\n",
    "# Initially thought rdd.map() would work, but went with rdd.flatmap() after reading this:\n",
    "# https://www.tutorialkart.com/apache-spark/spark-rdd-map-java-python-examples/\n",
    "# Initially was interested in RDD's since that was the lesson where python vs. SQL was explored. That was one \n",
    "# area that I was trying to sort out the difference. Not much SQL in this exercise, but worth exploring later\n",
    "# down the road in some depth since I do a lot of SQL\n",
    "\n",
    "# Did we see cancellation confirmation? If so, they have churn and we will assign a 1, otherwise a 0\n",
    "# Having a binary value makes a variety of analysis easier\n",
    "\n",
    "churn_users = df.filter(df.page == 'Cancellation Confirmation')\\\n",
    "                                            .select('userId')\\\n",
    "                                            .dropDuplicates()\\\n",
    "                                            .rdd.flatMap(lambda x : x)\\\n",
    "                                            .collect()"
   ]
  },
  {
   "cell_type": "code",
   "execution_count": 33,
   "metadata": {},
   "outputs": [],
   "source": [
    "# Add in churn column\n",
    "df = df.withColumn('churn', when(col(\"userId\").isin(churn_users), 1).otherwise(0))"
   ]
  },
  {
   "cell_type": "code",
   "execution_count": 34,
   "metadata": {},
   "outputs": [
    {
     "data": {
      "text/html": [
       "<div>\n",
       "<style scoped>\n",
       "    .dataframe tbody tr th:only-of-type {\n",
       "        vertical-align: middle;\n",
       "    }\n",
       "\n",
       "    .dataframe tbody tr th {\n",
       "        vertical-align: top;\n",
       "    }\n",
       "\n",
       "    .dataframe thead th {\n",
       "        text-align: right;\n",
       "    }\n",
       "</style>\n",
       "<table border=\"1\" class=\"dataframe\">\n",
       "  <thead>\n",
       "    <tr style=\"text-align: right;\">\n",
       "      <th></th>\n",
       "      <th>artist</th>\n",
       "      <th>auth</th>\n",
       "      <th>firstName</th>\n",
       "      <th>gender</th>\n",
       "      <th>itemInSession</th>\n",
       "      <th>lastName</th>\n",
       "      <th>length</th>\n",
       "      <th>level</th>\n",
       "      <th>location</th>\n",
       "      <th>method</th>\n",
       "      <th>page</th>\n",
       "      <th>registration</th>\n",
       "      <th>sessionId</th>\n",
       "      <th>song</th>\n",
       "      <th>status</th>\n",
       "      <th>ts</th>\n",
       "      <th>userAgent</th>\n",
       "      <th>userId</th>\n",
       "      <th>churn</th>\n",
       "    </tr>\n",
       "  </thead>\n",
       "  <tbody>\n",
       "    <tr>\n",
       "      <th>0</th>\n",
       "      <td>Martha Tilston</td>\n",
       "      <td>Logged In</td>\n",
       "      <td>Colin</td>\n",
       "      <td>M</td>\n",
       "      <td>50</td>\n",
       "      <td>Freeman</td>\n",
       "      <td>277.89016</td>\n",
       "      <td>paid</td>\n",
       "      <td>Bakersfield, CA</td>\n",
       "      <td>PUT</td>\n",
       "      <td>NextSong</td>\n",
       "      <td>1538173362000</td>\n",
       "      <td>29</td>\n",
       "      <td>Rockpools</td>\n",
       "      <td>200</td>\n",
       "      <td>1538352117000</td>\n",
       "      <td>Mozilla/5.0 (Windows NT 6.1; WOW64; rv:31.0) G...</td>\n",
       "      <td>30</td>\n",
       "      <td>0</td>\n",
       "    </tr>\n",
       "    <tr>\n",
       "      <th>1</th>\n",
       "      <td>Five Iron Frenzy</td>\n",
       "      <td>Logged In</td>\n",
       "      <td>Micah</td>\n",
       "      <td>M</td>\n",
       "      <td>79</td>\n",
       "      <td>Long</td>\n",
       "      <td>236.09424</td>\n",
       "      <td>free</td>\n",
       "      <td>Boston-Cambridge-Newton, MA-NH</td>\n",
       "      <td>PUT</td>\n",
       "      <td>NextSong</td>\n",
       "      <td>1538331630000</td>\n",
       "      <td>8</td>\n",
       "      <td>Canada</td>\n",
       "      <td>200</td>\n",
       "      <td>1538352180000</td>\n",
       "      <td>\"Mozilla/5.0 (Windows NT 6.1; WOW64) AppleWebK...</td>\n",
       "      <td>9</td>\n",
       "      <td>0</td>\n",
       "    </tr>\n",
       "    <tr>\n",
       "      <th>2</th>\n",
       "      <td>Adam Lambert</td>\n",
       "      <td>Logged In</td>\n",
       "      <td>Colin</td>\n",
       "      <td>M</td>\n",
       "      <td>51</td>\n",
       "      <td>Freeman</td>\n",
       "      <td>282.82730</td>\n",
       "      <td>paid</td>\n",
       "      <td>Bakersfield, CA</td>\n",
       "      <td>PUT</td>\n",
       "      <td>NextSong</td>\n",
       "      <td>1538173362000</td>\n",
       "      <td>29</td>\n",
       "      <td>Time For Miracles</td>\n",
       "      <td>200</td>\n",
       "      <td>1538352394000</td>\n",
       "      <td>Mozilla/5.0 (Windows NT 6.1; WOW64; rv:31.0) G...</td>\n",
       "      <td>30</td>\n",
       "      <td>0</td>\n",
       "    </tr>\n",
       "    <tr>\n",
       "      <th>3</th>\n",
       "      <td>Enigma</td>\n",
       "      <td>Logged In</td>\n",
       "      <td>Micah</td>\n",
       "      <td>M</td>\n",
       "      <td>80</td>\n",
       "      <td>Long</td>\n",
       "      <td>262.71302</td>\n",
       "      <td>free</td>\n",
       "      <td>Boston-Cambridge-Newton, MA-NH</td>\n",
       "      <td>PUT</td>\n",
       "      <td>NextSong</td>\n",
       "      <td>1538331630000</td>\n",
       "      <td>8</td>\n",
       "      <td>Knocking On Forbidden Doors</td>\n",
       "      <td>200</td>\n",
       "      <td>1538352416000</td>\n",
       "      <td>\"Mozilla/5.0 (Windows NT 6.1; WOW64) AppleWebK...</td>\n",
       "      <td>9</td>\n",
       "      <td>0</td>\n",
       "    </tr>\n",
       "    <tr>\n",
       "      <th>4</th>\n",
       "      <td>Daft Punk</td>\n",
       "      <td>Logged In</td>\n",
       "      <td>Colin</td>\n",
       "      <td>M</td>\n",
       "      <td>52</td>\n",
       "      <td>Freeman</td>\n",
       "      <td>223.60771</td>\n",
       "      <td>paid</td>\n",
       "      <td>Bakersfield, CA</td>\n",
       "      <td>PUT</td>\n",
       "      <td>NextSong</td>\n",
       "      <td>1538173362000</td>\n",
       "      <td>29</td>\n",
       "      <td>Harder Better Faster Stronger</td>\n",
       "      <td>200</td>\n",
       "      <td>1538352676000</td>\n",
       "      <td>Mozilla/5.0 (Windows NT 6.1; WOW64; rv:31.0) G...</td>\n",
       "      <td>30</td>\n",
       "      <td>0</td>\n",
       "    </tr>\n",
       "  </tbody>\n",
       "</table>\n",
       "</div>"
      ],
      "text/plain": [
       "             artist       auth firstName gender  itemInSession lastName  \\\n",
       "0    Martha Tilston  Logged In     Colin      M             50  Freeman   \n",
       "1  Five Iron Frenzy  Logged In     Micah      M             79     Long   \n",
       "2      Adam Lambert  Logged In     Colin      M             51  Freeman   \n",
       "3            Enigma  Logged In     Micah      M             80     Long   \n",
       "4         Daft Punk  Logged In     Colin      M             52  Freeman   \n",
       "\n",
       "      length level                        location method      page  \\\n",
       "0  277.89016  paid                 Bakersfield, CA    PUT  NextSong   \n",
       "1  236.09424  free  Boston-Cambridge-Newton, MA-NH    PUT  NextSong   \n",
       "2  282.82730  paid                 Bakersfield, CA    PUT  NextSong   \n",
       "3  262.71302  free  Boston-Cambridge-Newton, MA-NH    PUT  NextSong   \n",
       "4  223.60771  paid                 Bakersfield, CA    PUT  NextSong   \n",
       "\n",
       "    registration  sessionId                           song  status  \\\n",
       "0  1538173362000         29                      Rockpools     200   \n",
       "1  1538331630000          8                         Canada     200   \n",
       "2  1538173362000         29              Time For Miracles     200   \n",
       "3  1538331630000          8    Knocking On Forbidden Doors     200   \n",
       "4  1538173362000         29  Harder Better Faster Stronger     200   \n",
       "\n",
       "              ts                                          userAgent userId  \\\n",
       "0  1538352117000  Mozilla/5.0 (Windows NT 6.1; WOW64; rv:31.0) G...     30   \n",
       "1  1538352180000  \"Mozilla/5.0 (Windows NT 6.1; WOW64) AppleWebK...      9   \n",
       "2  1538352394000  Mozilla/5.0 (Windows NT 6.1; WOW64; rv:31.0) G...     30   \n",
       "3  1538352416000  \"Mozilla/5.0 (Windows NT 6.1; WOW64) AppleWebK...      9   \n",
       "4  1538352676000  Mozilla/5.0 (Windows NT 6.1; WOW64; rv:31.0) G...     30   \n",
       "\n",
       "   churn  \n",
       "0      0  \n",
       "1      0  \n",
       "2      0  \n",
       "3      0  \n",
       "4      0  "
      ]
     },
     "execution_count": 34,
     "metadata": {},
     "output_type": "execute_result"
    }
   ],
   "source": [
    "# Check churn column present\n",
    "dfp = df.toPandas()\n",
    "dfp.head()"
   ]
  },
  {
   "cell_type": "markdown",
   "metadata": {},
   "source": [
    "#### Churn Defined\n",
    "\n",
    "* 1 - users who cancelled their subscription within the observation period\n",
    "* 0 - users who kept the service throughout\n"
   ]
  },
  {
   "cell_type": "code",
   "execution_count": 35,
   "metadata": {},
   "outputs": [
    {
     "data": {
      "text/plain": [
       "churn\n",
       "0    173\n",
       "1     52\n",
       "Name: userId, dtype: int64"
      ]
     },
     "execution_count": 35,
     "metadata": {},
     "output_type": "execute_result"
    }
   ],
   "source": [
    "# Unique churn\n",
    "# Will add more visualization, just want to get a quick check\n",
    "# 173 users kept service\n",
    "# 52 users churned\n",
    "\n",
    "# Here's an interesting conundrum. How to be convey/display the values around Churn. For our purposes of \n",
    "# picking features and model development, I set a value of 0 and 1 to indicate not/did churn. Fine for those functions\n",
    "# where numeric values are useful/required, that's great. \n",
    "# However, this is why I find visualization helpful. I can be more descriptive in the visualization that \n",
    "# a raw number display like below. \n",
    "# Yes, I could have added yet another column, something like \"yes/no\" to indicate churn, or do some sort of \n",
    "# transformation prior to printing. But for me, I lean toward visualizations \n",
    "\n",
    "dfp.drop_duplicates(subset='userId').groupby(['churn'])['userId'].count()"
   ]
  },
  {
   "cell_type": "code",
   "execution_count": 36,
   "metadata": {},
   "outputs": [],
   "source": [
    "# Use a temporary DataFrame to do some Pandas specific EDA\n",
    "temp_df = df.toPandas()"
   ]
  },
  {
   "cell_type": "markdown",
   "metadata": {},
   "source": [
    "#### EDA Visualizations\n",
    "\n",
    "In general, I do most of my EDA visually. Possibly since I use a variety of data quality tools at work that have a lot of data wrangling capabilities, but here are a set that I used to further explore the dataset\n",
    "\n",
    "#### Battle of the visualizations\n",
    "\n",
    "I've used both Seaborn and Matplotlib here. I tend more towards using Matplotlib these days, since it conveys information both visually and quickly. My experience with Seaborn, while generally favorable, is that I spend more time that likely is necessary to create something that is visually \"eye-candy\", but in the end conveys the same information as Matplotlib. \n",
    "\n"
   ]
  },
  {
   "cell_type": "markdown",
   "metadata": {},
   "source": [
    "#### Spark Programming\n",
    " \n",
    "While the lectures and example programs were helpful, I found these references helpful. I found that \"drop_duplicates\" was a pretty handy function, below is some more detail on that I found helpful.\n",
    "\n",
    "Helpful spark info: https://sparkbyexamples.com/spark/spark-remove-duplicate-rows/\n",
    "\n",
    "And of course the reference info: http://spark.apache.org/docs/2.3.0/api/python/pyspark.sql.html"
   ]
  },
  {
   "cell_type": "markdown",
   "metadata": {},
   "source": [
    "All of that said, first EDA check shows that more cust"
   ]
  },
  {
   "cell_type": "code",
   "execution_count": 37,
   "metadata": {
    "scrolled": true
   },
   "outputs": [
    {
     "data": {
      "image/png": "[encoded data removed]",
      "text/plain": [
       "<Figure size 576x360 with 1 Axes>"
      ]
     },
     "metadata": {
      "needs_background": "light"
     },
     "output_type": "display_data"
    }
   ],
   "source": [
    "# Visualize the users churned\n",
    "ax = temp_df.drop_duplicates(subset='userId').groupby('churn')['userId'].count().plot(\n",
    "                                kind='barh', figsize=(8,5), \n",
    "                                title='Number of unique users by Subscription Level');\n",
    "ax.set_xlabel('Number of users');\n",
    "ax.set_yticklabels(['Active/Not Churned', 'Churned'], rotation=0)\n",
    "ax.set_ylabel(\"Subscription status\");\n",
    "\n",
    "# Test    \n",
    "#plot_frequency(['userId'], ['churn'], ['Active', 'Cancelled'])"
   ]
  },
  {
   "cell_type": "markdown",
   "metadata": {},
   "source": [
    "Note: For ease of reading, I will refer to Not Churned users as Active now"
   ]
  },
  {
   "cell_type": "code",
   "execution_count": 38,
   "metadata": {
    "scrolled": true
   },
   "outputs": [
    {
     "data": {
      "image/png": "[encoded data removed]",
      "text/plain": [
       "<Figure size 576x360 with 1 Axes>"
      ]
     },
     "metadata": {
      "needs_background": "light"
     },
     "output_type": "display_data"
    }
   ],
   "source": [
    "# Churn by visualization of gender\n",
    "\n",
    "df_gen = df.dropDuplicates([\"userId\", \"gender\"]).groupby([\"churn\", \"gender\"]).count().sort(\"churn\").toPandas()\n",
    "ax = temp_df.drop_duplicates(subset=['userId', 'gender']).groupby(['gender', 'churn'])['userId'].count().plot(\n",
    "                                kind='barh', figsize=(8,5), \n",
    "                                title='Subscription Level by Gender and Number of users');\n",
    "ax.set_xlabel('Number of users');\n",
    "ax.set_yticklabels(['Active-Female', 'Churned-Female', 'Active-Male', 'Churned-Male'], rotation=0)\n",
    "ax.set_ylabel(\"Gender/Subscription Level\");"
   ]
  },
  {
   "cell_type": "code",
   "execution_count": 39,
   "metadata": {},
   "outputs": [
    {
     "data": {
      "image/png": "[encoded data removed]",
      "text/plain": [
       "<Figure size 576x360 with 1 Axes>"
      ]
     },
     "metadata": {
      "needs_background": "light"
     },
     "output_type": "display_data"
    }
   ],
   "source": [
    "# Visualize by churn and subscription \n",
    "ax = temp_df.drop_duplicates(subset=['userId', 'level']).groupby(['level', 'churn'])['userId'].count().plot(\n",
    "                                kind='barh', figsize=(8,5), \n",
    "                                title='Subscription Level by Status and Number of users');\n",
    "ax.set_xlabel('Number of users');\n",
    "ax.set_yticklabels(['Active-Free', 'Churned-Free', 'Active-Paid', 'Churned-Paid'], rotation=0)\n",
    "ax.set_ylabel(\"Subscription Level/Status\");"
   ]
  },
  {
   "cell_type": "code",
   "execution_count": 40,
   "metadata": {},
   "outputs": [
    {
     "data": {
      "image/png": "[encoded data removed]",
      "text/plain": [
       "<Figure size 576x720 with 1 Axes>"
      ]
     },
     "metadata": {
      "needs_background": "light"
     },
     "output_type": "display_data"
    }
   ],
   "source": [
    "# Page Analysis \n",
    "# I used percentage as a comparison, otherwise the bar length is too small\n",
    "users_1 = dfp[dfp.churn == 1].groupby(['page'])['userId'].count().drop('NextSong')\n",
    "users_1 = users_1 /users_1.sum()*100\n",
    "\n",
    "users_0 = dfp[dfp.churn == 0].groupby(['page'])['userId'].count().drop('NextSong')\n",
    "users_0 = users_0 /users_0.sum()*100\n",
    "\n",
    "users_df = pd.DataFrame({'Churned Users': users_1,'Active Users':users_0})\n",
    "ax = users_df.plot(kind='barh', figsize=(8,10));\n",
    "ax.set_xlabel('Page type Percentage')\n",
    "ax.set_title('Page Usage for Active and Churned users');\n",
    "\n"
   ]
  },
  {
   "cell_type": "code",
   "execution_count": 41,
   "metadata": {},
   "outputs": [],
   "source": [
    "#Time for a little Spark SQL. I need to create a temp SQL view\n",
    "\n",
    "df.createOrReplaceTempView(\"sql_view_table\")\n"
   ]
  },
  {
   "cell_type": "code",
   "execution_count": 42,
   "metadata": {},
   "outputs": [],
   "source": [
    "number_of_sessions = spark.sql(\"SELECT userId, avg(count) as average from (SELECT userId, count(*) as count FROM sql_view_table group by sessionId, userId) group by userId\")"
   ]
  },
  {
   "cell_type": "code",
   "execution_count": 43,
   "metadata": {},
   "outputs": [],
   "source": [
    "churned_users = list(dfp[dfp['page'] == 'Cancellation Confirmation']['userId'].unique())"
   ]
  },
  {
   "cell_type": "code",
   "execution_count": 44,
   "metadata": {},
   "outputs": [],
   "source": [
    "churned_users.sort()"
   ]
  },
  {
   "cell_type": "code",
   "execution_count": 45,
   "metadata": {},
   "outputs": [
    {
     "data": {
      "image/png": "[encoded data removed]",
      "text/plain": [
       "<Figure size 432x288 with 1 Axes>"
      ]
     },
     "metadata": {
      "needs_background": "light"
     },
     "output_type": "display_data"
    }
   ],
   "source": [
    "pd_num_sessions = number_of_sessions.toPandas()\n",
    "pd_num_sessions['churn'] = pd_num_sessions['userId'].apply(lambda x: 1 if x in churned_users else 0)\n",
    "sns.barplot(x=\"churn\", y=\"average\", data=pd_num_sessions, ci=None);\n",
    "plt.xlabel(\"User Status\", fontsize=14);\n",
    "plt.ylabel(\"Average number of sessions\", fontsize=14);\n",
    "plt.title(\"Average session counts versus Churn\", fontsize=14);"
   ]
  },
  {
   "cell_type": "markdown",
   "metadata": {},
   "source": [
    "# Feature Engineering\n",
    "Once you've familiarized yourself with the data, build out the features you find promising to train your model on. To work with the full dataset, you can follow the following steps.\n",
    "- Write a script to extract the necessary features from the smaller subset of data\n",
    "- Ensure that your script is scalable, using the best practices discussed in Lesson 3\n",
    "- Try your script on the full data set, debugging your script if necessary\n",
    "\n",
    "If you are working in the classroom workspace, you can just extract features based on the small subset of data contained here. Be sure to transfer over this work to the larger dataset when you work on your Spark cluster."
   ]
  },
  {
   "cell_type": "markdown",
   "metadata": {},
   "source": [
    "After analyzing all the column above i have decided to use below fetaure in my model:<br/>\n",
    "1:- Gender<br/>\n",
    "2:- UserAgent<br/>\n",
    "3:- Status<br/>\n",
    "4;- Page<br/>\n",
    "\n",
    "<p>Once the columns were identified, we now have to make sure that they are al in the numeric datatype so that they could be put into the model that we choose. The Gender, UserAgent and page columns had to be converted into numeric values using a combination of String Indexing and One Hot encoding.</p>\n"
   ]
  },
  {
   "cell_type": "markdown",
   "metadata": {},
   "source": [
    "#### Helpful Extract and Transform links\n",
    "\n",
    "https://spark.apache.org/docs/2.3.0/ml-features.html\n",
    "    \n",
    "Super helpful guide here: https://towardsdatascience.com/feature-encoding-with-spark-2-3-0-part-1-9ede45562740\n",
    "\n",
    "Part 2 was good too: https://towardsdatascience.com/feature-encoding-made-simple-with-spark-2-3-0-part-2-5bfc869a809a\n",
    "\n",
    "        "
   ]
  },
  {
   "cell_type": "code",
   "execution_count": 46,
   "metadata": {},
   "outputs": [],
   "source": [
    "#build pipeline\n",
    "# Vector assembly: combine the raw features and features generated from various transforms into a single feature vector\n",
    "# I like this guy in general for his ML blogs, and this is a good one on one-hot encoding:\n",
    "# https://machinelearningmastery.com/why-one-hot-encode-data-in-machine-learning/\n",
    "# And everything you ever want to know about one-hot and categorical data:\n",
    "# https://machinelearningmastery.com/one-hot-encoding-for-categorical-data/\n",
    "\n",
    "Gender_one_hot = OneHotEncoder(inputCol='Gender_Index', outputCol='Gender_Vec')\n",
    "User_one_hot = OneHotEncoder(inputCol='User_Index', outputCol='User_Vec')\n",
    "Page_one_hot = OneHotEncoder(inputCol='Page_Index', outputCol='Page_Vec')\n",
    "\n",
    "# Use String Indexer to set up label indices for Gender, User agent, and Page type\n",
    "# I define Target_indexer as the binary field to be determined (Churn = yes or no?)\n",
    "\n",
    "Gender_ndx = StringIndexer(inputCol=\"gender\", outputCol='Gender_Index')\n",
    "User_ndx = StringIndexer(inputCol=\"userAgent\", outputCol='User_Index')\n",
    "Page_ndx = StringIndexer(inputCol=\"page\", outputCol='Page_Index')\n",
    "Target_indexer = StringIndexer(inputCol=\"churn\", outputCol=\"label\")\n",
    "# Get single vector column for our binary classification models\n",
    "assembler = VectorAssembler(inputCols=[\"Gender_Vec\", \"User_Vec\", \"Page_Vec\", \"status\"], outputCol=\"features\")\n"
   ]
  },
  {
   "cell_type": "code",
   "execution_count": 47,
   "metadata": {},
   "outputs": [
    {
     "data": {
      "text/plain": [
       "VectorAssembler_b64f7d9e8f3c"
      ]
     },
     "execution_count": 47,
     "metadata": {},
     "output_type": "execute_result"
    }
   ],
   "source": [
    "assembler"
   ]
  },
  {
   "cell_type": "code",
   "execution_count": null,
   "metadata": {},
   "outputs": [],
   "source": []
  },
  {
   "cell_type": "markdown",
   "metadata": {},
   "source": [
    "# Modeling\n",
    "Split the full dataset into train, test, and validation sets. Test out several of the machine learning methods you learned. Evaluate the accuracy of the various models, tuning parameters as necessary. Determine your winning model based on test accuracy and report results on the validation set. Since the churned users are a fairly small subset, I suggest using F1 score as the metric to optimize."
   ]
  },
  {
   "cell_type": "markdown",
   "metadata": {},
   "source": [
    "##### Model choices\n",
    "\n",
    "We have a simple but key business need here. Answer the binary yes or no question: \"Will a customer churn?\". This represents a dynamic on two important fronts:\n",
    "\n",
    "1) How can we keep existing customers from churning\n",
    "2) How can we prevent future customer from churning\n",
    "\n",
    "There is also a another key question that would require potentially more data and analysis which is \"How can we get free customers to become paid customers?\". As they saying goes, that is beyond the scope of this exericse. However, that would be my next step. \n",
    "\n",
    "Back to the question at hand, how to prevent churn. I've chosen two good classification models to use for this exercise:\n",
    "\n",
    "* Logistic regression\n",
    "* Random Forest \n"
   ]
  },
  {
   "cell_type": "markdown",
   "metadata": {},
   "source": [
    "#### Some references\n",
    "\n",
    "https://spark.apache.org/docs/2.3.0/ml-classification-regression.html\n",
    "\n",
    "https://www.analyticsvidhya.com/blog/2019/11/build-machine-learning-pipelines-pyspark/\n",
    "\n",
    "https://spark.apache.org/docs/2.3.0/ml-pipeline.html\n",
    "\n",
    "https://projector-video-pdf-converter.datacamp.com/14989/chapter4.pdf\n",
    "\n",
    "https://www.datacamp.com/community/tutorials/apache-spark-tutorial-machine-learning\n",
    "\n",
    "http://spark.apache.org/docs/2.3.0/ml-tuning.html\n",
    "\n"
   ]
  },
  {
   "cell_type": "code",
   "execution_count": 48,
   "metadata": {},
   "outputs": [],
   "source": [
    "# Set up the Logistic Regression model\n",
    "# I used the parameters in the Spark programming guide. \n",
    "# https://spark.apache.org/docs/2.3.0/ml-classification-regression.html#binomial-logistic-regression\n",
    "# Pipeline code suggestions from here: https://spark.apache.org/docs/2.3.0/ml-pipeline.html\n",
    "\n",
    "lr =  LogisticRegression(maxIter=10, regParam=0.3, elasticNetParam=0)\n",
    "pipeline = Pipeline(stages=[Gender_ndx, User_ndx, Page_ndx, Gender_one_hot,\n",
    "                            User_one_hot, Page_one_hot, assembler, Target_indexer, lr])"
   ]
  },
  {
   "cell_type": "code",
   "execution_count": 49,
   "metadata": {},
   "outputs": [],
   "source": [
    "# Set up test and training data with the pyspark randomsplit function\n",
    "# From here: https://spark.apache.org/docs/2.3.0/api/python/pyspark.sql.html\n",
    "# Use 90% training, 10% test. We've used 42 as the random seed before\n",
    "\n",
    "test_set, validation = df.randomSplit([0.9, 0.1], seed=42)"
   ]
  },
  {
   "cell_type": "code",
   "execution_count": 50,
   "metadata": {},
   "outputs": [],
   "source": [
    "from pyspark.ml.evaluation import BinaryClassificationEvaluator"
   ]
  },
  {
   "cell_type": "code",
   "execution_count": 51,
   "metadata": {},
   "outputs": [],
   "source": [
    "# Use Paramgrid builder to create a search grid\n",
    "# Crossvalidator will create 3 folds for evaluating the pipeline\n",
    "# Helpful code here: https://spark.apache.org/docs/2.3.0/ml-tuning.html\n",
    "# NOTE: I was a little puzzled/interested when I compared the Binary Classification Evaluator to the \n",
    "#       Multiclass Evaluator, as the Binary Evaluator was roughly 2% better. \n",
    "#       I know the lectures used Multiclass though.\n",
    "\n",
    "paramGrid = ParamGridBuilder() \\\n",
    "    .addGrid(lr.regParam,[0.0, 0.1, ]) \\\n",
    "    .build()\n",
    "\n",
    "\n",
    "crossval = CrossValidator(estimator=pipeline,\n",
    "                          estimatorParamMaps=paramGrid,\n",
    "                          evaluator=MulticlassClassificationEvaluator(),\n",
    "                          numFolds=3)"
   ]
  },
  {
   "cell_type": "code",
   "execution_count": 52,
   "metadata": {},
   "outputs": [],
   "source": [
    "# Run the cross-validation, and choose the best set of parameters.\n",
    "cvModelLR = crossval.fit(test_set)"
   ]
  },
  {
   "cell_type": "code",
   "execution_count": 53,
   "metadata": {
    "scrolled": true
   },
   "outputs": [
    {
     "data": {
      "text/plain": [
       "[0.8511568613231526, 0.8537100336624815]"
      ]
     },
     "execution_count": 53,
     "metadata": {},
     "output_type": "execute_result"
    }
   ],
   "source": [
    "# Drum roll.... Display the values from the Cross Valuation ML run\n",
    "cvModelLR.avgMetrics"
   ]
  },
  {
   "cell_type": "code",
   "execution_count": 54,
   "metadata": {},
   "outputs": [],
   "source": [
    "results_lr = cvModelLR.transform(test_set)"
   ]
  },
  {
   "cell_type": "code",
   "execution_count": 55,
   "metadata": {},
   "outputs": [
    {
     "name": "stdout",
     "output_type": "stream",
     "text": [
      "Accuracy for Logistic Regression Model is:  0.8820300796932111\n"
     ]
    }
   ],
   "source": [
    "print(\"Accuracy for Logistic Regression Model is: \", results_lr.filter(results_lr.label == results_lr.prediction).count()/ results_lr.count())"
   ]
  },
  {
   "cell_type": "code",
   "execution_count": 56,
   "metadata": {},
   "outputs": [],
   "source": [
    "evaluator = MulticlassClassificationEvaluator(metricName=\"f1\")"
   ]
  },
  {
   "cell_type": "code",
   "execution_count": 57,
   "metadata": {},
   "outputs": [],
   "source": [
    "score = evaluator.evaluate(results_lr)"
   ]
  },
  {
   "cell_type": "code",
   "execution_count": 58,
   "metadata": {},
   "outputs": [
    {
     "name": "stdout",
     "output_type": "stream",
     "text": [
      "F1 score for Logistic Regression model is :  0.8537909031115947\n"
     ]
    }
   ],
   "source": [
    "print(\"F1 score for Logistic Regression model is : \", score)"
   ]
  },
  {
   "cell_type": "code",
   "execution_count": 59,
   "metadata": {},
   "outputs": [],
   "source": [
    "# Set up the Random Forest model\n",
    "# I used the parameters in the Spark programming guide. \n",
    "# https://spark.apache.org/docs/2.3.0/ml-classification-regression.html#multinomial-logistic-regression\n",
    "# Pipeline code suggestions from here: https://spark.apache.org/docs/2.3.0/ml-pipeline.html\n",
    "# Good info and code suggestions for Random Forest: \n",
    "#https://towardsdatascience.com/an-implementation-and-explanation-of-the-random-forest-in-python-77bf308a9b76\n",
    "\n",
    "rf = RandomForestClassifier(labelCol=\"label\",\\\n",
    "                            featuresCol=\"ScaledFeatures\",\\\n",
    "                            featureSubsetStrategy='sqrt')\n",
    "\n",
    "# creating pipeline\n",
    "pipeline_rf = Pipeline(stages=[Gender_ndx, User_ndx, Page_ndx, Gender_one_hot,\n",
    "                            User_one_hot, Page_one_hot, assembler, Target_indexer, lr])\n",
    "\n",
    "# Build parameter grid\n",
    "paramGrid = ParamGridBuilder() \\\n",
    "    .addGrid(rf.impurity,['entropy', 'gini']) \\\n",
    "    .addGrid(rf.maxDepth,[2, 4, 6, 8]) \\\n",
    "    .addGrid(rf.numTrees,[10, 25, 50, 100]) \\\n",
    "    .build()\n",
    "\n",
    "# Cross validation evaluates\n",
    "crossval_rf = CrossValidator(estimator=pipeline_rf,\\\n",
    "                             estimatorParamMaps=paramGrid,\\\n",
    "                             evaluator=MulticlassClassificationEvaluator(),\\\n",
    "                             numFolds=3)\n",
    "\n",
    "# This was an interesting read on the fit funtionality\n",
    "# https://www.timlrx.com/2018/04/08/creating-a-custom-cross-validation-function-in-pyspark/\n",
    "\n",
    "cvModelRf = crossval_rf.fit(test_set)\n",
    "resultsRf = cvModelRf.transform(validation)"
   ]
  },
  {
   "cell_type": "code",
   "execution_count": 60,
   "metadata": {
    "scrolled": true
   },
   "outputs": [
    {
     "data": {
      "text/plain": [
       "[0.783937966294266,\n",
       " 0.783937966294266,\n",
       " 0.783937966294266,\n",
       " 0.783937966294266,\n",
       " 0.783937966294266,\n",
       " 0.783937966294266,\n",
       " 0.783937966294266,\n",
       " 0.783937966294266,\n",
       " 0.783937966294266,\n",
       " 0.783937966294266,\n",
       " 0.783937966294266,\n",
       " 0.783937966294266,\n",
       " 0.783937966294266,\n",
       " 0.783937966294266,\n",
       " 0.783937966294266,\n",
       " 0.783937966294266,\n",
       " 0.783937966294266,\n",
       " 0.783937966294266,\n",
       " 0.783937966294266,\n",
       " 0.783937966294266,\n",
       " 0.783937966294266,\n",
       " 0.783937966294266,\n",
       " 0.783937966294266,\n",
       " 0.783937966294266,\n",
       " 0.783937966294266,\n",
       " 0.783937966294266,\n",
       " 0.783937966294266,\n",
       " 0.783937966294266,\n",
       " 0.783937966294266,\n",
       " 0.783937966294266,\n",
       " 0.783937966294266,\n",
       " 0.783937966294266]"
      ]
     },
     "execution_count": 60,
     "metadata": {},
     "output_type": "execute_result"
    }
   ],
   "source": [
    "cvModelRf.avgMetrics"
   ]
  },
  {
   "cell_type": "code",
   "execution_count": 61,
   "metadata": {},
   "outputs": [
    {
     "name": "stdout",
     "output_type": "stream",
     "text": [
      "F1 score for Random Forest model is :  0.7861464794022486\n"
     ]
    }
   ],
   "source": [
    "evaluator = MulticlassClassificationEvaluator(metricName=\"f1\")\n",
    "score = evaluator.evaluate(resultsRf)\n",
    "print(\"F1 score for Random Forest model is : \", score)"
   ]
  },
  {
   "cell_type": "code",
   "execution_count": 62,
   "metadata": {
    "scrolled": true
   },
   "outputs": [
    {
     "name": "stdout",
     "output_type": "stream",
     "text": [
      "Accuracy score for Random Forest model is :  0.8481253819332111\n"
     ]
    }
   ],
   "source": [
    "evaluator = MulticlassClassificationEvaluator(metricName=\"accuracy\")\n",
    "score = evaluator.evaluate(resultsRf)\n",
    "print(\"Accuracy score for Random Forest model is : \", score)"
   ]
  },
  {
   "cell_type": "code",
   "execution_count": 63,
   "metadata": {},
   "outputs": [
    {
     "name": "stdout",
     "output_type": "stream",
     "text": [
      "The areaUnderROC on the test set is 86.71%\n"
     ]
    }
   ],
   "source": [
    "# Need to use Binary Classification Evaluator\n",
    "auc_evaluator = BinaryClassificationEvaluator()\n",
    "metric_value = auc_evaluator.evaluate(resultsRf, {auc_evaluator.metricName: \"areaUnderROC\"})\n",
    "print('The areaUnderROC on the test set is {:.2%}'.format(metric_value))"
   ]
  },
  {
   "cell_type": "code",
   "execution_count": 64,
   "metadata": {
    "scrolled": false
   },
   "outputs": [
    {
     "name": "stdout",
     "output_type": "stream",
     "text": [
      "Number of models to be tested:  32\n"
     ]
    }
   ],
   "source": [
    "print('Number of models to be tested: ', len(paramGrid))"
   ]
  },
  {
   "cell_type": "markdown",
   "metadata": {},
   "source": [
    "# Conclusion\n",
    "\n",
    "We have a starting point with our Logistic Regression model with the F1 score of .85. As suggested, we'll use the F1 score as the intial criteria. \n",
    "\n",
    "With customer churn, the historical data is golden as we know who did and did not churn. Our data set offers us this as the basis for training our model, and we have two immediate actions we can take:\n",
    "\n",
    "1) Look at the current customers and create an assessment of who will be likely to churn based on using our model. Those customers may need some further incentive to stay, such as a financial incentive for our paying customers and a reduction in ad frequency for our free customers.\n",
    "\n",
    "2) Examine all new customers and make an assessment of their likelyhood to churn.\n",
    "\n",
    "Sparkify managment also needs to review their free customer paradigm. We were not provided the data the shows how profitable free vs. paying customer are. It's not a simple choice to say that Sparkify makes more money on the paying customers over the free customers. Potentially the ad revenue compensates more than the pay revenue; the record/music companies that supply Sparkify their music to play may offer financial incentives based on advertisement. There are many factors in play here.\n",
    "\n",
    "Should paying customer generate more revenue than free customers, the next model set to be built and tested would be building a prediction model to determine propensity to upgrade. Our dataset provides a good starting point for that, again that would be a binary classification problem (\"Did the customer upgrade: Yes or No?\")\n",
    "\n",
    "Sparkify appears to be an active site; there are a lot of songs being played, playlists created, and friends added. All of those are potential features to continue to mine and refine. This is all part of the ML discovery process. \n",
    "\n",
    "Pyspark and Big Data are also key elements of the technology here. Being able to assess large volumes of data via Hadoop, HDFS, and Spark represents an ability to keep tied into the Sparkify user community in an accurate and also fairly inobstrusive way via log data analysis. \n",
    "\n",
    "Data Privacy is an element that should likely be addressed as well, as the log data set includes both name and location data. There are a number of useful data obfuscation/anonymization techniques available. Sparkify would be advised to review their data privacy policies. \n",
    "\n",
    "Lastly, Pyspark represents a very useful way of approaching Big Data programming married with the efficiency and ease of Python programming. In the world of Data Science, both Python and SQL programming skills are both useful to have and faily plentiful in the labor market. \n",
    "\n",
    "Sparkify is off to a good start with the approach to both Big Data and Data Science!"
   ]
  },
  {
   "cell_type": "markdown",
   "metadata": {},
   "source": [
    "# Improvement\n",
    "\n",
    "These are the next areas I would improve this exercise with:\n",
    "\n",
    "1) Tuning\n",
    "Here's a great guide: https://medium.com/rahasak/random-forest-classifier-with-apache-spark-c63b4a23a7cc\n",
    "and here: https://towardsdatascience.com/an-implementation-and-explanation-of-the-random-forest-in-python-77bf308a9b76\n",
    "\n",
    "2) Cracking the code on displaying a good, readable, \"most important features\" list. Here is a good start:\n",
    "\n",
    "https://www.timlrx.com/2018/06/19/feature-selection-using-feature-importance-score-creating-a-pyspark-estimator/\n",
    "\n",
    "3) Add more metrics for analysis\n",
    "\n",
    "There are a lot of good metrics and evaluation metrics from MulticlassMetrics. You'll need to include: \n",
    "\n",
    "\"from pyspark.mllib.evaluation import MulticlassMetrics\"\n",
    "\n",
    "Here are some good references and code samples for getting further details\n",
    "\n",
    "https://spark.apache.org/docs/2.3.0/api/python/_modules/pyspark/mllib/evaluation.html\n",
    "\n",
    "and a potpourri of evaluation metrics: https://spark.apache.org/docs/2.3.0/mllib-evaluation-metrics.html\n",
    "\n",
    "4) Sparkify needs to review their data privacy program. Good info on Python and data obfuscation/redaction:\n",
    "\n",
    "https://medium.com/district-data-labs/a-practical-guide-to-anonymizing-datasets-with-python-faker-ecf15114c9be\n",
    "\n",
    "https://towardsdatascience.com/revolutionising-redaction-my-final-year-project-fe664e28ef84"
   ]
  },
  {
   "cell_type": "markdown",
   "metadata": {},
   "source": [
    "# Final Steps\n",
    "Clean up your code, adding comments and renaming variables to make the code easier to read and maintain. Refer to the Spark Project Overview page and Data Scientist Capstone Project Rubric to make sure you are including all components of the capstone project and meet all expectations. Remember, this includes thorough documentation in a README file in a Github repository, as well as a web app or blog post."
   ]
  },
  {
   "cell_type": "code",
   "execution_count": null,
   "metadata": {},
   "outputs": [],
   "source": []
  }
 ],
 "metadata": {
  "kernelspec": {
   "display_name": "Python 3",
   "language": "python",
   "name": "python3"
  },
  "language_info": {
   "codemirror_mode": {
    "name": "ipython",
    "version": 3
   },
   "file_extension": ".py",
   "mimetype": "text/x-python",
   "name": "python",
   "nbconvert_exporter": "python",
   "pygments_lexer": "ipython3",
   "version": "3.7.6"
  }
 },
 "nbformat": 4,
 "nbformat_minor": 4
}
